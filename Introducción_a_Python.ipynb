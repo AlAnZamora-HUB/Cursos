{
  "nbformat": 4,
  "nbformat_minor": 0,
  "metadata": {
    "colab": {
      "provenance": [],
      "include_colab_link": true
    },
    "kernelspec": {
      "name": "python3",
      "display_name": "Python 3"
    }
  },
  "cells": [
    {
      "cell_type": "markdown",
      "metadata": {
        "id": "view-in-github",
        "colab_type": "text"
      },
      "source": [
        "<a href=\"https://colab.research.google.com/github/DIFACQUIM/Cursos/blob/main/Introducci%C3%B3n_a_Python.ipynb\" target=\"_parent\"><img src=\"https://colab.research.google.com/assets/colab-badge.svg\" alt=\"Open In Colab\"/></a>"
      ]
    },
    {
      "cell_type": "markdown",
      "metadata": {
        "id": "GYJlZ0ig2o32"
      },
      "source": [
        "# Introducción a Python\n",
        "\n"
      ]
    },
    {
      "cell_type": "markdown",
      "source": [
        "# Objetivos \n",
        "\n",
        "---\n",
        "\n",
        "* Introducir definiciones y funciones básicas de Python.\n",
        "* Presentar el concepto de librerías/paqueterías.\n",
        "* Aprender a importar *dataset* existentes.\n",
        "* Aprender a realizar gráficos sencillos para la visualizacion de datos."
      ],
      "metadata": {
        "id": "rsaQsNSIFVz-"
      }
    },
    {
      "cell_type": "markdown",
      "source": [
        "# Introducción: \n",
        "\n",
        "[Python](https://docs.python.org/3/) es un lenguaje de programación interpretado y orientado a objetos. La amplia aplicabilidad y el soporte de paqueterías con las que cuenta, permiten que se construyan productos y software altamente versátiles y escalables en el mundo real.\n",
        "En la ciencia, cada vez es más recurrente el uso de Python en áreas como la bioinformática y la quimioinformática para el manejo y análisis de datos complejos, como datos genómicos, imágenes médicas, registros médicos electrónicos y bases de datos de miles (incluso millones) de compuestos químicos. Python se ha convertido en un lenguaje de programación muy atractivo en el campo de la bioinformática y la quimioinformática debido a su rápida curva de aprendizaje y su fácil integración en varios aplicaciones.\n"
      ],
      "metadata": {
        "id": "NiHvaOvAxd-s"
      }
    },
    {
      "cell_type": "markdown",
      "metadata": {
        "id": "li3hHeuCFhKi"
      },
      "source": [
        "### Tabla de Contenidos\n",
        "\n",
        "---\n",
        "* [Datos](#Datos)\n",
        "* [Variables](#Variables)\n",
        "* [Funciones](#Funciones)\n",
        "* [Librerías/paqueterías](#Librerias/Paqueterias)\n",
        "* [Tablas](#Manipulacion_de_tablas)\n",
        "* [Simple plots](#Simple_plots)\n",
        "* [Multiple plots](#Multiple_plots)\n",
        "* [Regresión lineal](#Regresion_lineal)\n",
        "* [Limpieza de datos](#Regresion_lineal)\n",
        "\n",
        "\n",
        "\n",
        "\n"
      ]
    },
    {
      "cell_type": "markdown",
      "metadata": {
        "id": "t0tkuKAVRHqb"
      },
      "source": [
        "# Datos <a class=\"anchor\" id=\"Datos\"></a>\n",
        "\n",
        "---\n",
        "En Python hay tipos específicos de valores que podemos usar. A continuación se mencionan los diferetes tipos de datos en Python junto con algunos ejemplos:\n",
        "\n",
        "*   Boolean (bool): es una variable que puede ser _verdadera_ o _falsa_.\n",
        "\n",
        "*   Integer (int): representa números enteros positivos o negativos, como 8 o -678.\n",
        "\n",
        "*   Floating point number (float): representa números reales, como  3.14159 or -6.5.\n",
        "\n",
        "*    String de caracteres llamado “string”, str : son cadenas de caracteres, es decir, valores de texto, por ejemplo \"hola\" o \"banana\".\n",
        "\n",
        "*   Listas (list) : este tipo de valor es una lista, ya sea de valores integer o float. Por ejemplo: [1,2,3,4] o [1.23, 2, 3.54, 4]\n",
        "\n",
        "Para confirmar el tipo de valor con el que estamos trabajando podemos hacer uso de  **type( )** y el nombre de la variable dentro de los parentesis.\n",
        "\n",
        "Para más información, consulten la [documentación](https://docs.python.org/3/library/stdtypes.html \"Python's Built-in Types\").\n",
        "\n"
      ]
    },
    {
      "cell_type": "markdown",
      "metadata": {
        "id": "QBuGVFyXlame"
      },
      "source": [
        "El operador de comparación **==** compara si dos valores son iguales. Nos devuelve un tipo de variable llamado \"boolean\" o booleana, que puede ser _verdadera_ o _falsa_, como vamos a explicar en la próxima sección.\n"
      ]
    },
    {
      "cell_type": "code",
      "source": [
        "a= 3"
      ],
      "metadata": {
        "id": "bIWRcSFEVt4A"
      },
      "execution_count": null,
      "outputs": []
    },
    {
      "cell_type": "code",
      "metadata": {
        "id": "QJV984oSla95",
        "colab": {
          "base_uri": "https://localhost:8080/"
        },
        "outputId": "038eaa8c-4b85-41c0-e52f-4abe4013eefb"
      },
      "source": [
        "a == 2"
      ],
      "execution_count": null,
      "outputs": [
        {
          "output_type": "execute_result",
          "data": {
            "text/plain": [
              "False"
            ]
          },
          "metadata": {},
          "execution_count": 2
        }
      ]
    },
    {
      "cell_type": "code",
      "source": [
        "type(0.8)"
      ],
      "metadata": {
        "id": "wCOHw2kQtPkb",
        "colab": {
          "base_uri": "https://localhost:8080/"
        },
        "outputId": "79e6f36e-3b91-486f-d2c1-2d891f16c5c8"
      },
      "execution_count": null,
      "outputs": [
        {
          "output_type": "execute_result",
          "data": {
            "text/plain": [
              "float"
            ]
          },
          "metadata": {},
          "execution_count": 3
        }
      ]
    },
    {
      "cell_type": "code",
      "metadata": {
        "id": "7q4Uw8X9LRgf",
        "colab": {
          "base_uri": "https://localhost:8080/"
        },
        "outputId": "a0e3f4b1-dcc8-4e49-c090-3907849972fa"
      },
      "source": [
        "type(5)"
      ],
      "execution_count": null,
      "outputs": [
        {
          "output_type": "execute_result",
          "data": {
            "text/plain": [
              "int"
            ]
          },
          "metadata": {},
          "execution_count": 4
        }
      ]
    },
    {
      "cell_type": "markdown",
      "metadata": {
        "id": "f0IomoI3pVTo"
      },
      "source": [
        "Como ya se mencionó, un valor de texto es un _string_. Para dar la instrucción de que queremos imprimir texto, usamos comillas simples o dobles (\" \" o ' ')."
      ]
    },
    {
      "cell_type": "code",
      "metadata": {
        "id": "JhJ4TqLkbiRN",
        "colab": {
          "base_uri": "https://localhost:8080/",
          "height": 35
        },
        "outputId": "efafc319-0f9c-431d-f0ab-ac597b168f88"
      },
      "source": [
        "'this is a string'"
      ],
      "execution_count": null,
      "outputs": [
        {
          "output_type": "execute_result",
          "data": {
            "text/plain": [
              "'this is a string'"
            ],
            "application/vnd.google.colaboratory.intrinsic+json": {
              "type": "string"
            }
          },
          "metadata": {},
          "execution_count": 5
        }
      ]
    },
    {
      "cell_type": "markdown",
      "metadata": {
        "id": "l6E6KqusbS5a"
      },
      "source": [
        "Una cadena es un grupo de caracteres que puede contener números o no, pero si los contiene, no seguirá ningún axioma matemático conocido. Verifiquemos qué sucede cuando tratamos de sumar 50, 25 y X. Esto concatenará cadenas.\n"
      ]
    },
    {
      "cell_type": "code",
      "metadata": {
        "id": "ouI30KRhLENk",
        "colab": {
          "base_uri": "https://localhost:8080/",
          "height": 35
        },
        "outputId": "a2519ed3-b7ff-4490-8559-3eeb38f4c18c"
      },
      "source": [
        "'50'+'25'+'X'"
      ],
      "execution_count": null,
      "outputs": [
        {
          "output_type": "execute_result",
          "data": {
            "text/plain": [
              "'5025X'"
            ],
            "application/vnd.google.colaboratory.intrinsic+json": {
              "type": "string"
            }
          },
          "metadata": {},
          "execution_count": 6
        }
      ]
    },
    {
      "cell_type": "markdown",
      "metadata": {
        "id": "mycMQv_7eyXZ"
      },
      "source": [
        "Las listas son tipos de datos importantes que permiten almacenar múltiples elementos en una sola variable. Los elementos están ordenados y se pueden cambiar después de la creación de la lista. Cada elemento tiene un índice, el primer elemento tiene índice [0], el segundo elemento tiene índice [1], etc."
      ]
    },
    {
      "cell_type": "code",
      "metadata": {
        "id": "O90VrVUVRG_O",
        "colab": {
          "base_uri": "https://localhost:8080/",
          "height": 35
        },
        "outputId": "8d67fc03-37ab-4ae3-cc21-d72ab85c7f7d"
      },
      "source": [
        " list = [\"element1\", 2, 3.14]\n",
        " list[0]"
      ],
      "execution_count": null,
      "outputs": [
        {
          "output_type": "execute_result",
          "data": {
            "text/plain": [
              "'element1'"
            ],
            "application/vnd.google.colaboratory.intrinsic+json": {
              "type": "string"
            }
          },
          "metadata": {},
          "execution_count": 7
        }
      ]
    },
    {
      "cell_type": "markdown",
      "metadata": {
        "id": "cih8ETmIQldB"
      },
      "source": [
        "#Variables <a class=\"anchor\" id=\"Variables\"></a>\n",
        "---\n",
        "\n",
        "Las variables son nombres dados a elementos de datos que pueden tomar uno o más valores durante el tiempo de ejecución de un programa.\n",
        "Las siguientes son las convenciones de nomenclatura de variables en python:\n",
        "* No puede comenzar con un número.\n",
        "* Debe ser una sola palabra.\n",
        "* Debe constar únicamente de letras y símbolos _.\n",
        "* Las variables en Python que comienzan con _ (guión bajo) se consideran \"inútiles\"."
      ]
    },
    {
      "cell_type": "code",
      "metadata": {
        "id": "ovwylM5j2y5a"
      },
      "source": [
        "a = 1\n",
        "b = 2\n",
        "suma = a + b\n",
        "exponente = suma ** b"
      ],
      "execution_count": null,
      "outputs": []
    },
    {
      "cell_type": "code",
      "metadata": {
        "id": "zcIss8eSWqhy",
        "colab": {
          "base_uri": "https://localhost:8080/"
        },
        "outputId": "49b2d747-a069-472a-dfc2-4fdf7de87b00"
      },
      "source": [
        "suma"
      ],
      "execution_count": null,
      "outputs": [
        {
          "output_type": "execute_result",
          "data": {
            "text/plain": [
              "3"
            ]
          },
          "metadata": {},
          "execution_count": 9
        }
      ]
    },
    {
      "cell_type": "code",
      "metadata": {
        "id": "i0Lcuu7CWsky",
        "colab": {
          "base_uri": "https://localhost:8080/"
        },
        "outputId": "aea59d17-b1e5-4e34-8030-9cf76bb7abf8"
      },
      "source": [
        "exponente"
      ],
      "execution_count": null,
      "outputs": [
        {
          "output_type": "execute_result",
          "data": {
            "text/plain": [
              "9"
            ]
          },
          "metadata": {},
          "execution_count": 10
        }
      ]
    },
    {
      "cell_type": "markdown",
      "source": [
        "### Conversión de tipos de datos \n",
        "\n",
        "La conversión de tipos es básicamente una conversión de variables de un tipo de datos particular en algún otro tipo de datos, de modo que la conversión sea válida. La conversión de tipos puede ser de dos maneras: implícita o explícita.\n",
        "\n"
      ],
      "metadata": {
        "id": "QBDASRQ5i5zq"
      }
    },
    {
      "cell_type": "markdown",
      "source": [
        "![1_Colab.png](data:image/png;base64,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)"
      ],
      "metadata": {
        "id": "PDKJT8yTnls1"
      }
    },
    {
      "cell_type": "markdown",
      "source": [
        "Conversión de tipos implícita: en la conversión de tipos implícita, el compilador de Python convierte internamente una variable en otro tipo sin la acción externa del usuario.\n",
        "Ejemplo:"
      ],
      "metadata": {
        "id": "Hb_65TNSlGuY"
      }
    },
    {
      "cell_type": "code",
      "source": [
        "int_num = 100\n",
        "float_num = 1.01\n",
        "ans = int_num + float_num\n",
        "print(type(int_num))\n",
        "print(type(float_num))\n",
        "# ans is implicitly typecasted to float type for greater precision\n",
        "print(type(ans))"
      ],
      "metadata": {
        "colab": {
          "base_uri": "https://localhost:8080/"
        },
        "id": "bt9PQE25jteI",
        "outputId": "d679c149-fb87-4ef4-d407-4293d1147bab"
      },
      "execution_count": null,
      "outputs": [
        {
          "output_type": "stream",
          "name": "stdout",
          "text": [
            "<class 'int'>\n",
            "<class 'float'>\n",
            "<class 'float'>\n"
          ]
        }
      ]
    },
    {
      "cell_type": "markdown",
      "source": [
        "Conversión de tipo explícito: en la conversión de tipo explícito, el usuario obliga explícitamente al compilador a convertir una variable de un tipo a otro. Algunas de las diferentes formas de conversión explícita se muestran a continuación:"
      ],
      "metadata": {
        "id": "C5cLe1whn9mS"
      }
    },
    {
      "cell_type": "markdown",
      "source": [
        "* int a *String* o float: "
      ],
      "metadata": {
        "id": "bjruhFg8v8kW"
      }
    },
    {
      "cell_type": "code",
      "source": [
        "var = 123\n",
        "str(var)\n",
        "'123'\n",
        "\n",
        "var = 123\n",
        "float(var)\n",
        "123.0"
      ],
      "metadata": {
        "colab": {
          "base_uri": "https://localhost:8080/"
        },
        "id": "JEOqm4pwv6SO",
        "outputId": "5de15b0d-536b-4a3a-9e74-ecd8fba6b53c"
      },
      "execution_count": null,
      "outputs": [
        {
          "output_type": "execute_result",
          "data": {
            "text/plain": [
              "123.0"
            ]
          },
          "metadata": {},
          "execution_count": 12
        }
      ]
    },
    {
      "cell_type": "markdown",
      "source": [
        "* float a int"
      ],
      "metadata": {
        "id": "dxYM-m4Ow3PX"
      }
    },
    {
      "cell_type": "code",
      "source": [
        "var = 7.8\n",
        "print(int(var))\n",
        "7"
      ],
      "metadata": {
        "colab": {
          "base_uri": "https://localhost:8080/"
        },
        "id": "e1e6ZtYAw1IY",
        "outputId": "2fd13d70-28db-4703-e392-b6f0f60e820f"
      },
      "execution_count": null,
      "outputs": [
        {
          "output_type": "stream",
          "name": "stdout",
          "text": [
            "7\n"
          ]
        },
        {
          "output_type": "execute_result",
          "data": {
            "text/plain": [
              "7"
            ]
          },
          "metadata": {},
          "execution_count": 13
        }
      ]
    },
    {
      "cell_type": "markdown",
      "metadata": {
        "id": "LsNkaeDYRLOK"
      },
      "source": [
        "# Funciones\n",
        "---\n",
        "Empecemos definiendo una **función** como una pieza reusable de código, que sólo es ejecutada cuando se la llama.Python tiene algunas funciones integradas, como **print()** (que usamos previamente), **sum()** y **pow()**. \n",
        "\n",
        "La función **print()** de Python nos permite visualizar el valor de una dada variable después de calcularla.\n",
        "\n",
        "Para más información acerca de las funciones integradas de Python, dirigirse a la [documentación de Pyhton](https://docs.python.org/3/library/functions.html \"Python's Built-in Functions\").\n",
        "\n",
        "\n"
      ]
    },
    {
      "cell_type": "code",
      "metadata": {
        "id": "NpKM3o2GWWas",
        "colab": {
          "base_uri": "https://localhost:8080/"
        },
        "outputId": "4ab3c4d2-caa0-4469-e35c-755080032144"
      },
      "source": [
        "print(\"Hello World!\")"
      ],
      "execution_count": null,
      "outputs": [
        {
          "output_type": "stream",
          "name": "stdout",
          "text": [
            "Hello World!\n"
          ]
        }
      ]
    },
    {
      "cell_type": "code",
      "metadata": {
        "id": "GvkOVTp4qB2O",
        "colab": {
          "base_uri": "https://localhost:8080/"
        },
        "outputId": "4de73e9b-86ca-4517-c300-8e8494a9b3fd"
      },
      "source": [
        "sum([1,2])"
      ],
      "execution_count": null,
      "outputs": [
        {
          "output_type": "execute_result",
          "data": {
            "text/plain": [
              "3"
            ]
          },
          "metadata": {},
          "execution_count": 15
        }
      ]
    },
    {
      "cell_type": "code",
      "metadata": {
        "id": "BuRsD2dFqEtS",
        "colab": {
          "base_uri": "https://localhost:8080/"
        },
        "outputId": "470019f5-c53a-4308-a62a-23ab7a2ec1cd"
      },
      "source": [
        "pow(3,2)"
      ],
      "execution_count": null,
      "outputs": [
        {
          "output_type": "execute_result",
          "data": {
            "text/plain": [
              "9"
            ]
          },
          "metadata": {},
          "execution_count": 16
        }
      ]
    },
    {
      "cell_type": "markdown",
      "metadata": {
        "id": "Sq4KIMndWZ2A"
      },
      "source": [
        "Aparte de estas funciones integradas se puede definir nuestras propias funciones. Muchas veces queremos reutilizar algún código para calcular resultados basados en datos diferentes. Por eso es bastante común condensar este código en forma de **Funciones**.\n",
        "\n",
        "\n",
        "Para empezar a escribir una función, empezamos escribiendo la palabra \"*def*\", seguida de una indentación (espacios en blanco o tabulaciones), para que sea fácil de reconocer.\n",
        "\n",
        "Para entender mejor las funciones, debemos introducir el concepto de **parámetro** y **argumento**. Un *parámetro* es una variable que se define al declarar la función, los parámetros se escriben entre paréntesis. El *argumento* de un parámetro dado es el valor real del parámetro que se pasa a la función. \n",
        "\n",
        "Adicionalmente necesitamos especificar cuáles son las **salidas** de nuestra función para que podamos llamarlas individualmente según las necesitemos. Estas salidas se definen como nuevas variables que dependen de nuestros parámetros previamente definidos. Están determinadas por la palabra \"_return_\".\n",
        "\n",
        "\n",
        "\n",
        "\n"
      ]
    },
    {
      "cell_type": "markdown",
      "source": [
        "![2. Colab.png](data:image/png;base64,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)\n",
        "\n",
        "Imagen traducida de [InterviewBit](https://www.interviewbit.com/python-cheat-sheet/). recuperado en julio del 2022."
      ],
      "metadata": {
        "id": "UVzffDZfyC68"
      }
    },
    {
      "cell_type": "markdown",
      "source": [
        "Reescribamos nuestro código matemático anterior en una *función* para dejarlo claro:"
      ],
      "metadata": {
        "id": "X9UxBGCYzdhV"
      }
    },
    {
      "cell_type": "code",
      "metadata": {
        "id": "9bZqlk5VXnS1",
        "colab": {
          "base_uri": "https://localhost:8080/"
        },
        "outputId": "cdc59a9e-5cbf-45b2-dc7f-d4975b3f2e83"
      },
      "source": [
        "def function_add (arg1,arg2):\n",
        "    # The scope of the variable result is within the function_add and is called local.\n",
        "    result = arg1 + arg2\n",
        "    result2= arg1*arg2\n",
        "    return result, result2\n",
        "\n",
        "function_add(4,2)"
      ],
      "execution_count": null,
      "outputs": [
        {
          "output_type": "execute_result",
          "data": {
            "text/plain": [
              "(6, 8)"
            ]
          },
          "metadata": {},
          "execution_count": 17
        }
      ]
    },
    {
      "cell_type": "markdown",
      "metadata": {
        "id": "UdCaoRaEQq1U"
      },
      "source": [
        "# Librerías/Paqueterías\n",
        "---\n",
        "\n"
      ]
    },
    {
      "cell_type": "markdown",
      "metadata": {
        "id": "PIp2idj6Pl96"
      },
      "source": [
        "Para empezar a trabajar con los datos, primero debemos importar \"**módulos**\", que son programas hechos por otras personas o grupos de personas. En esta sección importaremos los siguientes módulos para la gestión de datos: \n",
        "\n",
        "`Pandas` proporciona funciones que generan tablas y nos permiten hacer diferentes tipos de procesamiento de datos. [Documentación Pandas](https://pandas.pydata.org/docs/)\n",
        "\n",
        "`Seaborn ` nos permite trabajar con las funciones estadísticas habituales y visualizar grandes conjuntos de datos gráficamente con una sintaxis simple. Para trabajar con Seaborn también necesitamos importar la librería gráfica `matplotlib`. [Documentación Seaborn ](https://seaborn.pydata.org/)\n",
        "\n",
        "Con el comando \"*import*\" podemos importar los módulos que necesitamos y que están guardados en nuestra computadora, siendo éste un notebook online, los módulos ya están instalados en una computadora externa. \n",
        "\n",
        "Pandas y Seaborn trabajan con conjuntos de datos en forma de tablas llamadas *dataframes* Estos *dataframes* son esencialmente tablas de datos alineados en filas y columnas etiquetadas. \n"
      ]
    },
    {
      "cell_type": "code",
      "metadata": {
        "id": "4VBTMM6-5u3H"
      },
      "source": [
        "import pandas as pd\n",
        "import seaborn as sns\n",
        "#El comando \"as\" dice el nombre que le queremos dar al módulo para después llamarlo de una forma abreviada."
      ],
      "execution_count": null,
      "outputs": []
    },
    {
      "cell_type": "markdown",
      "source": [
        "Cargaremos un conjunto de datos preexistente dentro del módulo Seaborn. El conjunto de datos con el que trabajaremos se llama \"anascombe\" . "
      ],
      "metadata": {
        "id": "a0-aCSkKm_fU"
      }
    },
    {
      "cell_type": "code",
      "metadata": {
        "id": "cF7DoNAg5xue"
      },
      "source": [
        "df = sns.load_dataset('anscombe')"
      ],
      "execution_count": null,
      "outputs": []
    },
    {
      "cell_type": "code",
      "metadata": {
        "id": "egHj1uEJEeE-",
        "colab": {
          "base_uri": "https://localhost:8080/",
          "height": 1000
        },
        "outputId": "ea7dd14f-e016-4792-d737-521593b742b3"
      },
      "source": [
        "#Veamos la forma de los datos que importamos, los notebooks son capaces de imprimir los datos en forma de tablas\n",
        "df\n",
        "#Notemos que existe una columna que clasifica los datos en 3 regiones I, II y III, donde simplemente cambia la tenendencia de la función y permite hacer análisis variados y sencillos de muestra en esos dominios."
      ],
      "execution_count": null,
      "outputs": [
        {
          "output_type": "execute_result",
          "data": {
            "text/plain": [
              "   dataset     x      y\n",
              "0        I  10.0   8.04\n",
              "1        I   8.0   6.95\n",
              "2        I  13.0   7.58\n",
              "3        I   9.0   8.81\n",
              "4        I  11.0   8.33\n",
              "5        I  14.0   9.96\n",
              "6        I   6.0   7.24\n",
              "7        I   4.0   4.26\n",
              "8        I  12.0  10.84\n",
              "9        I   7.0   4.82\n",
              "10       I   5.0   5.68\n",
              "11      II  10.0   9.14\n",
              "12      II   8.0   8.14\n",
              "13      II  13.0   8.74\n",
              "14      II   9.0   8.77\n",
              "15      II  11.0   9.26\n",
              "16      II  14.0   8.10\n",
              "17      II   6.0   6.13\n",
              "18      II   4.0   3.10\n",
              "19      II  12.0   9.13\n",
              "20      II   7.0   7.26\n",
              "21      II   5.0   4.74\n",
              "22     III  10.0   7.46\n",
              "23     III   8.0   6.77\n",
              "24     III  13.0  12.74\n",
              "25     III   9.0   7.11\n",
              "26     III  11.0   7.81\n",
              "27     III  14.0   8.84\n",
              "28     III   6.0   6.08\n",
              "29     III   4.0   5.39\n",
              "30     III  12.0   8.15\n",
              "31     III   7.0   6.42\n",
              "32     III   5.0   5.73\n",
              "33      IV   8.0   6.58\n",
              "34      IV   8.0   5.76\n",
              "35      IV   8.0   7.71\n",
              "36      IV   8.0   8.84\n",
              "37      IV   8.0   8.47\n",
              "38      IV   8.0   7.04\n",
              "39      IV   8.0   5.25\n",
              "40      IV  19.0  12.50\n",
              "41      IV   8.0   5.56\n",
              "42      IV   8.0   7.91\n",
              "43      IV   8.0   6.89"
            ],
            "text/html": [
              "\n",
              "  <div id=\"df-05bbc998-41e9-4a75-999a-ddf0577a2b13\">\n",
              "    <div class=\"colab-df-container\">\n",
              "      <div>\n",
              "<style scoped>\n",
              "    .dataframe tbody tr th:only-of-type {\n",
              "        vertical-align: middle;\n",
              "    }\n",
              "\n",
              "    .dataframe tbody tr th {\n",
              "        vertical-align: top;\n",
              "    }\n",
              "\n",
              "    .dataframe thead th {\n",
              "        text-align: right;\n",
              "    }\n",
              "</style>\n",
              "<table border=\"1\" class=\"dataframe\">\n",
              "  <thead>\n",
              "    <tr style=\"text-align: right;\">\n",
              "      <th></th>\n",
              "      <th>dataset</th>\n",
              "      <th>x</th>\n",
              "      <th>y</th>\n",
              "    </tr>\n",
              "  </thead>\n",
              "  <tbody>\n",
              "    <tr>\n",
              "      <th>0</th>\n",
              "      <td>I</td>\n",
              "      <td>10.0</td>\n",
              "      <td>8.04</td>\n",
              "    </tr>\n",
              "    <tr>\n",
              "      <th>1</th>\n",
              "      <td>I</td>\n",
              "      <td>8.0</td>\n",
              "      <td>6.95</td>\n",
              "    </tr>\n",
              "    <tr>\n",
              "      <th>2</th>\n",
              "      <td>I</td>\n",
              "      <td>13.0</td>\n",
              "      <td>7.58</td>\n",
              "    </tr>\n",
              "    <tr>\n",
              "      <th>3</th>\n",
              "      <td>I</td>\n",
              "      <td>9.0</td>\n",
              "      <td>8.81</td>\n",
              "    </tr>\n",
              "    <tr>\n",
              "      <th>4</th>\n",
              "      <td>I</td>\n",
              "      <td>11.0</td>\n",
              "      <td>8.33</td>\n",
              "    </tr>\n",
              "    <tr>\n",
              "      <th>5</th>\n",
              "      <td>I</td>\n",
              "      <td>14.0</td>\n",
              "      <td>9.96</td>\n",
              "    </tr>\n",
              "    <tr>\n",
              "      <th>6</th>\n",
              "      <td>I</td>\n",
              "      <td>6.0</td>\n",
              "      <td>7.24</td>\n",
              "    </tr>\n",
              "    <tr>\n",
              "      <th>7</th>\n",
              "      <td>I</td>\n",
              "      <td>4.0</td>\n",
              "      <td>4.26</td>\n",
              "    </tr>\n",
              "    <tr>\n",
              "      <th>8</th>\n",
              "      <td>I</td>\n",
              "      <td>12.0</td>\n",
              "      <td>10.84</td>\n",
              "    </tr>\n",
              "    <tr>\n",
              "      <th>9</th>\n",
              "      <td>I</td>\n",
              "      <td>7.0</td>\n",
              "      <td>4.82</td>\n",
              "    </tr>\n",
              "    <tr>\n",
              "      <th>10</th>\n",
              "      <td>I</td>\n",
              "      <td>5.0</td>\n",
              "      <td>5.68</td>\n",
              "    </tr>\n",
              "    <tr>\n",
              "      <th>11</th>\n",
              "      <td>II</td>\n",
              "      <td>10.0</td>\n",
              "      <td>9.14</td>\n",
              "    </tr>\n",
              "    <tr>\n",
              "      <th>12</th>\n",
              "      <td>II</td>\n",
              "      <td>8.0</td>\n",
              "      <td>8.14</td>\n",
              "    </tr>\n",
              "    <tr>\n",
              "      <th>13</th>\n",
              "      <td>II</td>\n",
              "      <td>13.0</td>\n",
              "      <td>8.74</td>\n",
              "    </tr>\n",
              "    <tr>\n",
              "      <th>14</th>\n",
              "      <td>II</td>\n",
              "      <td>9.0</td>\n",
              "      <td>8.77</td>\n",
              "    </tr>\n",
              "    <tr>\n",
              "      <th>15</th>\n",
              "      <td>II</td>\n",
              "      <td>11.0</td>\n",
              "      <td>9.26</td>\n",
              "    </tr>\n",
              "    <tr>\n",
              "      <th>16</th>\n",
              "      <td>II</td>\n",
              "      <td>14.0</td>\n",
              "      <td>8.10</td>\n",
              "    </tr>\n",
              "    <tr>\n",
              "      <th>17</th>\n",
              "      <td>II</td>\n",
              "      <td>6.0</td>\n",
              "      <td>6.13</td>\n",
              "    </tr>\n",
              "    <tr>\n",
              "      <th>18</th>\n",
              "      <td>II</td>\n",
              "      <td>4.0</td>\n",
              "      <td>3.10</td>\n",
              "    </tr>\n",
              "    <tr>\n",
              "      <th>19</th>\n",
              "      <td>II</td>\n",
              "      <td>12.0</td>\n",
              "      <td>9.13</td>\n",
              "    </tr>\n",
              "    <tr>\n",
              "      <th>20</th>\n",
              "      <td>II</td>\n",
              "      <td>7.0</td>\n",
              "      <td>7.26</td>\n",
              "    </tr>\n",
              "    <tr>\n",
              "      <th>21</th>\n",
              "      <td>II</td>\n",
              "      <td>5.0</td>\n",
              "      <td>4.74</td>\n",
              "    </tr>\n",
              "    <tr>\n",
              "      <th>22</th>\n",
              "      <td>III</td>\n",
              "      <td>10.0</td>\n",
              "      <td>7.46</td>\n",
              "    </tr>\n",
              "    <tr>\n",
              "      <th>23</th>\n",
              "      <td>III</td>\n",
              "      <td>8.0</td>\n",
              "      <td>6.77</td>\n",
              "    </tr>\n",
              "    <tr>\n",
              "      <th>24</th>\n",
              "      <td>III</td>\n",
              "      <td>13.0</td>\n",
              "      <td>12.74</td>\n",
              "    </tr>\n",
              "    <tr>\n",
              "      <th>25</th>\n",
              "      <td>III</td>\n",
              "      <td>9.0</td>\n",
              "      <td>7.11</td>\n",
              "    </tr>\n",
              "    <tr>\n",
              "      <th>26</th>\n",
              "      <td>III</td>\n",
              "      <td>11.0</td>\n",
              "      <td>7.81</td>\n",
              "    </tr>\n",
              "    <tr>\n",
              "      <th>27</th>\n",
              "      <td>III</td>\n",
              "      <td>14.0</td>\n",
              "      <td>8.84</td>\n",
              "    </tr>\n",
              "    <tr>\n",
              "      <th>28</th>\n",
              "      <td>III</td>\n",
              "      <td>6.0</td>\n",
              "      <td>6.08</td>\n",
              "    </tr>\n",
              "    <tr>\n",
              "      <th>29</th>\n",
              "      <td>III</td>\n",
              "      <td>4.0</td>\n",
              "      <td>5.39</td>\n",
              "    </tr>\n",
              "    <tr>\n",
              "      <th>30</th>\n",
              "      <td>III</td>\n",
              "      <td>12.0</td>\n",
              "      <td>8.15</td>\n",
              "    </tr>\n",
              "    <tr>\n",
              "      <th>31</th>\n",
              "      <td>III</td>\n",
              "      <td>7.0</td>\n",
              "      <td>6.42</td>\n",
              "    </tr>\n",
              "    <tr>\n",
              "      <th>32</th>\n",
              "      <td>III</td>\n",
              "      <td>5.0</td>\n",
              "      <td>5.73</td>\n",
              "    </tr>\n",
              "    <tr>\n",
              "      <th>33</th>\n",
              "      <td>IV</td>\n",
              "      <td>8.0</td>\n",
              "      <td>6.58</td>\n",
              "    </tr>\n",
              "    <tr>\n",
              "      <th>34</th>\n",
              "      <td>IV</td>\n",
              "      <td>8.0</td>\n",
              "      <td>5.76</td>\n",
              "    </tr>\n",
              "    <tr>\n",
              "      <th>35</th>\n",
              "      <td>IV</td>\n",
              "      <td>8.0</td>\n",
              "      <td>7.71</td>\n",
              "    </tr>\n",
              "    <tr>\n",
              "      <th>36</th>\n",
              "      <td>IV</td>\n",
              "      <td>8.0</td>\n",
              "      <td>8.84</td>\n",
              "    </tr>\n",
              "    <tr>\n",
              "      <th>37</th>\n",
              "      <td>IV</td>\n",
              "      <td>8.0</td>\n",
              "      <td>8.47</td>\n",
              "    </tr>\n",
              "    <tr>\n",
              "      <th>38</th>\n",
              "      <td>IV</td>\n",
              "      <td>8.0</td>\n",
              "      <td>7.04</td>\n",
              "    </tr>\n",
              "    <tr>\n",
              "      <th>39</th>\n",
              "      <td>IV</td>\n",
              "      <td>8.0</td>\n",
              "      <td>5.25</td>\n",
              "    </tr>\n",
              "    <tr>\n",
              "      <th>40</th>\n",
              "      <td>IV</td>\n",
              "      <td>19.0</td>\n",
              "      <td>12.50</td>\n",
              "    </tr>\n",
              "    <tr>\n",
              "      <th>41</th>\n",
              "      <td>IV</td>\n",
              "      <td>8.0</td>\n",
              "      <td>5.56</td>\n",
              "    </tr>\n",
              "    <tr>\n",
              "      <th>42</th>\n",
              "      <td>IV</td>\n",
              "      <td>8.0</td>\n",
              "      <td>7.91</td>\n",
              "    </tr>\n",
              "    <tr>\n",
              "      <th>43</th>\n",
              "      <td>IV</td>\n",
              "      <td>8.0</td>\n",
              "      <td>6.89</td>\n",
              "    </tr>\n",
              "  </tbody>\n",
              "</table>\n",
              "</div>\n",
              "      <button class=\"colab-df-convert\" onclick=\"convertToInteractive('df-05bbc998-41e9-4a75-999a-ddf0577a2b13')\"\n",
              "              title=\"Convert this dataframe to an interactive table.\"\n",
              "              style=\"display:none;\">\n",
              "        \n",
              "  <svg xmlns=\"http://www.w3.org/2000/svg\" height=\"24px\"viewBox=\"0 0 24 24\"\n",
              "       width=\"24px\">\n",
              "    <path d=\"M0 0h24v24H0V0z\" fill=\"none\"/>\n",
              "    <path d=\"M18.56 5.44l.94 2.06.94-2.06 2.06-.94-2.06-.94-.94-2.06-.94 2.06-2.06.94zm-11 1L8.5 8.5l.94-2.06 2.06-.94-2.06-.94L8.5 2.5l-.94 2.06-2.06.94zm10 10l.94 2.06.94-2.06 2.06-.94-2.06-.94-.94-2.06-.94 2.06-2.06.94z\"/><path d=\"M17.41 7.96l-1.37-1.37c-.4-.4-.92-.59-1.43-.59-.52 0-1.04.2-1.43.59L10.3 9.45l-7.72 7.72c-.78.78-.78 2.05 0 2.83L4 21.41c.39.39.9.59 1.41.59.51 0 1.02-.2 1.41-.59l7.78-7.78 2.81-2.81c.8-.78.8-2.07 0-2.86zM5.41 20L4 18.59l7.72-7.72 1.47 1.35L5.41 20z\"/>\n",
              "  </svg>\n",
              "      </button>\n",
              "      \n",
              "  <style>\n",
              "    .colab-df-container {\n",
              "      display:flex;\n",
              "      flex-wrap:wrap;\n",
              "      gap: 12px;\n",
              "    }\n",
              "\n",
              "    .colab-df-convert {\n",
              "      background-color: #E8F0FE;\n",
              "      border: none;\n",
              "      border-radius: 50%;\n",
              "      cursor: pointer;\n",
              "      display: none;\n",
              "      fill: #1967D2;\n",
              "      height: 32px;\n",
              "      padding: 0 0 0 0;\n",
              "      width: 32px;\n",
              "    }\n",
              "\n",
              "    .colab-df-convert:hover {\n",
              "      background-color: #E2EBFA;\n",
              "      box-shadow: 0px 1px 2px rgba(60, 64, 67, 0.3), 0px 1px 3px 1px rgba(60, 64, 67, 0.15);\n",
              "      fill: #174EA6;\n",
              "    }\n",
              "\n",
              "    [theme=dark] .colab-df-convert {\n",
              "      background-color: #3B4455;\n",
              "      fill: #D2E3FC;\n",
              "    }\n",
              "\n",
              "    [theme=dark] .colab-df-convert:hover {\n",
              "      background-color: #434B5C;\n",
              "      box-shadow: 0px 1px 3px 1px rgba(0, 0, 0, 0.15);\n",
              "      filter: drop-shadow(0px 1px 2px rgba(0, 0, 0, 0.3));\n",
              "      fill: #FFFFFF;\n",
              "    }\n",
              "  </style>\n",
              "\n",
              "      <script>\n",
              "        const buttonEl =\n",
              "          document.querySelector('#df-05bbc998-41e9-4a75-999a-ddf0577a2b13 button.colab-df-convert');\n",
              "        buttonEl.style.display =\n",
              "          google.colab.kernel.accessAllowed ? 'block' : 'none';\n",
              "\n",
              "        async function convertToInteractive(key) {\n",
              "          const element = document.querySelector('#df-05bbc998-41e9-4a75-999a-ddf0577a2b13');\n",
              "          const dataTable =\n",
              "            await google.colab.kernel.invokeFunction('convertToInteractive',\n",
              "                                                     [key], {});\n",
              "          if (!dataTable) return;\n",
              "\n",
              "          const docLinkHtml = 'Like what you see? Visit the ' +\n",
              "            '<a target=\"_blank\" href=https://colab.research.google.com/notebooks/data_table.ipynb>data table notebook</a>'\n",
              "            + ' to learn more about interactive tables.';\n",
              "          element.innerHTML = '';\n",
              "          dataTable['output_type'] = 'display_data';\n",
              "          await google.colab.output.renderOutput(dataTable, element);\n",
              "          const docLink = document.createElement('div');\n",
              "          docLink.innerHTML = docLinkHtml;\n",
              "          element.appendChild(docLink);\n",
              "        }\n",
              "      </script>\n",
              "    </div>\n",
              "  </div>\n",
              "  "
            ]
          },
          "metadata": {},
          "execution_count": 21
        }
      ]
    },
    {
      "cell_type": "markdown",
      "metadata": {
        "id": "VG8b-xGk5wfy"
      },
      "source": [
        "En nuestra tabla tenemos 4 columnas. La primera columna se llama \"_index_\" y sólo ennumera los datos. El resto de las columnas son específicas para el conjunto de datos que elegimos."
      ]
    },
    {
      "cell_type": "markdown",
      "metadata": {
        "id": "M_O8d04JwfFw"
      },
      "source": [
        "En programación, cualquier valor, función o *dataframe* se llama **objeto**, y cada objeto tiene una **clase**. Los DataFrames son un tipo de \"clase\", esencialmente porque se puede hacer el mismo tipo de cosas con todos los *dataframes*. \n",
        "\n",
        "Podemos decir que cada vez que llamamos la función `type()` a cualquier objeto de Python estamos preguntando por su clase:\n"
      ]
    },
    {
      "cell_type": "code",
      "metadata": {
        "id": "DBF2kVvDu3ne",
        "colab": {
          "base_uri": "https://localhost:8080/"
        },
        "outputId": "665ddb4a-9f46-404e-b2c5-d00a2af53a5e"
      },
      "source": [
        "type(df)"
      ],
      "execution_count": null,
      "outputs": [
        {
          "output_type": "execute_result",
          "data": {
            "text/plain": [
              "pandas.core.frame.DataFrame"
            ]
          },
          "metadata": {},
          "execution_count": 20
        }
      ]
    },
    {
      "cell_type": "markdown",
      "metadata": {
        "id": "lWJ9AJMw28Fd"
      },
      "source": [
        "Las clases incorporan información sobre el comportamiento. La información sobre comportamiento está contenida en **métodos**. En este sentido, las columnas son un método de la clase *dataframe*.\n"
      ]
    },
    {
      "cell_type": "markdown",
      "metadata": {
        "id": "4bEgaAtmqqYu"
      },
      "source": [
        "Mostrar columnas\n",
        "\n",
        "---\n",
        "Algunas funciones integradas de Pandas nos permiten visualizar ciertas características de nuestro *dataframe*, por ejemplo, la función `columns` imprime las etiquetas (labels) de todas las columnas existentes en la tabla. \n",
        "\n",
        "\n",
        "\n"
      ]
    },
    {
      "cell_type": "code",
      "metadata": {
        "id": "KEOcj-OIqsPr",
        "colab": {
          "base_uri": "https://localhost:8080/"
        },
        "outputId": "b9d0f57e-e98d-43a8-c44f-c1c6b23dda9a"
      },
      "source": [
        "#Algunas funciones integradas de pandas permiten visualizar ciertas características de nuestro DataFrame, por ejemplo, la función columns nos imprime el nombre de todas las columnas de la tabla.\n",
        "df.columns"
      ],
      "execution_count": null,
      "outputs": [
        {
          "output_type": "execute_result",
          "data": {
            "text/plain": [
              "Index(['dataset', 'x', 'y'], dtype='object')"
            ]
          },
          "metadata": {},
          "execution_count": 23
        }
      ]
    },
    {
      "cell_type": "markdown",
      "metadata": {
        "id": "49SjG4MxsTU5"
      },
      "source": [
        "También podemos trasponer filas y columnas usando:"
      ]
    },
    {
      "cell_type": "code",
      "metadata": {
        "id": "KzqXDDbzsTfY",
        "colab": {
          "base_uri": "https://localhost:8080/",
          "height": 173
        },
        "outputId": "f0fbbb9c-d42e-477b-9f43-79830e1d8984"
      },
      "source": [
        "df.T"
      ],
      "execution_count": null,
      "outputs": [
        {
          "output_type": "execute_result",
          "data": {
            "text/plain": [
              "           0     1     2     3     4     5     6     7      8     9   ...  \\\n",
              "dataset     I     I     I     I     I     I     I     I      I     I  ...   \n",
              "x        10.0   8.0  13.0   9.0  11.0  14.0   6.0   4.0   12.0   7.0  ...   \n",
              "y        8.04  6.95  7.58  8.81  8.33  9.96  7.24  4.26  10.84  4.82  ...   \n",
              "\n",
              "           34    35    36    37    38    39    40    41    42    43  \n",
              "dataset    IV    IV    IV    IV    IV    IV    IV    IV    IV    IV  \n",
              "x         8.0   8.0   8.0   8.0   8.0   8.0  19.0   8.0   8.0   8.0  \n",
              "y        5.76  7.71  8.84  8.47  7.04  5.25  12.5  5.56  7.91  6.89  \n",
              "\n",
              "[3 rows x 44 columns]"
            ],
            "text/html": [
              "\n",
              "  <div id=\"df-85412d83-aac3-4412-bb15-1c588d5e5afe\">\n",
              "    <div class=\"colab-df-container\">\n",
              "      <div>\n",
              "<style scoped>\n",
              "    .dataframe tbody tr th:only-of-type {\n",
              "        vertical-align: middle;\n",
              "    }\n",
              "\n",
              "    .dataframe tbody tr th {\n",
              "        vertical-align: top;\n",
              "    }\n",
              "\n",
              "    .dataframe thead th {\n",
              "        text-align: right;\n",
              "    }\n",
              "</style>\n",
              "<table border=\"1\" class=\"dataframe\">\n",
              "  <thead>\n",
              "    <tr style=\"text-align: right;\">\n",
              "      <th></th>\n",
              "      <th>0</th>\n",
              "      <th>1</th>\n",
              "      <th>2</th>\n",
              "      <th>3</th>\n",
              "      <th>4</th>\n",
              "      <th>5</th>\n",
              "      <th>6</th>\n",
              "      <th>7</th>\n",
              "      <th>8</th>\n",
              "      <th>9</th>\n",
              "      <th>...</th>\n",
              "      <th>34</th>\n",
              "      <th>35</th>\n",
              "      <th>36</th>\n",
              "      <th>37</th>\n",
              "      <th>38</th>\n",
              "      <th>39</th>\n",
              "      <th>40</th>\n",
              "      <th>41</th>\n",
              "      <th>42</th>\n",
              "      <th>43</th>\n",
              "    </tr>\n",
              "  </thead>\n",
              "  <tbody>\n",
              "    <tr>\n",
              "      <th>dataset</th>\n",
              "      <td>I</td>\n",
              "      <td>I</td>\n",
              "      <td>I</td>\n",
              "      <td>I</td>\n",
              "      <td>I</td>\n",
              "      <td>I</td>\n",
              "      <td>I</td>\n",
              "      <td>I</td>\n",
              "      <td>I</td>\n",
              "      <td>I</td>\n",
              "      <td>...</td>\n",
              "      <td>IV</td>\n",
              "      <td>IV</td>\n",
              "      <td>IV</td>\n",
              "      <td>IV</td>\n",
              "      <td>IV</td>\n",
              "      <td>IV</td>\n",
              "      <td>IV</td>\n",
              "      <td>IV</td>\n",
              "      <td>IV</td>\n",
              "      <td>IV</td>\n",
              "    </tr>\n",
              "    <tr>\n",
              "      <th>x</th>\n",
              "      <td>10.0</td>\n",
              "      <td>8.0</td>\n",
              "      <td>13.0</td>\n",
              "      <td>9.0</td>\n",
              "      <td>11.0</td>\n",
              "      <td>14.0</td>\n",
              "      <td>6.0</td>\n",
              "      <td>4.0</td>\n",
              "      <td>12.0</td>\n",
              "      <td>7.0</td>\n",
              "      <td>...</td>\n",
              "      <td>8.0</td>\n",
              "      <td>8.0</td>\n",
              "      <td>8.0</td>\n",
              "      <td>8.0</td>\n",
              "      <td>8.0</td>\n",
              "      <td>8.0</td>\n",
              "      <td>19.0</td>\n",
              "      <td>8.0</td>\n",
              "      <td>8.0</td>\n",
              "      <td>8.0</td>\n",
              "    </tr>\n",
              "    <tr>\n",
              "      <th>y</th>\n",
              "      <td>8.04</td>\n",
              "      <td>6.95</td>\n",
              "      <td>7.58</td>\n",
              "      <td>8.81</td>\n",
              "      <td>8.33</td>\n",
              "      <td>9.96</td>\n",
              "      <td>7.24</td>\n",
              "      <td>4.26</td>\n",
              "      <td>10.84</td>\n",
              "      <td>4.82</td>\n",
              "      <td>...</td>\n",
              "      <td>5.76</td>\n",
              "      <td>7.71</td>\n",
              "      <td>8.84</td>\n",
              "      <td>8.47</td>\n",
              "      <td>7.04</td>\n",
              "      <td>5.25</td>\n",
              "      <td>12.5</td>\n",
              "      <td>5.56</td>\n",
              "      <td>7.91</td>\n",
              "      <td>6.89</td>\n",
              "    </tr>\n",
              "  </tbody>\n",
              "</table>\n",
              "<p>3 rows × 44 columns</p>\n",
              "</div>\n",
              "      <button class=\"colab-df-convert\" onclick=\"convertToInteractive('df-85412d83-aac3-4412-bb15-1c588d5e5afe')\"\n",
              "              title=\"Convert this dataframe to an interactive table.\"\n",
              "              style=\"display:none;\">\n",
              "        \n",
              "  <svg xmlns=\"http://www.w3.org/2000/svg\" height=\"24px\"viewBox=\"0 0 24 24\"\n",
              "       width=\"24px\">\n",
              "    <path d=\"M0 0h24v24H0V0z\" fill=\"none\"/>\n",
              "    <path d=\"M18.56 5.44l.94 2.06.94-2.06 2.06-.94-2.06-.94-.94-2.06-.94 2.06-2.06.94zm-11 1L8.5 8.5l.94-2.06 2.06-.94-2.06-.94L8.5 2.5l-.94 2.06-2.06.94zm10 10l.94 2.06.94-2.06 2.06-.94-2.06-.94-.94-2.06-.94 2.06-2.06.94z\"/><path d=\"M17.41 7.96l-1.37-1.37c-.4-.4-.92-.59-1.43-.59-.52 0-1.04.2-1.43.59L10.3 9.45l-7.72 7.72c-.78.78-.78 2.05 0 2.83L4 21.41c.39.39.9.59 1.41.59.51 0 1.02-.2 1.41-.59l7.78-7.78 2.81-2.81c.8-.78.8-2.07 0-2.86zM5.41 20L4 18.59l7.72-7.72 1.47 1.35L5.41 20z\"/>\n",
              "  </svg>\n",
              "      </button>\n",
              "      \n",
              "  <style>\n",
              "    .colab-df-container {\n",
              "      display:flex;\n",
              "      flex-wrap:wrap;\n",
              "      gap: 12px;\n",
              "    }\n",
              "\n",
              "    .colab-df-convert {\n",
              "      background-color: #E8F0FE;\n",
              "      border: none;\n",
              "      border-radius: 50%;\n",
              "      cursor: pointer;\n",
              "      display: none;\n",
              "      fill: #1967D2;\n",
              "      height: 32px;\n",
              "      padding: 0 0 0 0;\n",
              "      width: 32px;\n",
              "    }\n",
              "\n",
              "    .colab-df-convert:hover {\n",
              "      background-color: #E2EBFA;\n",
              "      box-shadow: 0px 1px 2px rgba(60, 64, 67, 0.3), 0px 1px 3px 1px rgba(60, 64, 67, 0.15);\n",
              "      fill: #174EA6;\n",
              "    }\n",
              "\n",
              "    [theme=dark] .colab-df-convert {\n",
              "      background-color: #3B4455;\n",
              "      fill: #D2E3FC;\n",
              "    }\n",
              "\n",
              "    [theme=dark] .colab-df-convert:hover {\n",
              "      background-color: #434B5C;\n",
              "      box-shadow: 0px 1px 3px 1px rgba(0, 0, 0, 0.15);\n",
              "      filter: drop-shadow(0px 1px 2px rgba(0, 0, 0, 0.3));\n",
              "      fill: #FFFFFF;\n",
              "    }\n",
              "  </style>\n",
              "\n",
              "      <script>\n",
              "        const buttonEl =\n",
              "          document.querySelector('#df-85412d83-aac3-4412-bb15-1c588d5e5afe button.colab-df-convert');\n",
              "        buttonEl.style.display =\n",
              "          google.colab.kernel.accessAllowed ? 'block' : 'none';\n",
              "\n",
              "        async function convertToInteractive(key) {\n",
              "          const element = document.querySelector('#df-85412d83-aac3-4412-bb15-1c588d5e5afe');\n",
              "          const dataTable =\n",
              "            await google.colab.kernel.invokeFunction('convertToInteractive',\n",
              "                                                     [key], {});\n",
              "          if (!dataTable) return;\n",
              "\n",
              "          const docLinkHtml = 'Like what you see? Visit the ' +\n",
              "            '<a target=\"_blank\" href=https://colab.research.google.com/notebooks/data_table.ipynb>data table notebook</a>'\n",
              "            + ' to learn more about interactive tables.';\n",
              "          element.innerHTML = '';\n",
              "          dataTable['output_type'] = 'display_data';\n",
              "          await google.colab.output.renderOutput(dataTable, element);\n",
              "          const docLink = document.createElement('div');\n",
              "          docLink.innerHTML = docLinkHtml;\n",
              "          element.appendChild(docLink);\n",
              "        }\n",
              "      </script>\n",
              "    </div>\n",
              "  </div>\n",
              "  "
            ]
          },
          "metadata": {},
          "execution_count": 24
        }
      ]
    },
    {
      "cell_type": "markdown",
      "metadata": {
        "id": "XxWuC1WxsiBz"
      },
      "source": [
        "Si quisiéramos que ordenar los valores numéricos según un criterio determinado, podemos utilizar la función `sort_values()`. Debemos tener en cuenta que tenemos que especificar qué valores en qué columnas queremos ordenar. Con el parámetro \"`ascending`\" o \"`descending`\" podemos especificar si queremos ordenarlos en orden ascendente o descendente.\n",
        " \n",
        " Esta función, como cualquier otra, tiene parámetros adicionales que podemos cambiar según nuestro gusto o necesidades, por ejemplo, el parámetro `ascending` es \"_True_\" por defecto. Si no lo especificamos, permanecerá como \"_True_\", pero si lo necesitamos, podríamos cambiarlo a \"_False_\".\n",
        "\n",
        " En este caso, ordenaremos los valores de la columna \"x\" en orden ascendente:\n"
      ]
    },
    {
      "cell_type": "code",
      "metadata": {
        "id": "2IdZ109jsiJR",
        "colab": {
          "base_uri": "https://localhost:8080/",
          "height": 1000
        },
        "outputId": "1e8b8fae-4891-4b93-cfae-159dbc8a16de"
      },
      "source": [
        "df.sort_values(by='x',ascending = True)"
      ],
      "execution_count": null,
      "outputs": [
        {
          "output_type": "execute_result",
          "data": {
            "text/plain": [
              "   dataset     x      y\n",
              "18      II   4.0   3.10\n",
              "29     III   4.0   5.39\n",
              "7        I   4.0   4.26\n",
              "21      II   5.0   4.74\n",
              "32     III   5.0   5.73\n",
              "10       I   5.0   5.68\n",
              "6        I   6.0   7.24\n",
              "28     III   6.0   6.08\n",
              "17      II   6.0   6.13\n",
              "9        I   7.0   4.82\n",
              "31     III   7.0   6.42\n",
              "20      II   7.0   7.26\n",
              "37      IV   8.0   8.47\n",
              "35      IV   8.0   7.71\n",
              "23     III   8.0   6.77\n",
              "34      IV   8.0   5.76\n",
              "33      IV   8.0   6.58\n",
              "38      IV   8.0   7.04\n",
              "39      IV   8.0   5.25\n",
              "41      IV   8.0   5.56\n",
              "36      IV   8.0   8.84\n",
              "43      IV   8.0   6.89\n",
              "1        I   8.0   6.95\n",
              "12      II   8.0   8.14\n",
              "42      IV   8.0   7.91\n",
              "3        I   9.0   8.81\n",
              "25     III   9.0   7.11\n",
              "14      II   9.0   8.77\n",
              "22     III  10.0   7.46\n",
              "11      II  10.0   9.14\n",
              "0        I  10.0   8.04\n",
              "15      II  11.0   9.26\n",
              "26     III  11.0   7.81\n",
              "4        I  11.0   8.33\n",
              "8        I  12.0  10.84\n",
              "19      II  12.0   9.13\n",
              "30     III  12.0   8.15\n",
              "24     III  13.0  12.74\n",
              "2        I  13.0   7.58\n",
              "13      II  13.0   8.74\n",
              "16      II  14.0   8.10\n",
              "27     III  14.0   8.84\n",
              "5        I  14.0   9.96\n",
              "40      IV  19.0  12.50"
            ],
            "text/html": [
              "\n",
              "  <div id=\"df-5cc60d5a-75f6-4a71-aca5-636b26130da3\">\n",
              "    <div class=\"colab-df-container\">\n",
              "      <div>\n",
              "<style scoped>\n",
              "    .dataframe tbody tr th:only-of-type {\n",
              "        vertical-align: middle;\n",
              "    }\n",
              "\n",
              "    .dataframe tbody tr th {\n",
              "        vertical-align: top;\n",
              "    }\n",
              "\n",
              "    .dataframe thead th {\n",
              "        text-align: right;\n",
              "    }\n",
              "</style>\n",
              "<table border=\"1\" class=\"dataframe\">\n",
              "  <thead>\n",
              "    <tr style=\"text-align: right;\">\n",
              "      <th></th>\n",
              "      <th>dataset</th>\n",
              "      <th>x</th>\n",
              "      <th>y</th>\n",
              "    </tr>\n",
              "  </thead>\n",
              "  <tbody>\n",
              "    <tr>\n",
              "      <th>18</th>\n",
              "      <td>II</td>\n",
              "      <td>4.0</td>\n",
              "      <td>3.10</td>\n",
              "    </tr>\n",
              "    <tr>\n",
              "      <th>29</th>\n",
              "      <td>III</td>\n",
              "      <td>4.0</td>\n",
              "      <td>5.39</td>\n",
              "    </tr>\n",
              "    <tr>\n",
              "      <th>7</th>\n",
              "      <td>I</td>\n",
              "      <td>4.0</td>\n",
              "      <td>4.26</td>\n",
              "    </tr>\n",
              "    <tr>\n",
              "      <th>21</th>\n",
              "      <td>II</td>\n",
              "      <td>5.0</td>\n",
              "      <td>4.74</td>\n",
              "    </tr>\n",
              "    <tr>\n",
              "      <th>32</th>\n",
              "      <td>III</td>\n",
              "      <td>5.0</td>\n",
              "      <td>5.73</td>\n",
              "    </tr>\n",
              "    <tr>\n",
              "      <th>10</th>\n",
              "      <td>I</td>\n",
              "      <td>5.0</td>\n",
              "      <td>5.68</td>\n",
              "    </tr>\n",
              "    <tr>\n",
              "      <th>6</th>\n",
              "      <td>I</td>\n",
              "      <td>6.0</td>\n",
              "      <td>7.24</td>\n",
              "    </tr>\n",
              "    <tr>\n",
              "      <th>28</th>\n",
              "      <td>III</td>\n",
              "      <td>6.0</td>\n",
              "      <td>6.08</td>\n",
              "    </tr>\n",
              "    <tr>\n",
              "      <th>17</th>\n",
              "      <td>II</td>\n",
              "      <td>6.0</td>\n",
              "      <td>6.13</td>\n",
              "    </tr>\n",
              "    <tr>\n",
              "      <th>9</th>\n",
              "      <td>I</td>\n",
              "      <td>7.0</td>\n",
              "      <td>4.82</td>\n",
              "    </tr>\n",
              "    <tr>\n",
              "      <th>31</th>\n",
              "      <td>III</td>\n",
              "      <td>7.0</td>\n",
              "      <td>6.42</td>\n",
              "    </tr>\n",
              "    <tr>\n",
              "      <th>20</th>\n",
              "      <td>II</td>\n",
              "      <td>7.0</td>\n",
              "      <td>7.26</td>\n",
              "    </tr>\n",
              "    <tr>\n",
              "      <th>37</th>\n",
              "      <td>IV</td>\n",
              "      <td>8.0</td>\n",
              "      <td>8.47</td>\n",
              "    </tr>\n",
              "    <tr>\n",
              "      <th>35</th>\n",
              "      <td>IV</td>\n",
              "      <td>8.0</td>\n",
              "      <td>7.71</td>\n",
              "    </tr>\n",
              "    <tr>\n",
              "      <th>23</th>\n",
              "      <td>III</td>\n",
              "      <td>8.0</td>\n",
              "      <td>6.77</td>\n",
              "    </tr>\n",
              "    <tr>\n",
              "      <th>34</th>\n",
              "      <td>IV</td>\n",
              "      <td>8.0</td>\n",
              "      <td>5.76</td>\n",
              "    </tr>\n",
              "    <tr>\n",
              "      <th>33</th>\n",
              "      <td>IV</td>\n",
              "      <td>8.0</td>\n",
              "      <td>6.58</td>\n",
              "    </tr>\n",
              "    <tr>\n",
              "      <th>38</th>\n",
              "      <td>IV</td>\n",
              "      <td>8.0</td>\n",
              "      <td>7.04</td>\n",
              "    </tr>\n",
              "    <tr>\n",
              "      <th>39</th>\n",
              "      <td>IV</td>\n",
              "      <td>8.0</td>\n",
              "      <td>5.25</td>\n",
              "    </tr>\n",
              "    <tr>\n",
              "      <th>41</th>\n",
              "      <td>IV</td>\n",
              "      <td>8.0</td>\n",
              "      <td>5.56</td>\n",
              "    </tr>\n",
              "    <tr>\n",
              "      <th>36</th>\n",
              "      <td>IV</td>\n",
              "      <td>8.0</td>\n",
              "      <td>8.84</td>\n",
              "    </tr>\n",
              "    <tr>\n",
              "      <th>43</th>\n",
              "      <td>IV</td>\n",
              "      <td>8.0</td>\n",
              "      <td>6.89</td>\n",
              "    </tr>\n",
              "    <tr>\n",
              "      <th>1</th>\n",
              "      <td>I</td>\n",
              "      <td>8.0</td>\n",
              "      <td>6.95</td>\n",
              "    </tr>\n",
              "    <tr>\n",
              "      <th>12</th>\n",
              "      <td>II</td>\n",
              "      <td>8.0</td>\n",
              "      <td>8.14</td>\n",
              "    </tr>\n",
              "    <tr>\n",
              "      <th>42</th>\n",
              "      <td>IV</td>\n",
              "      <td>8.0</td>\n",
              "      <td>7.91</td>\n",
              "    </tr>\n",
              "    <tr>\n",
              "      <th>3</th>\n",
              "      <td>I</td>\n",
              "      <td>9.0</td>\n",
              "      <td>8.81</td>\n",
              "    </tr>\n",
              "    <tr>\n",
              "      <th>25</th>\n",
              "      <td>III</td>\n",
              "      <td>9.0</td>\n",
              "      <td>7.11</td>\n",
              "    </tr>\n",
              "    <tr>\n",
              "      <th>14</th>\n",
              "      <td>II</td>\n",
              "      <td>9.0</td>\n",
              "      <td>8.77</td>\n",
              "    </tr>\n",
              "    <tr>\n",
              "      <th>22</th>\n",
              "      <td>III</td>\n",
              "      <td>10.0</td>\n",
              "      <td>7.46</td>\n",
              "    </tr>\n",
              "    <tr>\n",
              "      <th>11</th>\n",
              "      <td>II</td>\n",
              "      <td>10.0</td>\n",
              "      <td>9.14</td>\n",
              "    </tr>\n",
              "    <tr>\n",
              "      <th>0</th>\n",
              "      <td>I</td>\n",
              "      <td>10.0</td>\n",
              "      <td>8.04</td>\n",
              "    </tr>\n",
              "    <tr>\n",
              "      <th>15</th>\n",
              "      <td>II</td>\n",
              "      <td>11.0</td>\n",
              "      <td>9.26</td>\n",
              "    </tr>\n",
              "    <tr>\n",
              "      <th>26</th>\n",
              "      <td>III</td>\n",
              "      <td>11.0</td>\n",
              "      <td>7.81</td>\n",
              "    </tr>\n",
              "    <tr>\n",
              "      <th>4</th>\n",
              "      <td>I</td>\n",
              "      <td>11.0</td>\n",
              "      <td>8.33</td>\n",
              "    </tr>\n",
              "    <tr>\n",
              "      <th>8</th>\n",
              "      <td>I</td>\n",
              "      <td>12.0</td>\n",
              "      <td>10.84</td>\n",
              "    </tr>\n",
              "    <tr>\n",
              "      <th>19</th>\n",
              "      <td>II</td>\n",
              "      <td>12.0</td>\n",
              "      <td>9.13</td>\n",
              "    </tr>\n",
              "    <tr>\n",
              "      <th>30</th>\n",
              "      <td>III</td>\n",
              "      <td>12.0</td>\n",
              "      <td>8.15</td>\n",
              "    </tr>\n",
              "    <tr>\n",
              "      <th>24</th>\n",
              "      <td>III</td>\n",
              "      <td>13.0</td>\n",
              "      <td>12.74</td>\n",
              "    </tr>\n",
              "    <tr>\n",
              "      <th>2</th>\n",
              "      <td>I</td>\n",
              "      <td>13.0</td>\n",
              "      <td>7.58</td>\n",
              "    </tr>\n",
              "    <tr>\n",
              "      <th>13</th>\n",
              "      <td>II</td>\n",
              "      <td>13.0</td>\n",
              "      <td>8.74</td>\n",
              "    </tr>\n",
              "    <tr>\n",
              "      <th>16</th>\n",
              "      <td>II</td>\n",
              "      <td>14.0</td>\n",
              "      <td>8.10</td>\n",
              "    </tr>\n",
              "    <tr>\n",
              "      <th>27</th>\n",
              "      <td>III</td>\n",
              "      <td>14.0</td>\n",
              "      <td>8.84</td>\n",
              "    </tr>\n",
              "    <tr>\n",
              "      <th>5</th>\n",
              "      <td>I</td>\n",
              "      <td>14.0</td>\n",
              "      <td>9.96</td>\n",
              "    </tr>\n",
              "    <tr>\n",
              "      <th>40</th>\n",
              "      <td>IV</td>\n",
              "      <td>19.0</td>\n",
              "      <td>12.50</td>\n",
              "    </tr>\n",
              "  </tbody>\n",
              "</table>\n",
              "</div>\n",
              "      <button class=\"colab-df-convert\" onclick=\"convertToInteractive('df-5cc60d5a-75f6-4a71-aca5-636b26130da3')\"\n",
              "              title=\"Convert this dataframe to an interactive table.\"\n",
              "              style=\"display:none;\">\n",
              "        \n",
              "  <svg xmlns=\"http://www.w3.org/2000/svg\" height=\"24px\"viewBox=\"0 0 24 24\"\n",
              "       width=\"24px\">\n",
              "    <path d=\"M0 0h24v24H0V0z\" fill=\"none\"/>\n",
              "    <path d=\"M18.56 5.44l.94 2.06.94-2.06 2.06-.94-2.06-.94-.94-2.06-.94 2.06-2.06.94zm-11 1L8.5 8.5l.94-2.06 2.06-.94-2.06-.94L8.5 2.5l-.94 2.06-2.06.94zm10 10l.94 2.06.94-2.06 2.06-.94-2.06-.94-.94-2.06-.94 2.06-2.06.94z\"/><path d=\"M17.41 7.96l-1.37-1.37c-.4-.4-.92-.59-1.43-.59-.52 0-1.04.2-1.43.59L10.3 9.45l-7.72 7.72c-.78.78-.78 2.05 0 2.83L4 21.41c.39.39.9.59 1.41.59.51 0 1.02-.2 1.41-.59l7.78-7.78 2.81-2.81c.8-.78.8-2.07 0-2.86zM5.41 20L4 18.59l7.72-7.72 1.47 1.35L5.41 20z\"/>\n",
              "  </svg>\n",
              "      </button>\n",
              "      \n",
              "  <style>\n",
              "    .colab-df-container {\n",
              "      display:flex;\n",
              "      flex-wrap:wrap;\n",
              "      gap: 12px;\n",
              "    }\n",
              "\n",
              "    .colab-df-convert {\n",
              "      background-color: #E8F0FE;\n",
              "      border: none;\n",
              "      border-radius: 50%;\n",
              "      cursor: pointer;\n",
              "      display: none;\n",
              "      fill: #1967D2;\n",
              "      height: 32px;\n",
              "      padding: 0 0 0 0;\n",
              "      width: 32px;\n",
              "    }\n",
              "\n",
              "    .colab-df-convert:hover {\n",
              "      background-color: #E2EBFA;\n",
              "      box-shadow: 0px 1px 2px rgba(60, 64, 67, 0.3), 0px 1px 3px 1px rgba(60, 64, 67, 0.15);\n",
              "      fill: #174EA6;\n",
              "    }\n",
              "\n",
              "    [theme=dark] .colab-df-convert {\n",
              "      background-color: #3B4455;\n",
              "      fill: #D2E3FC;\n",
              "    }\n",
              "\n",
              "    [theme=dark] .colab-df-convert:hover {\n",
              "      background-color: #434B5C;\n",
              "      box-shadow: 0px 1px 3px 1px rgba(0, 0, 0, 0.15);\n",
              "      filter: drop-shadow(0px 1px 2px rgba(0, 0, 0, 0.3));\n",
              "      fill: #FFFFFF;\n",
              "    }\n",
              "  </style>\n",
              "\n",
              "      <script>\n",
              "        const buttonEl =\n",
              "          document.querySelector('#df-5cc60d5a-75f6-4a71-aca5-636b26130da3 button.colab-df-convert');\n",
              "        buttonEl.style.display =\n",
              "          google.colab.kernel.accessAllowed ? 'block' : 'none';\n",
              "\n",
              "        async function convertToInteractive(key) {\n",
              "          const element = document.querySelector('#df-5cc60d5a-75f6-4a71-aca5-636b26130da3');\n",
              "          const dataTable =\n",
              "            await google.colab.kernel.invokeFunction('convertToInteractive',\n",
              "                                                     [key], {});\n",
              "          if (!dataTable) return;\n",
              "\n",
              "          const docLinkHtml = 'Like what you see? Visit the ' +\n",
              "            '<a target=\"_blank\" href=https://colab.research.google.com/notebooks/data_table.ipynb>data table notebook</a>'\n",
              "            + ' to learn more about interactive tables.';\n",
              "          element.innerHTML = '';\n",
              "          dataTable['output_type'] = 'display_data';\n",
              "          await google.colab.output.renderOutput(dataTable, element);\n",
              "          const docLink = document.createElement('div');\n",
              "          docLink.innerHTML = docLinkHtml;\n",
              "          element.appendChild(docLink);\n",
              "        }\n",
              "      </script>\n",
              "    </div>\n",
              "  </div>\n",
              "  "
            ]
          },
          "metadata": {},
          "execution_count": 25
        }
      ]
    },
    {
      "cell_type": "markdown",
      "metadata": {
        "id": "ZybtR09Gs17w"
      },
      "source": [
        "Seleccionando una sola columna\n",
        "\n",
        "---\n",
        "También podríamos seleccionar una sola columna y generar una tabla que sólo contenga el _índice (index)_ y la columna seleccionada. Este tipo de tabla se llama \"*Serie*\".\n"
      ]
    },
    {
      "cell_type": "code",
      "metadata": {
        "id": "dm0M7o9ts2CH"
      },
      "source": [
        "# Podemos también seleccionar una columna única y generar un tipo de tabla que solo contiene la columna _indice_ o _index_ y la seleccionada, este tipo de tabla se llama _Series_\n",
        "df_X = df['x']"
      ],
      "execution_count": null,
      "outputs": []
    },
    {
      "cell_type": "code",
      "metadata": {
        "id": "P_ndg4TUx4rk",
        "colab": {
          "base_uri": "https://localhost:8080/"
        },
        "outputId": "536b99c9-c21e-45ae-cdac-cedf2d7fd388"
      },
      "source": [
        "type(df_X)"
      ],
      "execution_count": null,
      "outputs": [
        {
          "output_type": "execute_result",
          "data": {
            "text/plain": [
              "pandas.core.series.Series"
            ]
          },
          "metadata": {},
          "execution_count": 27
        }
      ]
    },
    {
      "cell_type": "code",
      "metadata": {
        "colab": {
          "base_uri": "https://localhost:8080/"
        },
        "id": "1lCmbgPtlpzk",
        "outputId": "f77c1876-d9ea-4f92-ffb6-64a3c3619c91"
      },
      "source": [
        "df_X"
      ],
      "execution_count": null,
      "outputs": [
        {
          "output_type": "execute_result",
          "data": {
            "text/plain": [
              "0     10.0\n",
              "1      8.0\n",
              "2     13.0\n",
              "3      9.0\n",
              "4     11.0\n",
              "5     14.0\n",
              "6      6.0\n",
              "7      4.0\n",
              "8     12.0\n",
              "9      7.0\n",
              "10     5.0\n",
              "11    10.0\n",
              "12     8.0\n",
              "13    13.0\n",
              "14     9.0\n",
              "15    11.0\n",
              "16    14.0\n",
              "17     6.0\n",
              "18     4.0\n",
              "19    12.0\n",
              "20     7.0\n",
              "21     5.0\n",
              "22    10.0\n",
              "23     8.0\n",
              "24    13.0\n",
              "25     9.0\n",
              "26    11.0\n",
              "27    14.0\n",
              "28     6.0\n",
              "29     4.0\n",
              "30    12.0\n",
              "31     7.0\n",
              "32     5.0\n",
              "33     8.0\n",
              "34     8.0\n",
              "35     8.0\n",
              "36     8.0\n",
              "37     8.0\n",
              "38     8.0\n",
              "39     8.0\n",
              "40    19.0\n",
              "41     8.0\n",
              "42     8.0\n",
              "43     8.0\n",
              "Name: x, dtype: float64"
            ]
          },
          "metadata": {},
          "execution_count": 28
        }
      ]
    },
    {
      "cell_type": "markdown",
      "metadata": {
        "id": "FJ_QGQmStz4C"
      },
      "source": [
        "También podríamos seleccionar un rango de filas según su índice."
      ]
    },
    {
      "cell_type": "code",
      "metadata": {
        "id": "q7j0TV9ot0AI",
        "colab": {
          "base_uri": "https://localhost:8080/",
          "height": 144
        },
        "outputId": "e84f9fa5-3aa4-481b-a7db-d7239209cb89"
      },
      "source": [
        "# Podemos seleccionar rangos de filas según su indice\n",
        "df[0:3]"
      ],
      "execution_count": null,
      "outputs": [
        {
          "output_type": "execute_result",
          "data": {
            "text/plain": [
              "  dataset     x     y\n",
              "0       I  10.0  8.04\n",
              "1       I   8.0  6.95\n",
              "2       I  13.0  7.58"
            ],
            "text/html": [
              "\n",
              "  <div id=\"df-2fd927ae-1640-4fad-bb77-50b2936bec38\">\n",
              "    <div class=\"colab-df-container\">\n",
              "      <div>\n",
              "<style scoped>\n",
              "    .dataframe tbody tr th:only-of-type {\n",
              "        vertical-align: middle;\n",
              "    }\n",
              "\n",
              "    .dataframe tbody tr th {\n",
              "        vertical-align: top;\n",
              "    }\n",
              "\n",
              "    .dataframe thead th {\n",
              "        text-align: right;\n",
              "    }\n",
              "</style>\n",
              "<table border=\"1\" class=\"dataframe\">\n",
              "  <thead>\n",
              "    <tr style=\"text-align: right;\">\n",
              "      <th></th>\n",
              "      <th>dataset</th>\n",
              "      <th>x</th>\n",
              "      <th>y</th>\n",
              "    </tr>\n",
              "  </thead>\n",
              "  <tbody>\n",
              "    <tr>\n",
              "      <th>0</th>\n",
              "      <td>I</td>\n",
              "      <td>10.0</td>\n",
              "      <td>8.04</td>\n",
              "    </tr>\n",
              "    <tr>\n",
              "      <th>1</th>\n",
              "      <td>I</td>\n",
              "      <td>8.0</td>\n",
              "      <td>6.95</td>\n",
              "    </tr>\n",
              "    <tr>\n",
              "      <th>2</th>\n",
              "      <td>I</td>\n",
              "      <td>13.0</td>\n",
              "      <td>7.58</td>\n",
              "    </tr>\n",
              "  </tbody>\n",
              "</table>\n",
              "</div>\n",
              "      <button class=\"colab-df-convert\" onclick=\"convertToInteractive('df-2fd927ae-1640-4fad-bb77-50b2936bec38')\"\n",
              "              title=\"Convert this dataframe to an interactive table.\"\n",
              "              style=\"display:none;\">\n",
              "        \n",
              "  <svg xmlns=\"http://www.w3.org/2000/svg\" height=\"24px\"viewBox=\"0 0 24 24\"\n",
              "       width=\"24px\">\n",
              "    <path d=\"M0 0h24v24H0V0z\" fill=\"none\"/>\n",
              "    <path d=\"M18.56 5.44l.94 2.06.94-2.06 2.06-.94-2.06-.94-.94-2.06-.94 2.06-2.06.94zm-11 1L8.5 8.5l.94-2.06 2.06-.94-2.06-.94L8.5 2.5l-.94 2.06-2.06.94zm10 10l.94 2.06.94-2.06 2.06-.94-2.06-.94-.94-2.06-.94 2.06-2.06.94z\"/><path d=\"M17.41 7.96l-1.37-1.37c-.4-.4-.92-.59-1.43-.59-.52 0-1.04.2-1.43.59L10.3 9.45l-7.72 7.72c-.78.78-.78 2.05 0 2.83L4 21.41c.39.39.9.59 1.41.59.51 0 1.02-.2 1.41-.59l7.78-7.78 2.81-2.81c.8-.78.8-2.07 0-2.86zM5.41 20L4 18.59l7.72-7.72 1.47 1.35L5.41 20z\"/>\n",
              "  </svg>\n",
              "      </button>\n",
              "      \n",
              "  <style>\n",
              "    .colab-df-container {\n",
              "      display:flex;\n",
              "      flex-wrap:wrap;\n",
              "      gap: 12px;\n",
              "    }\n",
              "\n",
              "    .colab-df-convert {\n",
              "      background-color: #E8F0FE;\n",
              "      border: none;\n",
              "      border-radius: 50%;\n",
              "      cursor: pointer;\n",
              "      display: none;\n",
              "      fill: #1967D2;\n",
              "      height: 32px;\n",
              "      padding: 0 0 0 0;\n",
              "      width: 32px;\n",
              "    }\n",
              "\n",
              "    .colab-df-convert:hover {\n",
              "      background-color: #E2EBFA;\n",
              "      box-shadow: 0px 1px 2px rgba(60, 64, 67, 0.3), 0px 1px 3px 1px rgba(60, 64, 67, 0.15);\n",
              "      fill: #174EA6;\n",
              "    }\n",
              "\n",
              "    [theme=dark] .colab-df-convert {\n",
              "      background-color: #3B4455;\n",
              "      fill: #D2E3FC;\n",
              "    }\n",
              "\n",
              "    [theme=dark] .colab-df-convert:hover {\n",
              "      background-color: #434B5C;\n",
              "      box-shadow: 0px 1px 3px 1px rgba(0, 0, 0, 0.15);\n",
              "      filter: drop-shadow(0px 1px 2px rgba(0, 0, 0, 0.3));\n",
              "      fill: #FFFFFF;\n",
              "    }\n",
              "  </style>\n",
              "\n",
              "      <script>\n",
              "        const buttonEl =\n",
              "          document.querySelector('#df-2fd927ae-1640-4fad-bb77-50b2936bec38 button.colab-df-convert');\n",
              "        buttonEl.style.display =\n",
              "          google.colab.kernel.accessAllowed ? 'block' : 'none';\n",
              "\n",
              "        async function convertToInteractive(key) {\n",
              "          const element = document.querySelector('#df-2fd927ae-1640-4fad-bb77-50b2936bec38');\n",
              "          const dataTable =\n",
              "            await google.colab.kernel.invokeFunction('convertToInteractive',\n",
              "                                                     [key], {});\n",
              "          if (!dataTable) return;\n",
              "\n",
              "          const docLinkHtml = 'Like what you see? Visit the ' +\n",
              "            '<a target=\"_blank\" href=https://colab.research.google.com/notebooks/data_table.ipynb>data table notebook</a>'\n",
              "            + ' to learn more about interactive tables.';\n",
              "          element.innerHTML = '';\n",
              "          dataTable['output_type'] = 'display_data';\n",
              "          await google.colab.output.renderOutput(dataTable, element);\n",
              "          const docLink = document.createElement('div');\n",
              "          docLink.innerHTML = docLinkHtml;\n",
              "          element.appendChild(docLink);\n",
              "        }\n",
              "      </script>\n",
              "    </div>\n",
              "  </div>\n",
              "  "
            ]
          },
          "metadata": {},
          "execution_count": 29
        }
      ]
    },
    {
      "cell_type": "markdown",
      "metadata": {
        "id": "2T_LBUzBvAds"
      },
      "source": [
        "Y podríamos combinar las dos acciones previas y seleccionar un rango de filas y también columnas específicas."
      ]
    },
    {
      "cell_type": "code",
      "metadata": {
        "id": "Mq3fjfrfvAn8",
        "colab": {
          "base_uri": "https://localhost:8080/",
          "height": 206
        },
        "outputId": "f8413bbc-aca8-41db-db1a-e942600c4997"
      },
      "source": [
        "df.loc[5:9, ['x', 'y']]"
      ],
      "execution_count": null,
      "outputs": [
        {
          "output_type": "execute_result",
          "data": {
            "text/plain": [
              "      x      y\n",
              "5  14.0   9.96\n",
              "6   6.0   7.24\n",
              "7   4.0   4.26\n",
              "8  12.0  10.84\n",
              "9   7.0   4.82"
            ],
            "text/html": [
              "\n",
              "  <div id=\"df-f79ab4cd-728c-4bd0-acee-2adb1bccdd69\">\n",
              "    <div class=\"colab-df-container\">\n",
              "      <div>\n",
              "<style scoped>\n",
              "    .dataframe tbody tr th:only-of-type {\n",
              "        vertical-align: middle;\n",
              "    }\n",
              "\n",
              "    .dataframe tbody tr th {\n",
              "        vertical-align: top;\n",
              "    }\n",
              "\n",
              "    .dataframe thead th {\n",
              "        text-align: right;\n",
              "    }\n",
              "</style>\n",
              "<table border=\"1\" class=\"dataframe\">\n",
              "  <thead>\n",
              "    <tr style=\"text-align: right;\">\n",
              "      <th></th>\n",
              "      <th>x</th>\n",
              "      <th>y</th>\n",
              "    </tr>\n",
              "  </thead>\n",
              "  <tbody>\n",
              "    <tr>\n",
              "      <th>5</th>\n",
              "      <td>14.0</td>\n",
              "      <td>9.96</td>\n",
              "    </tr>\n",
              "    <tr>\n",
              "      <th>6</th>\n",
              "      <td>6.0</td>\n",
              "      <td>7.24</td>\n",
              "    </tr>\n",
              "    <tr>\n",
              "      <th>7</th>\n",
              "      <td>4.0</td>\n",
              "      <td>4.26</td>\n",
              "    </tr>\n",
              "    <tr>\n",
              "      <th>8</th>\n",
              "      <td>12.0</td>\n",
              "      <td>10.84</td>\n",
              "    </tr>\n",
              "    <tr>\n",
              "      <th>9</th>\n",
              "      <td>7.0</td>\n",
              "      <td>4.82</td>\n",
              "    </tr>\n",
              "  </tbody>\n",
              "</table>\n",
              "</div>\n",
              "      <button class=\"colab-df-convert\" onclick=\"convertToInteractive('df-f79ab4cd-728c-4bd0-acee-2adb1bccdd69')\"\n",
              "              title=\"Convert this dataframe to an interactive table.\"\n",
              "              style=\"display:none;\">\n",
              "        \n",
              "  <svg xmlns=\"http://www.w3.org/2000/svg\" height=\"24px\"viewBox=\"0 0 24 24\"\n",
              "       width=\"24px\">\n",
              "    <path d=\"M0 0h24v24H0V0z\" fill=\"none\"/>\n",
              "    <path d=\"M18.56 5.44l.94 2.06.94-2.06 2.06-.94-2.06-.94-.94-2.06-.94 2.06-2.06.94zm-11 1L8.5 8.5l.94-2.06 2.06-.94-2.06-.94L8.5 2.5l-.94 2.06-2.06.94zm10 10l.94 2.06.94-2.06 2.06-.94-2.06-.94-.94-2.06-.94 2.06-2.06.94z\"/><path d=\"M17.41 7.96l-1.37-1.37c-.4-.4-.92-.59-1.43-.59-.52 0-1.04.2-1.43.59L10.3 9.45l-7.72 7.72c-.78.78-.78 2.05 0 2.83L4 21.41c.39.39.9.59 1.41.59.51 0 1.02-.2 1.41-.59l7.78-7.78 2.81-2.81c.8-.78.8-2.07 0-2.86zM5.41 20L4 18.59l7.72-7.72 1.47 1.35L5.41 20z\"/>\n",
              "  </svg>\n",
              "      </button>\n",
              "      \n",
              "  <style>\n",
              "    .colab-df-container {\n",
              "      display:flex;\n",
              "      flex-wrap:wrap;\n",
              "      gap: 12px;\n",
              "    }\n",
              "\n",
              "    .colab-df-convert {\n",
              "      background-color: #E8F0FE;\n",
              "      border: none;\n",
              "      border-radius: 50%;\n",
              "      cursor: pointer;\n",
              "      display: none;\n",
              "      fill: #1967D2;\n",
              "      height: 32px;\n",
              "      padding: 0 0 0 0;\n",
              "      width: 32px;\n",
              "    }\n",
              "\n",
              "    .colab-df-convert:hover {\n",
              "      background-color: #E2EBFA;\n",
              "      box-shadow: 0px 1px 2px rgba(60, 64, 67, 0.3), 0px 1px 3px 1px rgba(60, 64, 67, 0.15);\n",
              "      fill: #174EA6;\n",
              "    }\n",
              "\n",
              "    [theme=dark] .colab-df-convert {\n",
              "      background-color: #3B4455;\n",
              "      fill: #D2E3FC;\n",
              "    }\n",
              "\n",
              "    [theme=dark] .colab-df-convert:hover {\n",
              "      background-color: #434B5C;\n",
              "      box-shadow: 0px 1px 3px 1px rgba(0, 0, 0, 0.15);\n",
              "      filter: drop-shadow(0px 1px 2px rgba(0, 0, 0, 0.3));\n",
              "      fill: #FFFFFF;\n",
              "    }\n",
              "  </style>\n",
              "\n",
              "      <script>\n",
              "        const buttonEl =\n",
              "          document.querySelector('#df-f79ab4cd-728c-4bd0-acee-2adb1bccdd69 button.colab-df-convert');\n",
              "        buttonEl.style.display =\n",
              "          google.colab.kernel.accessAllowed ? 'block' : 'none';\n",
              "\n",
              "        async function convertToInteractive(key) {\n",
              "          const element = document.querySelector('#df-f79ab4cd-728c-4bd0-acee-2adb1bccdd69');\n",
              "          const dataTable =\n",
              "            await google.colab.kernel.invokeFunction('convertToInteractive',\n",
              "                                                     [key], {});\n",
              "          if (!dataTable) return;\n",
              "\n",
              "          const docLinkHtml = 'Like what you see? Visit the ' +\n",
              "            '<a target=\"_blank\" href=https://colab.research.google.com/notebooks/data_table.ipynb>data table notebook</a>'\n",
              "            + ' to learn more about interactive tables.';\n",
              "          element.innerHTML = '';\n",
              "          dataTable['output_type'] = 'display_data';\n",
              "          await google.colab.output.renderOutput(dataTable, element);\n",
              "          const docLink = document.createElement('div');\n",
              "          docLink.innerHTML = docLinkHtml;\n",
              "          element.appendChild(docLink);\n",
              "        }\n",
              "      </script>\n",
              "    </div>\n",
              "  </div>\n",
              "  "
            ]
          },
          "metadata": {},
          "execution_count": 30
        }
      ]
    },
    {
      "cell_type": "markdown",
      "metadata": {
        "id": "D51hA3Xo14oV"
      },
      "source": [
        "También podemos usar operadores de comparación o booleanos en los valores de las columnas. Este código, por ejemplo, crea una _Serie_ que muestra qué filas de la columna \"x\" tienen un valor superior a 8.\n"
      ]
    },
    {
      "cell_type": "code",
      "metadata": {
        "id": "dp-I5gZu14xS",
        "colab": {
          "base_uri": "https://localhost:8080/"
        },
        "outputId": "93cf0807-cebd-440e-ef1f-73a09cf7edd7"
      },
      "source": [
        "df['x'] > 8"
      ],
      "execution_count": null,
      "outputs": [
        {
          "output_type": "execute_result",
          "data": {
            "text/plain": [
              "0      True\n",
              "1     False\n",
              "2      True\n",
              "3      True\n",
              "4      True\n",
              "5      True\n",
              "6     False\n",
              "7     False\n",
              "8      True\n",
              "9     False\n",
              "10    False\n",
              "11     True\n",
              "12    False\n",
              "13     True\n",
              "14     True\n",
              "15     True\n",
              "16     True\n",
              "17    False\n",
              "18    False\n",
              "19     True\n",
              "20    False\n",
              "21    False\n",
              "22     True\n",
              "23    False\n",
              "24     True\n",
              "25     True\n",
              "26     True\n",
              "27     True\n",
              "28    False\n",
              "29    False\n",
              "30     True\n",
              "31    False\n",
              "32    False\n",
              "33    False\n",
              "34    False\n",
              "35    False\n",
              "36    False\n",
              "37    False\n",
              "38    False\n",
              "39    False\n",
              "40     True\n",
              "41    False\n",
              "42    False\n",
              "43    False\n",
              "Name: x, dtype: bool"
            ]
          },
          "metadata": {},
          "execution_count": 31
        }
      ]
    },
    {
      "cell_type": "markdown",
      "metadata": {
        "id": "blClRnSI2Ko_"
      },
      "source": [
        "La  _Serie_  creada anteriormente puede ser usada como un filtro del conjunto de datos original. Este código crea un _dataframe_ que sólo contiene aquellas filas del *datafram*  original que tengan un valor superior a 8 en la columna \"x\".\n"
      ]
    },
    {
      "cell_type": "code",
      "metadata": {
        "id": "MnzZ83Y_2K2_",
        "colab": {
          "base_uri": "https://localhost:8080/",
          "height": 645
        },
        "outputId": "5d33d534-3248-4939-ed55-8c9e19b3f311"
      },
      "source": [
        "df[df['x'] > 8]"
      ],
      "execution_count": null,
      "outputs": [
        {
          "output_type": "execute_result",
          "data": {
            "text/plain": [
              "   dataset     x      y\n",
              "0        I  10.0   8.04\n",
              "2        I  13.0   7.58\n",
              "3        I   9.0   8.81\n",
              "4        I  11.0   8.33\n",
              "5        I  14.0   9.96\n",
              "8        I  12.0  10.84\n",
              "11      II  10.0   9.14\n",
              "13      II  13.0   8.74\n",
              "14      II   9.0   8.77\n",
              "15      II  11.0   9.26\n",
              "16      II  14.0   8.10\n",
              "19      II  12.0   9.13\n",
              "22     III  10.0   7.46\n",
              "24     III  13.0  12.74\n",
              "25     III   9.0   7.11\n",
              "26     III  11.0   7.81\n",
              "27     III  14.0   8.84\n",
              "30     III  12.0   8.15\n",
              "40      IV  19.0  12.50"
            ],
            "text/html": [
              "\n",
              "  <div id=\"df-c21dfd27-ba52-49c0-b14d-23555039b8c0\">\n",
              "    <div class=\"colab-df-container\">\n",
              "      <div>\n",
              "<style scoped>\n",
              "    .dataframe tbody tr th:only-of-type {\n",
              "        vertical-align: middle;\n",
              "    }\n",
              "\n",
              "    .dataframe tbody tr th {\n",
              "        vertical-align: top;\n",
              "    }\n",
              "\n",
              "    .dataframe thead th {\n",
              "        text-align: right;\n",
              "    }\n",
              "</style>\n",
              "<table border=\"1\" class=\"dataframe\">\n",
              "  <thead>\n",
              "    <tr style=\"text-align: right;\">\n",
              "      <th></th>\n",
              "      <th>dataset</th>\n",
              "      <th>x</th>\n",
              "      <th>y</th>\n",
              "    </tr>\n",
              "  </thead>\n",
              "  <tbody>\n",
              "    <tr>\n",
              "      <th>0</th>\n",
              "      <td>I</td>\n",
              "      <td>10.0</td>\n",
              "      <td>8.04</td>\n",
              "    </tr>\n",
              "    <tr>\n",
              "      <th>2</th>\n",
              "      <td>I</td>\n",
              "      <td>13.0</td>\n",
              "      <td>7.58</td>\n",
              "    </tr>\n",
              "    <tr>\n",
              "      <th>3</th>\n",
              "      <td>I</td>\n",
              "      <td>9.0</td>\n",
              "      <td>8.81</td>\n",
              "    </tr>\n",
              "    <tr>\n",
              "      <th>4</th>\n",
              "      <td>I</td>\n",
              "      <td>11.0</td>\n",
              "      <td>8.33</td>\n",
              "    </tr>\n",
              "    <tr>\n",
              "      <th>5</th>\n",
              "      <td>I</td>\n",
              "      <td>14.0</td>\n",
              "      <td>9.96</td>\n",
              "    </tr>\n",
              "    <tr>\n",
              "      <th>8</th>\n",
              "      <td>I</td>\n",
              "      <td>12.0</td>\n",
              "      <td>10.84</td>\n",
              "    </tr>\n",
              "    <tr>\n",
              "      <th>11</th>\n",
              "      <td>II</td>\n",
              "      <td>10.0</td>\n",
              "      <td>9.14</td>\n",
              "    </tr>\n",
              "    <tr>\n",
              "      <th>13</th>\n",
              "      <td>II</td>\n",
              "      <td>13.0</td>\n",
              "      <td>8.74</td>\n",
              "    </tr>\n",
              "    <tr>\n",
              "      <th>14</th>\n",
              "      <td>II</td>\n",
              "      <td>9.0</td>\n",
              "      <td>8.77</td>\n",
              "    </tr>\n",
              "    <tr>\n",
              "      <th>15</th>\n",
              "      <td>II</td>\n",
              "      <td>11.0</td>\n",
              "      <td>9.26</td>\n",
              "    </tr>\n",
              "    <tr>\n",
              "      <th>16</th>\n",
              "      <td>II</td>\n",
              "      <td>14.0</td>\n",
              "      <td>8.10</td>\n",
              "    </tr>\n",
              "    <tr>\n",
              "      <th>19</th>\n",
              "      <td>II</td>\n",
              "      <td>12.0</td>\n",
              "      <td>9.13</td>\n",
              "    </tr>\n",
              "    <tr>\n",
              "      <th>22</th>\n",
              "      <td>III</td>\n",
              "      <td>10.0</td>\n",
              "      <td>7.46</td>\n",
              "    </tr>\n",
              "    <tr>\n",
              "      <th>24</th>\n",
              "      <td>III</td>\n",
              "      <td>13.0</td>\n",
              "      <td>12.74</td>\n",
              "    </tr>\n",
              "    <tr>\n",
              "      <th>25</th>\n",
              "      <td>III</td>\n",
              "      <td>9.0</td>\n",
              "      <td>7.11</td>\n",
              "    </tr>\n",
              "    <tr>\n",
              "      <th>26</th>\n",
              "      <td>III</td>\n",
              "      <td>11.0</td>\n",
              "      <td>7.81</td>\n",
              "    </tr>\n",
              "    <tr>\n",
              "      <th>27</th>\n",
              "      <td>III</td>\n",
              "      <td>14.0</td>\n",
              "      <td>8.84</td>\n",
              "    </tr>\n",
              "    <tr>\n",
              "      <th>30</th>\n",
              "      <td>III</td>\n",
              "      <td>12.0</td>\n",
              "      <td>8.15</td>\n",
              "    </tr>\n",
              "    <tr>\n",
              "      <th>40</th>\n",
              "      <td>IV</td>\n",
              "      <td>19.0</td>\n",
              "      <td>12.50</td>\n",
              "    </tr>\n",
              "  </tbody>\n",
              "</table>\n",
              "</div>\n",
              "      <button class=\"colab-df-convert\" onclick=\"convertToInteractive('df-c21dfd27-ba52-49c0-b14d-23555039b8c0')\"\n",
              "              title=\"Convert this dataframe to an interactive table.\"\n",
              "              style=\"display:none;\">\n",
              "        \n",
              "  <svg xmlns=\"http://www.w3.org/2000/svg\" height=\"24px\"viewBox=\"0 0 24 24\"\n",
              "       width=\"24px\">\n",
              "    <path d=\"M0 0h24v24H0V0z\" fill=\"none\"/>\n",
              "    <path d=\"M18.56 5.44l.94 2.06.94-2.06 2.06-.94-2.06-.94-.94-2.06-.94 2.06-2.06.94zm-11 1L8.5 8.5l.94-2.06 2.06-.94-2.06-.94L8.5 2.5l-.94 2.06-2.06.94zm10 10l.94 2.06.94-2.06 2.06-.94-2.06-.94-.94-2.06-.94 2.06-2.06.94z\"/><path d=\"M17.41 7.96l-1.37-1.37c-.4-.4-.92-.59-1.43-.59-.52 0-1.04.2-1.43.59L10.3 9.45l-7.72 7.72c-.78.78-.78 2.05 0 2.83L4 21.41c.39.39.9.59 1.41.59.51 0 1.02-.2 1.41-.59l7.78-7.78 2.81-2.81c.8-.78.8-2.07 0-2.86zM5.41 20L4 18.59l7.72-7.72 1.47 1.35L5.41 20z\"/>\n",
              "  </svg>\n",
              "      </button>\n",
              "      \n",
              "  <style>\n",
              "    .colab-df-container {\n",
              "      display:flex;\n",
              "      flex-wrap:wrap;\n",
              "      gap: 12px;\n",
              "    }\n",
              "\n",
              "    .colab-df-convert {\n",
              "      background-color: #E8F0FE;\n",
              "      border: none;\n",
              "      border-radius: 50%;\n",
              "      cursor: pointer;\n",
              "      display: none;\n",
              "      fill: #1967D2;\n",
              "      height: 32px;\n",
              "      padding: 0 0 0 0;\n",
              "      width: 32px;\n",
              "    }\n",
              "\n",
              "    .colab-df-convert:hover {\n",
              "      background-color: #E2EBFA;\n",
              "      box-shadow: 0px 1px 2px rgba(60, 64, 67, 0.3), 0px 1px 3px 1px rgba(60, 64, 67, 0.15);\n",
              "      fill: #174EA6;\n",
              "    }\n",
              "\n",
              "    [theme=dark] .colab-df-convert {\n",
              "      background-color: #3B4455;\n",
              "      fill: #D2E3FC;\n",
              "    }\n",
              "\n",
              "    [theme=dark] .colab-df-convert:hover {\n",
              "      background-color: #434B5C;\n",
              "      box-shadow: 0px 1px 3px 1px rgba(0, 0, 0, 0.15);\n",
              "      filter: drop-shadow(0px 1px 2px rgba(0, 0, 0, 0.3));\n",
              "      fill: #FFFFFF;\n",
              "    }\n",
              "  </style>\n",
              "\n",
              "      <script>\n",
              "        const buttonEl =\n",
              "          document.querySelector('#df-c21dfd27-ba52-49c0-b14d-23555039b8c0 button.colab-df-convert');\n",
              "        buttonEl.style.display =\n",
              "          google.colab.kernel.accessAllowed ? 'block' : 'none';\n",
              "\n",
              "        async function convertToInteractive(key) {\n",
              "          const element = document.querySelector('#df-c21dfd27-ba52-49c0-b14d-23555039b8c0');\n",
              "          const dataTable =\n",
              "            await google.colab.kernel.invokeFunction('convertToInteractive',\n",
              "                                                     [key], {});\n",
              "          if (!dataTable) return;\n",
              "\n",
              "          const docLinkHtml = 'Like what you see? Visit the ' +\n",
              "            '<a target=\"_blank\" href=https://colab.research.google.com/notebooks/data_table.ipynb>data table notebook</a>'\n",
              "            + ' to learn more about interactive tables.';\n",
              "          element.innerHTML = '';\n",
              "          dataTable['output_type'] = 'display_data';\n",
              "          await google.colab.output.renderOutput(dataTable, element);\n",
              "          const docLink = document.createElement('div');\n",
              "          docLink.innerHTML = docLinkHtml;\n",
              "          element.appendChild(docLink);\n",
              "        }\n",
              "      </script>\n",
              "    </div>\n",
              "  </div>\n",
              "  "
            ]
          },
          "metadata": {},
          "execution_count": 32
        }
      ]
    },
    {
      "cell_type": "markdown",
      "metadata": {
        "id": "CB0qr6203P7e"
      },
      "source": [
        "Ejemplo de función\n",
        "---\n",
        "También podemos filtrar valores no numéricos, por ejemplo, el siguiente código crea un _dataframe_ que sólo contiene las filas de la región definida como \"I\".\n"
      ]
    },
    {
      "cell_type": "code",
      "metadata": {
        "id": "ombnFT7R54mj",
        "colab": {
          "base_uri": "https://localhost:8080/",
          "height": 394
        },
        "outputId": "cab8f0de-aa30-4d9f-bf86-b6e3da63a101"
      },
      "source": [
        "#Resulta conveniente filtrar los datos por su tipo, es decir las diferentes regiones mencionadas antes de tipo I , II y II y III.\n",
        "#Este filtrado se puede realizar con el móduldo de pandas, que permite filtrar los datos colocando \"condiciones\" como índices, en este\n",
        "#caso la condición de que la columna \"dataset\" tenga el valor I , II o III.\n",
        "df_I = df[df['dataset']=='I']\n",
        "df_II = df[df['dataset']=='II']\n",
        "df_III = df[df['dataset']=='III']\n",
        "df_IV = df[df['dataset']=='IV']\n",
        "\n",
        "df_I"
      ],
      "execution_count": null,
      "outputs": [
        {
          "output_type": "execute_result",
          "data": {
            "text/plain": [
              "   dataset     x      y\n",
              "0        I  10.0   8.04\n",
              "1        I   8.0   6.95\n",
              "2        I  13.0   7.58\n",
              "3        I   9.0   8.81\n",
              "4        I  11.0   8.33\n",
              "5        I  14.0   9.96\n",
              "6        I   6.0   7.24\n",
              "7        I   4.0   4.26\n",
              "8        I  12.0  10.84\n",
              "9        I   7.0   4.82\n",
              "10       I   5.0   5.68"
            ],
            "text/html": [
              "\n",
              "  <div id=\"df-7d00031b-714c-440a-b80f-f92d4f36b8d5\">\n",
              "    <div class=\"colab-df-container\">\n",
              "      <div>\n",
              "<style scoped>\n",
              "    .dataframe tbody tr th:only-of-type {\n",
              "        vertical-align: middle;\n",
              "    }\n",
              "\n",
              "    .dataframe tbody tr th {\n",
              "        vertical-align: top;\n",
              "    }\n",
              "\n",
              "    .dataframe thead th {\n",
              "        text-align: right;\n",
              "    }\n",
              "</style>\n",
              "<table border=\"1\" class=\"dataframe\">\n",
              "  <thead>\n",
              "    <tr style=\"text-align: right;\">\n",
              "      <th></th>\n",
              "      <th>dataset</th>\n",
              "      <th>x</th>\n",
              "      <th>y</th>\n",
              "    </tr>\n",
              "  </thead>\n",
              "  <tbody>\n",
              "    <tr>\n",
              "      <th>0</th>\n",
              "      <td>I</td>\n",
              "      <td>10.0</td>\n",
              "      <td>8.04</td>\n",
              "    </tr>\n",
              "    <tr>\n",
              "      <th>1</th>\n",
              "      <td>I</td>\n",
              "      <td>8.0</td>\n",
              "      <td>6.95</td>\n",
              "    </tr>\n",
              "    <tr>\n",
              "      <th>2</th>\n",
              "      <td>I</td>\n",
              "      <td>13.0</td>\n",
              "      <td>7.58</td>\n",
              "    </tr>\n",
              "    <tr>\n",
              "      <th>3</th>\n",
              "      <td>I</td>\n",
              "      <td>9.0</td>\n",
              "      <td>8.81</td>\n",
              "    </tr>\n",
              "    <tr>\n",
              "      <th>4</th>\n",
              "      <td>I</td>\n",
              "      <td>11.0</td>\n",
              "      <td>8.33</td>\n",
              "    </tr>\n",
              "    <tr>\n",
              "      <th>5</th>\n",
              "      <td>I</td>\n",
              "      <td>14.0</td>\n",
              "      <td>9.96</td>\n",
              "    </tr>\n",
              "    <tr>\n",
              "      <th>6</th>\n",
              "      <td>I</td>\n",
              "      <td>6.0</td>\n",
              "      <td>7.24</td>\n",
              "    </tr>\n",
              "    <tr>\n",
              "      <th>7</th>\n",
              "      <td>I</td>\n",
              "      <td>4.0</td>\n",
              "      <td>4.26</td>\n",
              "    </tr>\n",
              "    <tr>\n",
              "      <th>8</th>\n",
              "      <td>I</td>\n",
              "      <td>12.0</td>\n",
              "      <td>10.84</td>\n",
              "    </tr>\n",
              "    <tr>\n",
              "      <th>9</th>\n",
              "      <td>I</td>\n",
              "      <td>7.0</td>\n",
              "      <td>4.82</td>\n",
              "    </tr>\n",
              "    <tr>\n",
              "      <th>10</th>\n",
              "      <td>I</td>\n",
              "      <td>5.0</td>\n",
              "      <td>5.68</td>\n",
              "    </tr>\n",
              "  </tbody>\n",
              "</table>\n",
              "</div>\n",
              "      <button class=\"colab-df-convert\" onclick=\"convertToInteractive('df-7d00031b-714c-440a-b80f-f92d4f36b8d5')\"\n",
              "              title=\"Convert this dataframe to an interactive table.\"\n",
              "              style=\"display:none;\">\n",
              "        \n",
              "  <svg xmlns=\"http://www.w3.org/2000/svg\" height=\"24px\"viewBox=\"0 0 24 24\"\n",
              "       width=\"24px\">\n",
              "    <path d=\"M0 0h24v24H0V0z\" fill=\"none\"/>\n",
              "    <path d=\"M18.56 5.44l.94 2.06.94-2.06 2.06-.94-2.06-.94-.94-2.06-.94 2.06-2.06.94zm-11 1L8.5 8.5l.94-2.06 2.06-.94-2.06-.94L8.5 2.5l-.94 2.06-2.06.94zm10 10l.94 2.06.94-2.06 2.06-.94-2.06-.94-.94-2.06-.94 2.06-2.06.94z\"/><path d=\"M17.41 7.96l-1.37-1.37c-.4-.4-.92-.59-1.43-.59-.52 0-1.04.2-1.43.59L10.3 9.45l-7.72 7.72c-.78.78-.78 2.05 0 2.83L4 21.41c.39.39.9.59 1.41.59.51 0 1.02-.2 1.41-.59l7.78-7.78 2.81-2.81c.8-.78.8-2.07 0-2.86zM5.41 20L4 18.59l7.72-7.72 1.47 1.35L5.41 20z\"/>\n",
              "  </svg>\n",
              "      </button>\n",
              "      \n",
              "  <style>\n",
              "    .colab-df-container {\n",
              "      display:flex;\n",
              "      flex-wrap:wrap;\n",
              "      gap: 12px;\n",
              "    }\n",
              "\n",
              "    .colab-df-convert {\n",
              "      background-color: #E8F0FE;\n",
              "      border: none;\n",
              "      border-radius: 50%;\n",
              "      cursor: pointer;\n",
              "      display: none;\n",
              "      fill: #1967D2;\n",
              "      height: 32px;\n",
              "      padding: 0 0 0 0;\n",
              "      width: 32px;\n",
              "    }\n",
              "\n",
              "    .colab-df-convert:hover {\n",
              "      background-color: #E2EBFA;\n",
              "      box-shadow: 0px 1px 2px rgba(60, 64, 67, 0.3), 0px 1px 3px 1px rgba(60, 64, 67, 0.15);\n",
              "      fill: #174EA6;\n",
              "    }\n",
              "\n",
              "    [theme=dark] .colab-df-convert {\n",
              "      background-color: #3B4455;\n",
              "      fill: #D2E3FC;\n",
              "    }\n",
              "\n",
              "    [theme=dark] .colab-df-convert:hover {\n",
              "      background-color: #434B5C;\n",
              "      box-shadow: 0px 1px 3px 1px rgba(0, 0, 0, 0.15);\n",
              "      filter: drop-shadow(0px 1px 2px rgba(0, 0, 0, 0.3));\n",
              "      fill: #FFFFFF;\n",
              "    }\n",
              "  </style>\n",
              "\n",
              "      <script>\n",
              "        const buttonEl =\n",
              "          document.querySelector('#df-7d00031b-714c-440a-b80f-f92d4f36b8d5 button.colab-df-convert');\n",
              "        buttonEl.style.display =\n",
              "          google.colab.kernel.accessAllowed ? 'block' : 'none';\n",
              "\n",
              "        async function convertToInteractive(key) {\n",
              "          const element = document.querySelector('#df-7d00031b-714c-440a-b80f-f92d4f36b8d5');\n",
              "          const dataTable =\n",
              "            await google.colab.kernel.invokeFunction('convertToInteractive',\n",
              "                                                     [key], {});\n",
              "          if (!dataTable) return;\n",
              "\n",
              "          const docLinkHtml = 'Like what you see? Visit the ' +\n",
              "            '<a target=\"_blank\" href=https://colab.research.google.com/notebooks/data_table.ipynb>data table notebook</a>'\n",
              "            + ' to learn more about interactive tables.';\n",
              "          element.innerHTML = '';\n",
              "          dataTable['output_type'] = 'display_data';\n",
              "          await google.colab.output.renderOutput(dataTable, element);\n",
              "          const docLink = document.createElement('div');\n",
              "          docLink.innerHTML = docLinkHtml;\n",
              "          element.appendChild(docLink);\n",
              "        }\n",
              "      </script>\n",
              "    </div>\n",
              "  </div>\n",
              "  "
            ]
          },
          "metadata": {},
          "execution_count": 33
        }
      ]
    },
    {
      "cell_type": "markdown",
      "metadata": {
        "id": "SYk_rHtewAbv"
      },
      "source": [
        "# Cargar datos en google colab para aprender a limpiar datos \n",
        "Esto es una manera adecuada y cómoda para tener tus datos en una plataforma de fácil acceso que es google colab,para este caso se debe \n",
        "\n",
        "Subir un archivo desde la PC a Google Colab\n",
        "\n",
        "\n",
        "**No ejecutar este cuadro hasta que se encuentre subido**\n",
        "\n",
        "1. Descargamos el dataset desde la URL a la PC.\n",
        "2. Vamos al último ícono de la barra lateral a la izquierda de la pantalla (\"Archivos\" o \"Files\").\n",
        "\n",
        "![fig1.png](data:image/png;base64,iVBORw0KGgoAAAANSUhEUgAAAQQAAADMCAYAAACVxN1nAAABhGlDQ1BJQ0MgcHJvZmlsZQAAKJF9kT1Iw0AcxV9bpUWrDhYUcchQnSyIijhqFYpQIdQKrTqYXPoFTRqSFBdHwbXg4Mdi1cHFWVcHV0EQ/ABxcnRSdJES/5cUWsR4cNyPd/ced+8Af73MVLNjHFA1y0gl4kImuyoEX9GNXgwACEnM1OdEMQnP8XUPH1/vYjzL+9yfo0fJmQzwCcSzTDcs4g3i6U1L57xPHGFFSSE+Jx4z6ILEj1yXXX7jXHDYzzMjRjo1TxwhFgptLLcxKxoq8RRxVFE1yvdnXFY4b3FWy1XWvCd/YTinrSxzneYwEljEEkQIkFFFCWVYiNGqkWIiRftxD/+Q4xfJJZOrBEaOBVSgQnL84H/wu1szPznhJoXjQOeLbX+MAMFdoFGz7e9j226cAIFn4Epr+St1YOaT9FpLix4BfdvAxXVLk/eAyx1g8EmXDMmRAjT9+TzwfkbflAX6b4GuNbe35j5OH4A0dZW8AQ4OgdECZa97vDvU3tu/Z5r9/QD2cHJ1UBKQXwAAAAZiS0dEAP8A/wD/oL2nkwAAAAlwSFlzAAALEwAACxMBAJqcGAAAAAd0SU1FB+QLDhcCK1HtmyEAAAAZdEVYdENvbW1lbnQAQ3JlYXRlZCB3aXRoIEdJTVBXgQ4XAAAgAElEQVR42u29f0xbd57v/epOa+9kwM9uat+JLg5X2JmNse4tuFLAUhO4UQN5dggzKnClmEhPgN0G0h/Q9g5OpTHV3IC0xUhtoNMEthOgzxZYaSCjBqJ9ApUycBvVZKWYSk9tOsVIl5hVbu3NTA806XGm8f3DBsyvBBKSkvTzklAUn3O+v7/v8/l8vt9zzmPRaDSKIAgC8BfSBIIgiCAIgrCMx7/44gtpBUEQAHhss8UQvvjiC37yk59IzwiCuAyCIIggCIIggiAIggiCIAgiCIIgiCAIgiCCIAiCCIIgCCIIgiCIIAiC8EjxuDTB2pj19fPub/q46LtKRLOVHc84eOHFQqxJS8+cou+ll+jb7uTXx3azdbX0LrxOyXvbeav7RayM8XZpA398vpPje5MemTa71v8a/+3Ep6sc/RH5/3CWY1kytkQQHjIiE+/x2mv9aApf5PgL6WydDdD3m7d5/Q349VuFpCace7X/BH1JL/LWbcRgOansdTiYTU96pNpt614XXRmzRAACPbzWeIX9bznZnwRoNCRtvYc++fgNfnbir3mz91UyZYiKINwtjY2NOBwOUlNT13qf48LJPq5mueh+cTdJ8Qn8qusa/rL36Rsr5NWEEbmt8C26C9c9dcgsLH702i5pK9vmZv1sEho0bNuWSupWmXgiCJuEzz//nOvXr6/DV/iUCz4Nu45nsej+ve0Z/p/iKf43s0ASRCY4//YJ3r84wTW2suOZw7zy6n52aOZ05RLvNpyg33cNzbYsCtNnExIbo/Fnr/O18//j+G6ACBP9jbjfv8jU7Fas+wvZ7n+fK8XdvLV/KzCLr+9tTvRcZGpWw1brfp53Ps/ebZrN1XZr4erHvOv+Ded9V2HrDvY+7+TFvalorvbz2pH3SHq1O+ZGzV6isewNAvvf5r9deZU3L94E4L8/e4H/+g9nqcuCyNWPeS+eViQplWccr/BqsZUkmedrRoKKdzQQrnKVrexYNtm2sfv5VynOTIpZEQ2v8e6VdF54q5POt17AHHib1xoucC026ul74w3OR57B9et/5K1XdnHlUz83V9OgS2/z+rt+th1+k1//o4tCzUUuBBbOnup7ndd6/she5z/S2fkmh//6X2l87W0uzT5svtgYb7/mxm/+e97q7OTNw9v5tPEN3p8AthXyiiOVS++9x1gkwkTPSS4kFfLK4XTyXGf50LWLJ/46n3/4sJe6LGD2Em+/1sC//vgwb3Z28o/OXfzx/dd5ve+qjGERhI0ctLPAHe68U+fpubQNh/NFdu/YxrYdu3nVWczWSz2cnwKmLtA/sY1C54vs3pHKjsxCnIczeGLlDBkbuEAk6wWchZnsSLWy98UX2P/jJ+atib6eCayHXTiyUtm2zcr+Y6+wP3KBMxevPVxae+GfOZ/kwPnibnZs24Z1/4sczrrKhfMTMces+BWKNec5+fbbnOiLsPeFw1g1sfiD5gkNoEGTpJlP6wL7eeXVvVi3bSM163lcz+9goq8Pn4xicRkS/d7PP/980W9ut3vR/9vb21dPQJOEJhYWW10zAn6mksykJ7rWO3aRruljYioCTHBVYyYj8bhmNZG5ypWrkLp/R4Kpq1k4/doVArPbyEhPcMQ1VjKt8K7vKuzfunna7g5M+Sa4GRjjyP/9/sKPN2/Cf40Lm2YHh1/Zz4X/PkDkmf/Bm1lJt0lrCnYUxgRjLjKTns62a36uXAOrxC1EEAAcDsciv9ftdnPw4MG1B8a2bmMr15i4GoFUzaKJe6mvnz+mO9j7BCtYETERuZk4qTeoTppVs4tsrrZbA09kPM+vnc8s9vMTlh8is7FVikjk69vXTgN8vZrNJYggxFlp8KampmKxWNaWQFIGz1gjvH/+ErNZuxcG7tWL/L/vncf85vPsT00ndfYC/inInMtu4lP8kVT2p2qAHaRGLhK4Cpnb7jRKt7F9u4Yp3wSR4m3xeR8hMnf+1u1sT7pKwH+N+XB9xMfYBKTuTd1cbXen9Hdsg4tTzG4tXgi+RiJE5syhyBjvnfxXUg/+PUn973Hiwi6O7926Slqp0PMpE5Hd81bCNb+fq0nbMYt1IDGEjWMr+/++mK0XT/DGex/jm5piauwC7za8z9QOB8WZQOp+ijOv0uN+j4+nrnJ14mPePdHPtcxi9qcCqXsp3DFBz8nzTM1GiFy9xPt9Y6sEFTVkFT6D5uJJGvvHmJry8fG7Jzn/v+fOzqTYsYOx99z0jU1x9aqP82+f4Dx7OfjMwzXyt+49yDOcx93Qx9jUVa76LvD2S2U0fjwLRPC9d4LzmkJeeN7BC4e3cend9+YDpxrNj9DMBvD7prg2G0trb6SfE+9eYOLqVaYu9dDwvo8djmKsMojFQthINNbnefPNJN49eYLX/vmP8KMfY33med58cW5T0lb2u94i8u4JThz5Z2Y1P2bHM8/z1ov745uTtlF4/DhTDSc48vO30fzYyt4MKz9aZROfJvNV3nyxEfd7r1MeSSJ9714yfzzBbNxeSC0+zpuRE5xsOMLJWQ3brfs59tbzZD1s62tJuzn21qu8e+J93jhykkjSdjL3v4JzdxJM9HCif5a9xx3sACh8heL+lzjxfiGdL1rRZBbjsL7O+6+9xNTxXo5lZfHqW8d498R7vFZ2Lb7s+CavFqfKAF4H8tblh4HIJepLGsDZS91ujbSHsDkshNOnTzM+Ps6xY8cIh8PLItCr8eSTT7J7925p7bXO/7G3OfIbOPyCg4yts3z6/kkuanbhyhQxEDaRIFy+fJkbN24QDocZHx/n7Nmza7pu586dIgjrcVEyHbyQcZLfvFFGwx81/Dj9GV5881V2y5Y7YTO5DFNTU0xNTd3XyS0ugyA8JBZCamrqhq5BC4KwuVjXsuP169cJh8PSaoIgFkJsK+uVK1f41a9+xdTUFBcvXlzTddu3b6e0tFRaWxAeJQtBEIRHm3UFFa9fv87169fR6/X3rUASVBSEh8Rl2LJlC1u2bJFWEwRxGVhX3EAQhEfcQmhsbOTGjRs8+eST696YdOzYMWltQXiUBOHpp59mfHwcvV6/rkdg72fMQRCEjWNTPtwkCMJDYCE8KP7yL/+Sxx57jMcee0x6SBC+74LwxBNPLBIEEQZB+J4Lwl/8xV+IEAiCCAI8/vjj/OAHPxC3QRBEEEQQBEEEIYEf/OAHIgiCIIIQY04IJI4gCCII84IgFoIgiCCg0cjLRAXhu0DehyAIggiCIAgiCIIgiCAIgiCCIAiCCIIgCCIIgiCIIAiCIIIgCIIIgiAIIgiCIIggCIIggiAIggiCIAgiCIIgiCAIgiCCIAiCCIIgCCIIgiCIIAiCIIIgCMJDzePSBMLDiYK3y427YxBvMAy6TGo6z3DUKi2zgErI209v3yhjIQW0BszZOeTl5mIzahedGTi1j7ymSRGExXiozSilbyaF8r7/SZ3t+z6evNQXldGl5NJ0poVCw+Ypmu+UA0eTnwigSdajk8G7TDA99Q7KOmJtNMfQQDetmS5GzlRg3CgLIRwO09PTg9frnf/NZrPx85//nNTUVOmLh1IE06kdOsdRc8KhkBevf4YIXkaDbB5BUIdpbfUTIZkcVw9tFVa00pFLmqie6g4/EY2JA04n5XYjWjVEwDfCKPYVxeCuBGFqaorGxkZu3LiBzWZj+/btXLlyBa/Xy/j4OC+//DIWi0V65FHAeIimVi3DqpWSzWQthQIEZoDkXMoPiRis5Cp4BgYJAymHmmipWOg8qy2Xwo2KIVy/fp133nkHgF/96leLrIE5oXjnnXdoampiy5Yt0i8PPVrM+Ycwb7rxrsaLp0MrarCiuxAMzgAarNnrC6qsa5Xh8uXL/Pu//zsOh2OZa5Camsrf/d3fcePGDS5fvvxota/PzT6TCVNRO4GQly6Xg31ZGVhMFjL2FFB5aphQvCO8XS4c+7KwmExYMrIoKKunP6AuM9NdWSZMlkr6g166XGUU7Imnl1VAWX0vPmW1yRBkuL0Wx749ZFgs8TxqafeEUFdwB1xZJkymItq9Hk5VF5CVYcKUUctw4BQFJhMmUyl9MwB+mvJMmEwmHL2h+PWDVFpMmEwOukIJN+guByaTiT31XtTQMKeqi9iTYcFkspC1rwxXb2CFsgCKj976MgqyMrBYLGTsKaL6lIdgsAuHyYRpnxvfbS2D+Hl5TfgBwt2UmmJl3ueOXxmI99U+Nx5vF7VFe8iwmLCU9ZPYpIq3F3dlEXsSylLp7l+h3VX6Ky2YTBlUDysEBt1UxtM0WbLY53DRG79IDQ7G0oy3RcaeIqrbPYTWZ/7g6aqP52HBZMkga5+D2jWmo4aCBAIBppXF/w+GlASxCBAMKiv20boshHA4DMDTTz+94vG536emph5N4Q32UV3QgD+sIVlvQKeZJjztZ6ipHN+0mxqlGefANJpkPYaUZELTYfwjHdQUBVDPdVKy1HGLeKgvGiKsmsi255JvDeIdHmOkw4nHM0nPGSe2xDugMozLUUm3PwIkozcZ0SlB/CN9NIwMMlDbSedR2woBtgCtlWWEwxE0yXr0Oi1anRl7Xg4GVcE3MkaYZEzZNoxaLVbj2m67ireVsoIhRuPtoVenCU+O0O0sIqj9iM7EoIPiod5RRoc/FuLS6PVoFR8DTaV4BtLXaLAYseXloFWCeEcnmdGkkGk3o0OLMX1JrYO9VDvChCPxoKOOuGuhEuiqxFE3QhjQJKdgNEJocoyh1hqG+odo7mmhcJmTPYPP7aDA74dkPQZdMmo4zORoN05HAKUhhwFXE2MzGvQpBvRME54eY6ChFN90H+fqbHd2bVQfpxwOmsZmQJOMyWzFTIiAf5S+hlKGR5s501a4qv8PKoOufdQMzYURI4zU5ZEHkF7L0LmjmANdVOY14deX0n2pAfvSJKLr4He/+120vLw8+vXXX696Tnl5efQ3v/lN9G75wx/+EP3u+CT6i6fSomlpu6PHLyf8/Flj9Nm0tGhaWlp01+HT0ctfzh34Knr55MHoU/FjaWm7o0c++Cz61dzhL38f/eWzO6NpaWnR3cc/W5TPL3fFrtn5XGP08lcJh748H/3F7tixZxsTr/kyevbIU9G0tLToU881Rn8/X4ZvolfO/iL67M60aFrarujL579aMZ+0XUeipxcKvkKdfxo9ObH02PnokZ1p0bS0g9EPEi798oOD8frG2uOTuWPfXIme/8Xu2LGfnowuJPdN9PLx+O+7Dkc/mK/wN9Ervz8efe6peBmfbYx+tpZumjgZ/WlaWjRt1y+jnyw7ttBXTx1sjH7y5TeLDn9zee747uiR3yb01VeXo6cP7or1yZKynz0S68O0nc9Gf3l2IvrNfHXPzvdV7Lrj0d/P5/dV9LPTh2NjY+fh6Nmv7lytzxqfnU/nk4T2/mbig+jhp2L9+4tPvrl90/z+dPT06cbokbkx9PLJ6OnTp6Onz8brukrbTZyM5b0ul0Gv18+7Dqu5FADbt2+/Lzfoa9eu4fF41vR37dq1jS9Ach51LRXY5m98OmxHnZSkxA8fqKPpkHXhDm3IxVljRwNM+7wrmHwpHGpwYku8uRnyaWgoRg9M9nbjmbPrfB00D81Acg51bU5yDQt+vrGwiTZnJhrCDDR3EVjecxxoaqLCtsHLBKZy2toqsBsW7uD5ziqyAQKjC+a3OkxH7zSgp7iphUPzFdZizK2jrS6HDf/etyaHuhYndsMiE4vB5nYmAVN5Cy0lCX2ls1HR1kSxHiL+VpqHlxvUpooWGgrN83d6rbGQupq5sqdT01JH7nx+OqwV8bER8THqu7Pfr+htHCgupq7BudCmgNZ8iKpCPRDGOxK4bSrm3AoqKsrJMQBoMB84SkVFBRWF1jUtza7LZXj66afp6emhp6eH1NTURXGEuaXIH/7wh+zevfu+CIJOp+Of/umf+Jd/+Zfbnve3f/u3NDc334cCGDEua1Uz6UZgGqw59mWNrjMY0QHh0DQKsHhK6tCvYEdq7cXk6vvoC3vwBsFuBt/AIJNAcm75ist/5pJyct01DPmHGA4exbzIrjSQbtz4lXqNNXuxSwNgMGJIBmYUQgqgA3wjeGYAfT7FucvLYTDG22iD+8psWLYWx4AnAqRTWr6CCa/LpbzERF/rJMMDXshdbFAbTcuNdZ3ZiAGYTrFhXxZ9NWAyAtMKIUWF2zoNOuwVTctN+LmUUmItpCjKffWK1yUIW7Zs4eWXX+add96hsbGRp59+Gr1eTzgc5vLly9y4cYOdO3cSDofvy36Exx9/fH6iryYKc2Lw+OMPcM9VvJ9XjHhrEz28taZnjIlMOMRkEDCrBAPB2MTPNq88rHRWMs0w5A/gD8JtHM0H1RwL975gMBbQM2d+tysWAT+BCJBsxbpK+5gzrWiYZCYQIHib9frltV2589e9CKIGGGxvpXvIgy8QIjwTeaBNtO5ZY7FYOHbsGB9++CEXL16c/33nzp04HA4aGxtpbGzk2LFj91UUvv76a0ZGRr57MbhPUyomLiqKqsb+VSLzVtJqdxhd/BpV2Vy1UVU1tqNQp/1udxSqakyUdbpVy6GNlzGsKmsX8I0i1E91US0D0xE0+nRsdjv5htjSasjby8DYzOYThLklxpdffhmA8fHxRRuRjh079kBEoa2tjcrKynlRyMnJeUTEIO5PKjFh0MXNDq1OA0RQFXX1a9S4mGyyfbw6rRYNEIlPyO9s64A2fsdWVVZd1VWU2DGt9gGXU6Hf5WJgOoKpuJWepvxF7mXg1PADEYR7ftpx6a7E1NRUjh07BkBjY+N9W4LUarW0tbWRk5NDTk4ObW1tj4gYxMxGfzDBB0WLOR4UCIz5Vl3jHwskxDQ2k71jNMcGd8BP4LssiDEdswYI+/AFV/EqxgJEgGSzmQe6U1v1MuSZATIprcnnu9olfl8ef14qCtevX7+votDW1ob2odyypjAdWj69Q4N9DM8Aeju2+OS25uWSAoQHuxlcYYdKsL+b4QiQnkfuegXhfjedNQd7MjDdT7dnhfoGAzwQL0dnJ8+uAcbo7l5BWFUP3f2TQDK5efYHbCGo8Q2YK8l9CN9o6OEVhERRcDgc93Ubs1arfUjFAGCa7tpaehN2MiredqpdQ8wA6SWl2OeqZquiJicZZoZwVbrxhBYGUnC4nsr6USLoOVCz3q3GOgw6gCBjvvs0LbV2SktMQJi+6mq6FtYjCQ7Olf1BYKCw5hAmYLK1ktrEHZWKj67qarqnQZNeRU3+Ax5TWiuxXcZ+Wuu75pds1ZCXrmoHtSMzc2GQzRdDWI8oyNOPtyMZvTqIM28Qt8mIQVUITIdjAbjMWhpqrIsGc0lTC2NllXSPtVKa3UWKyYhWCTIZngGSSa9qoSF/vQEEM3n2FFonpxmqySKrXoe56gw9FRvpd2ixOZuo8jho9Q9RdyATtz4FrRqLoien6NHMhB+IKGhtTtrqAzjqRhhw5jHoNmE2qIQC04QjQEoeDW1Hv4PVECMlznK6yzqYHKrjQGY9yckwMxPblZqersfvD6OGYis29ytMJG9M+k4xUt52huaqXAxqiMC0Avp0csrdnOk5usIafy4NZz6itfYA2SYtoaCfSUWLKbsYV8c5zjjtdzFQtNicLbjy0tFrIiiqFoNOez9mIs6eM7jLczDpNajhEKrOyoHaDs415KN7QN4LaDEf6uRcXz3lOekY1CB+fwjVkE5euZuBc23Lt5g/IHT2Os701FOabUKviTCjaknJLsbV/RFnGsrJyczEikLwPpbhsWg0Gt1MU+SLL77gJz/5ySMuBB5cWaV0h1d4B8H3EHWwkoyqISK3eXGH8GAQC0F4QLM+wPDwSvc2Fc+Qlwigt1pFDEQQhO+BGuB1V1Je7qCyPfGZDoVAbzWuvjBgoqTULk31HSPvVBQeAFrMB4rJ7G1iqKGYoWY9JqMBNRRgOhwLmmW7WqiRF6SKhSB8P9DZjnLmoz7c5Xlk6iAY8BNSdaTnxIJmPfJexE2BBBUFQRALQRAEEQRBEEQQBEEQQRAEQQRBEAQRBEEQRBAEQRBBEARBBEEQBBEEQRBEEARBEEEQBEEEQRAEEQRBEEQQBEEQQRAEQQRBEAQRBEEQRBAEQRBBEARBBEEQBBEEQRBEEARBeFSRLzfF2WSfpxAEEQSZ9IIggvCdiYAIhCBskCBcv36doaEhfv7zny879uGHH5KXl8eWLVs2lRjc6f+CIIJwl2LQ2NjIlStX2LlzJxaLZf7Y+Pg4H374IZcvX+bYsWPfiSjcbuKLKAjC6qz7Y6+JYlBRUcHu3buXnfPxxx/T3t7O9u3b1y0K9/qx15Um/51+E3EQhLsQhLWIwb2KwkYJwu3+vXXrlsQYBOFeBGE9YnAvonAvgrCaCNy6dWuREMz9/3YTX8RAkBjCQ8xKsYG5v1u3bvHtt9/y7bffcuvWrXlh+PbbbyWuIAiPosuQaBUkWgZzQvCjH/1IelsQ7sC6ti5v2bKFY8eOsX37dtrb2/n44483VAw2kjkx+POf/4yqqtLTgrDRgrCSKIyPjy86Pj4+/sDFYLXVhG+//ZabN28SiUSkpwXhfsUQ5kRhcHBw0R4EAIvFws9+9jPy8/O/sz0IiXEDsRAE4T7FEB4EdxNDWBo/uHXrFjdv3kRVVW7cuMHs7Cx/8zd/I70tCBvtMjwMJC4zzrkNgiB8jwQhcXUh8f83b94UQRCE76uFsHRH4tKdiYIgfM9chqVWggiCIHxPBGG1bcd32posCML3xEK43RONgiB8T12GlawFQRC+54IgCIIIgoiBIIggiBgIwqqoCsFgkJDyPXUZ1oqnNgOTyXSbv324fRDqdWAyldGrrJ6W71QBGXtceDbjIxTKINVZGTi6go9GPg9sIvVTZjHh6Ao9gD7qxWEyUdavbGQF8LVXsicjk5ycHLIzLeypHWQhhyDtRSb5UMsc1qo2Og7EZ7A6Smt1K4FcF02l5vgZOsxmwHfntAxmO7m56Ri033WtvNTvKWYwv4//WWeL/aQ1km3PRTHr7m/WG5DPcLWF8kANQ+eOYpYhem8EmqluGEZX2kxLuRWtEiSgmlnaOyIIc9PdbCc3YdT10UrQbCc317rovLXcHwz5dbTkb9KKaq0caml5dPIR1mZ0eL1MYsPtLMSmAzBjFZdhAxvY0051QRYWk4WMfWW4PQvGl8+9B1OWC0+CjHjaqynIsmAyWcjY58DVG+C2HkXIQ3t1EXsyLFgsWewrq2cwsHBFqNeBJaMSd3stRXsysJgsZBVU0+WNlSPU5cBkKqZjGqY7ijGZCjgVWMX0VYMMuyspyMrAYrGQVVDJqeGE44FTFJiycPUP4i7bR4bFhCWrgMp2L8o6TOzgsJuygiwsJhOWrH2U1Q8SXKkRAm72mUyUD0TA30SeyUTZnI92p7IudwapzTCxz51o2in0lpkwlfXGyh84RYFlD9WnTlE516d7iqi9xz6KFXcQd2UBezIsmCwZ7Cmqpcu35BxfL7VFWVgsFjL2OKjv93MnbzPkOUV10R4yLCZMliwKqtvxKqu4CoPttA4FgRAjXe20D/pQCeHpbafXGxJBuHdGcNcPYShtoKXVST4eWqvrGV6lF4NdlZS5vRirWujubsFpU+h1OqgdXmU6qR7qHWW4fUbKmzrpbKnBrvRS5aimP6H/IjND9A4ZqGo5w7mBFkq0w9SV1dIfAkNhE0MDzRzQg/5AMwNDbRxa0e4OMVhbRHlXEGtNE52dLVSZAzSXFy0pX5hel5uAtYqmlmZqbApDDbW0+tbYZD43ZeXthKw1tHR30FRuJtBVhcPtXT74zVV0Dg1Qn6MBUykdQ0M05evWUda7IDLNQPcY2c5Ozg310JCr0u8sw3UvfaQM4yqqolexU9PSSV9nA6W6YerKXAtjRRmktsxJv2LH2dRCU42NYGsXY7eLBnjrcZS1EjBX0dTZR3dLFWavm7Lq/hUsWBUlMIYvqAAKwbFRxgIhVAIMuBtoHlpyRXST8Yc//GFd59+6dSt669at6Lfffhv985//HL1582b0+vXr0T/96U/Rf/u3f4t+/vnn0dHR0XWW4vfRl3emRXc3frbsyJe/PRhNS3s22vjZN/O/ffP7X0SfSns2Onf6Z427o2m7fhn9JHY0evbIzmjacx9Er8xfMRH94OWD0SOnP1sx9ysfPBfdufO56OkrCT9+dT768q606O7jlxPKcTD6wZeLChc9vDMt+tP5Cy9Hj+9euCZWnLPRwzvTogfnLvysMfps2lPRw2cXJRT97cGd0bSfnoxORKPR6MTJ6E/TdkafSyzQV7F0Fv2WyJJ8rnzwXDRt55Ho2flm+yZ6+fSR6MFf/DZ6ZbVeeDmhDGst6zI+if7iqbTos4v68qvobw+nRdMO/zb6VUL9jpz/JuGciejJn6ZFd86ds0J97tRH0W+uRC9/8kl04quEcz5rjD6btiv6y0/ifX36uWja0nQmTkZ/mpYWPXz2q5Wb9spn0U8++Sy6qBXi7buoCouOH4ym7Tyc0P6fRH+5K3GMX4mefi4tKhbCXWHEZFyIGGoNOnQoKCveTLRYs61ofK243L14fCFUzBxq6aGtYiUvTsE75CNiPUC+MTHIkUuxPZlpj4dAQtraxMClwU6OFQKjPta6wBH0eJjU2CjONSQmRH6xHY1/JMEM1WI0JxRIp8OgBWWNb6MyWu2YGKa59hT9ngCKqsVW0UZPUwnGDS/rXQU90C5qTDO5uSYivrEV4shr7COtEZsZPO4yCvZkkZGRgaWonUlUYs2m4hv1wdJ0DAZ0t43XWrHqfLRWFrEvK4OMDAt76scAlXtd2BJBeACYKzo505ALw27KDmSTkVVA9SnPKgFKFUWJoDEYMCwZsDqDDpTw6n47OnQ6iKjKmgeGElZAa8CwZATqDDq0KIQ2apXN5qSn04kt1IerNI/MjD0U1XataxI/sLLOpavXgrJSW66xj5a4FWfOneOjzkOYEoRFUSJodL/fg1EAAA89SURBVEvTuZP7dQpHkQuPrpi6tjOcO/cRZ2oyN6TOIggPZg0Da0kDnecuMT42RGeNGV9zGWWnAiveqXQ6DRFFWTLxVZSQAjr9be4eCkoINFod2jUPeh2oCqElo14JKahxgdkoDPYKmno+4lP/KANtpeiG63BU9xLahGUFCE0roFupLdfWR6qnm95JMzUtDZTYrZiNRowGfUJ6ulg6qsJ6jBtvXzd+wyEamg6RazNjNBoxbNAatwjCfceLu2gfZe3xya8zYz/kpNwaITC2kmmvw5ZjReMdYDC4aFmDPs8Meps9YU1+iZsSHGQgAOZs66JBfDur3mi3Y4p4GFgUPAsxOOAhkp6D3bARbaAy7NrHvrnJrzVgzT2Ks8RExDtKYK2O2l2VNSYUoVAooa1DK1gTKuqixvQxNDyNxpq5wvLcGvtIWW7Ch3yjBJe4k/hG8CRmrdzewlOX+aYKvtHAhoxW2Ydw37GSY1Vpba6mVuuk1Kol5O2m1afB6rSteCc3ljgp6S6jvqwWnMVYtUEGWusZUHNwV9kSzhyjudKF1nkAMwH63G7GtHk0Fxrn/esUA4Q93fQOq9hsdsxLM7SW4zzQS1VtGS6lhmIj+PrcuEcMFHcc2qANQVqs2WZCNfVUGqDmgBlt0ENr7yTJtppV8zAYDDA4RHe/lQM2O7a7KquZPLuejn43rkyVAwaF0b5m2v2w2E6PMFRfSb1aRZ5RxddRT/tkCoUNhStaZGvpI60tB5umjuZqF9rybPD30do+wgyaeOxFi7GkigOtVdRXn0LnLMSoeumub2YMyFltROXlktzXRW11CjV5OoJDrbQOhOOuzNJ6iYWwydBir+uh9ZARX3MlxcWl1LYGsNV00laxSjhNZ6ehp5Maq4/m6jIclW482hKaz7RRsuiSTEqKYcBVSVl5PcPk4+psotCwEPwsqSknU+nHVd3Mysv1BvKbztBaosPjrqS4rJpWn5Gqjh6acjfOBjcUtnDGXYhu2E1lcTFlrm6U3Ho6WwpXHb/WcifFxgBdtdW0epW7LKsWe10LtXaVwfoqKmub8RqqqMjRLDlPQ05JHqHuWspKq3D7DBS6O2mwa+++j4yHaGmrwqb0U19TS/OwjtIWN8XpRuZNFF0+TZ1ucpUOKg/kUFTdgXKghGyNZnXXKb+BTlcuWo+bmtp6+pR8mprLyTSBco9xlIf+NexLX8E+92LVSCTC9evXmZmZ4U9/+hNZWVmPlMyEeh1kO7W4xzop0Yns3hOBUxTktWLu+JSW3O93U4iFIAiCCIIgCOIyCIIgFoIgCGthY5YdE7+ufJvoqCAIj6IgRCKxv9nZ1c9JSoqJgwiEIDyigjAnAokWwWrMiYVGsyAOgiA8IjGE2Vm4dm1tYrBURK5du701IQjCQyQIs7P3PqE3Ig1BEL5jQdjIiSyiIAgPcQxhSeDwT9euofzxj8tO+w//8T/ylz/84dpFQYKNgvAQCsISMeg6fnzF0/6vlBRKXnppfaKwdau0viA8NIIwt7QY5/8fHV311K+mp+lxu/nRk0+uePzJlBSefe655WmLlSAID5EgrGINaNZqCQCRGzcYHx7GuGMHO//Lf1mcvgiCIDwkgrBK8G/Pc8/xn3bsWHMG/2tigoFf/5pQMLhYEGZnY/sTBEHYNMizDIIg3EEQ1rv56G55UPkIgiAWgiAIIgiCIGyoIDyo6L+sMgiCWAibk0GqLSZMprk/Cxl7CihzdeEJqhucV4guhwlTlguvNPy6CHYVxfqn4BSBTVWyEF1FsbGzL/4BHp97X6ysjq4VP0aj9JfFju+pv6dxcKd8NkYQVlkS/HJ6mqlAYM1/X05Pryv9zUOEmWk/I911lBY4OOVTNz6L+LcEN+8g/24n7aPWLg8Dj6/VnP/P2dl8ev48l373u7vK6D9nZz8k7oKGnOZP6SzUogQGaa2tpXVsjKZKN/aP6rBpNzCr236WTRA2k8uw5AGkv9q6lUNvvMGBl15a99+hN97grxKfXXhIHm7SmfNxtjnJ1gDTXbQOLnxCSw30U19ZQFaGBYsli30OF73zVoTKYKUFk8lEQX0/XbVFZFksWDL24KgfXjDrdD/EW2khp24s9n9/E3mmLGo9qxRI9dFfX8a+LAsWi4Wsgkrcc98SU4epzYq5OkXxz8apHhd7TCZMlgLmPiOpBgdxVxawJ8OCyZLFvjIX/YEE60cNMuiupCDLgsVkIWOfA1fv3CfnVPrj9cpyLRRyuDr2W0btRwzerj63K//iit4+HQB1Gs+pSvbF61FQ3cUiI27NeS3kGeh3UbYvC4vJhCVrH2X1gwTvKc01ogYZcDnYkzE3RgYJco/5Kl66XIuvqR8MxPvRgyvLhMmUxVw3qoOVWEymO8QQlpj1f7V1K/9px451//3V0geZHqYdioZ8DlhjLoRnJP5h8EAXZUU1dAz5CasAYSZHu3EWOWhfYtv6O2qo6/OhECEyM81oRzX1w1pspbXUlu/BnGknMyU5LpQpZGbbSF/RbAjQ7nBQ0zHCZDhWnrB/iNYqB7XDCmhzqanJRkOEseZmBkMButy9TAP6wjoqzECon+qiKlqH/EzPgIYwkyPd1BRV0x+K+cGDtUVUtQ7hD0dAE2FmcpRup4PK3rV4p09gWLU+dyj/Yl/qNunEmeymrmmYoBqBSBj/QB3Vzb61tdVK7klvJUU13YxMhkGjIRKeZKSjiiLXcPxDrOtPc82Eh+joHiWkzo2RKsrqvfHJexf5ql7cDgd13Yuv6agqorI3CNjIsWmAMD5fEFDxDnmJ3DGoOPf6s43koXudmg6DIVZeNRRCQWW42c3oDGjSq+i7NM74pwPUZmogMkazu3/Rl3w1mVX0jY0z/mkf5SaAGbwjAayFRzmab8Z2tJOWqvhXCc2lNPW0UWFdQfAH3TSPzUByDu6RTxkfH2OgKh0N0/S39hMCjCV1VJiAmQHqy6ppHotAcg5Opx0tKp7meobCoMmsZcA/zvinQ7iyk2FmiObeAAQ6cA+EAROl3WOMj4/RV5WOhhlGOvpZy71wtfqspfxrSWeehHQ6DuhjGuHxEGT9eYGHVnfsm4uZtQN8Oj7OWEcxKUC4v4NB5W7SXI+XmkntgJ/xcX88TZjs7cCj3l2+of5m2v0RSM6mfih2TXe5CZhhxN2MR9Viy4k1ZmAsgIqPIU/4DjGEpXfzjXixSVLSI/D8go8hzwygwV5ehU0HYKWiKpfmqiFmPCP4yF+QE2tO/Bwb2VYNHZMRFGX9dxTfkJcZAJ3KSLOLUWDuu+gR3xgBDmHQWqlyHqC3aoBpvx8A0yEnJYbYnWYk3uk6xuhw1caEJl6U4JiPoM7LJIApn1J77HZsq2qgyeRD1Vq5l/DJmsq/ngSN2diMWkCLLccMA2EITaMAwfXmFfDiDcf6sbgkVk9trpMmdzYBdFjXVP78e7BCbditsda1lpdiba1jbMbHaBC0a6iLbonr4x3xEAGSc6soMcfayF5VTnZHHaNhLyMBsNvsmBhjMuAjGADPNCSn6Nf4ktWNEIWHVgxChEKxLdZagw7d/CfYtRgMC12h1RnQAWFVIaSy4uS5+wmlLojI9CgDfUseRVfVeatEl1uMPXmAgRmAdIqL526rCqH4SeGxIfrGlqypKCr/PpdHYrBTZ6OwxDZfjvtd/rtDm5DTXeSlhGO/aXTo5pMyYC8pwT4X07iv5U80SHXoNEBERVXWVhfdsraOjVedQbfQMjpDPN1QbBzYsrEltzIZGGV4UMVPMsU1Net46/Kcqb/Wty4vdTse1k1IoWEGfLHVB1uODQigMwDTKiFloTtUJRQbFNrYoNrYRUotWp0WiKDJcXOps2TV1YlgbyuDM/MRDDpah6loykWLDkN8dKTXDnHu6PKPp4d6+xZPkFjFCAZDqFodRqPuvpf/QbbV0tWe6YiCoi5MrFAgiIIWg9m4hjRDdG1E8RWF2HyO1WMtdfEtqb8uNvNRFAV1Ti6VUDxdHQYdoLWRbdPQN+KltUOF5Fzy8nPXuTFJo4m96Wjr1jvf7ZOSFs59SMVACQxTX+lmNAKklFCVrwOs5NiSY0HGjnhkWw3Q1REz0zS2HGzrH8LxDKfnrMHlvnmOnWQgMtJM/WAwJjiKj/bqarrmApnKMO7mUSJoyDyQF/OB+9zxQKeZHLs+Huh00xtfWVADvdRWn8KngsFmwwQwOUifV4lF3rsq2ZeXR15lL0G06OK3UMXni+0NULyMBCJ3rM+ayn8X7XLXbZWI2YZNH5tafb2xSLzqa6YsL4+8glr6Q3dX/rXfdHx4A2qsvXv7YhM82Uqm8W7y1WLLsaEBZgY76A+qgIK3ozu2+UlvJ9scEwZbthmYIRyOoLHlYdcZ7/JDLXPLhnOi8Eh9uSnCSE06pprEAFYmVS112LWxBs+vqSF7uIHRsSYOZLSSzAwzkVhwqMaZv+67n85sRM8o4eluSjP6yWu6RFvhYgdDV+ikpsNDw9g0fVU59Ccnw8wMEUCvLaWkyU6gtZ6BMJByiLqmKoKqh5ohP631vZR0lmCvqSNvuIah8BDOvHRcyRoiMxEgGSXvEG2F5TgP9FI1MElHcRa9yTATP55dXogZMOTYSe4bYmasgTyLG00kQmRN9blz+bVrSKduLe257rzsVNVk0183ylhTHhmtCefnl1NoWEua5nsYcqM05GXQPN/ekFJSTq4WtGuoy7KQRKGTig4Hrf4RnDkZ1Cf0Y46zhtx45c12G3r8hAFrnh0dG7V1eU4gHqlnEzQk601kF7voONeDM3FHkrmCzh43pTkm9MwwQzKm7FLqz3Ry1Lr+SIHW7qShNBO9BjTauEm3/DZGRc8ZmsvzSNcnw4yKNiWdvKpWehrsaEO9uLsmgWTynFXYtAYKnVWkAzMjzTR7VDAW0namg9oDmaQka4iooE/PodTdQ1OhDjCQ33SG1qo80vUwMwPJpmxK3T20lRjjk62BlqocUpI1gBZjTinleSlrqM8dyn/X7XIXbbVSjPJQJz3uUrJN8Yrr08kpb6anaU7g15/mmsmpxV1uQ0cETXIK2aXNdDpt8TTvIl+tDWdPD/XF2aQkx6tjyqG8+cx8P8YimDnYNLFYU5499rt8/VkQhHnk4SZBEEQQBEEQQRAEQQRBEAQRBEEQRBAEQRBBEARBBEEQBBEEQRBEEARBEEEQBEEEQRAEEQRBEEQQBEEQQRAEQQRBEAQRBEEQNi3/B9DwV8KeYw0WAAAAAElFTkSuQmCC)\n",
        "\n",
        "3. Presionamos el primer ícono (una hoja de papel con una flecha hacia arriba) y seleccionamos el archivo descargado previamente.\n",
        "\n",
        "4. Hacemos click derecho sobre el archivo, y seleccionamos \"copiar ruta\".\n",
        "5. Pegamos la ruta en el argumento de `pd.read_csv()`, y agregamos otro parámetro: `delimiter=\"\"` , donde ponemost entre las comillas, cuál es el caracter que limita las distintas columnas del archivo.\n",
        "\n",
        "Obs 1: Donde dice \"winequality-red.csv\", winequality-red es el nombre del archivo que sera usado en esta Notebook. Para utilizar otros archivos, utilizar:  \"ArchivoQueElijas.csv\"\n",
        "\n",
        "## Subir un archivo que está en Google Drive\n",
        "![fig2.png](data:image/png;base64,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)\n",
        "\n",
        "\n",
        "1.   Ejecutar la celda de abajo\n",
        "2.   Visitar el URL mencionado en el output de la celda\n",
        "3.   Ingresar a la cuenta de Google, copiar el link que aparece, y pegarlo en la caja que dice \"Enter your authorization code:\"\n",
        "Ahora se van a ver tus archivos de Google Drive en el panel izquierdo (explorador de archivos). Hacer click derecho en el archivo que se desea importar, y seleccionar \"copiar la ruta de acceso\". Luego importar como es usual en pandas, y pegar la ruta de acceso copiada.\n",
        "\n",
        "\n",
        "##Importar módulos que no están presentes en Google Colab\n",
        "Podemos agregar nuevos módulos porque estamos utilizando una \"computadora prestada\" de google, que contiene Python 3.\n",
        "Utilizando el síímbolo \"!\" podemos ejecutar comandos como si estuviéramos utilizando la terminal. En el caso de los Jupyter Notebooks, utilizamos un tipo de consola de linea de comando de Python llamado IPython.\n",
        "En esta ocasión instalaremos un paquete de estadística llamado \"Pinguoin\". El comando \"pip install\" será utilizado para descargar e instalar librerias externas en esta computadora prestada.\n",
        "\n"
      ]
    },
    {
      "cell_type": "markdown",
      "source": [
        "# Limpieza de datos"
      ],
      "metadata": {
        "id": "vDTdSisnweFI"
      }
    },
    {
      "cell_type": "markdown",
      "metadata": {
        "id": "EdZXfo31ESYw"
      },
      "source": [
        "Definamos una función que nos permita mostrar varias tablas una al lado de la otra. A esto lo hacemos sólo con fines de demostración, para saber cómo escribir una función y utilizarla. Para esta función que queremos crear, importaremos display_html de IPython.display\n"
      ]
    },
    {
      "cell_type": "code",
      "metadata": {
        "id": "HD5jI-X9GhIm"
      },
      "source": [
        "from IPython.display import display_html\n",
        "def display_side_by_side(*args):\n",
        "    html_str=''\n",
        "    for df in args:\n",
        "        html_str += df.to_html()\n",
        "    display_html(html_str.replace('table','table style=\"display:inline\"'),raw=True)"
      ],
      "execution_count": null,
      "outputs": []
    },
    {
      "cell_type": "markdown",
      "metadata": {
        "id": "SAxCiihrFJ0I"
      },
      "source": [
        "Dentro de esta función estoy definiendo una nueva variable: `html_str`, y asignándole un valor de texto en blanco, luego le digo a la computadora que tome el DataFrame (`df`) y lo convierta a una tabla HTML (la misma tabla en un formato diferente), agregando la tabla (ahora en formato HTML) como un valor a la variable `html_str`, y mostrando esto junto con el parámetro `'table style=\"display:inline\"'`.\n",
        "Ahora tenemos que \"alimentar\" nuestra función con los argumentos, que son las tablas que queremos mostrar:\n"
      ]
    },
    {
      "cell_type": "code",
      "metadata": {
        "id": "YLUzom-o6DBl",
        "colab": {
          "base_uri": "https://localhost:8080/",
          "height": 394
        },
        "outputId": "95ffe995-6d60-4d7d-f582-b11e2e0d7e01"
      },
      "source": [
        "display_side_by_side(df_I, df_II, df_III,df_IV) "
      ],
      "execution_count": null,
      "outputs": [
        {
          "output_type": "display_data",
          "data": {
            "text/html": [
              "<table style=\"display:inline\" border=\"1\" class=\"dataframe\">\n",
              "  <thead>\n",
              "    <tr style=\"text-align: right;\">\n",
              "      <th></th>\n",
              "      <th>dataset</th>\n",
              "      <th>x</th>\n",
              "      <th>y</th>\n",
              "    </tr>\n",
              "  </thead>\n",
              "  <tbody>\n",
              "    <tr>\n",
              "      <th>0</th>\n",
              "      <td>I</td>\n",
              "      <td>10.0</td>\n",
              "      <td>8.04</td>\n",
              "    </tr>\n",
              "    <tr>\n",
              "      <th>1</th>\n",
              "      <td>I</td>\n",
              "      <td>8.0</td>\n",
              "      <td>6.95</td>\n",
              "    </tr>\n",
              "    <tr>\n",
              "      <th>2</th>\n",
              "      <td>I</td>\n",
              "      <td>13.0</td>\n",
              "      <td>7.58</td>\n",
              "    </tr>\n",
              "    <tr>\n",
              "      <th>3</th>\n",
              "      <td>I</td>\n",
              "      <td>9.0</td>\n",
              "      <td>8.81</td>\n",
              "    </tr>\n",
              "    <tr>\n",
              "      <th>4</th>\n",
              "      <td>I</td>\n",
              "      <td>11.0</td>\n",
              "      <td>8.33</td>\n",
              "    </tr>\n",
              "    <tr>\n",
              "      <th>5</th>\n",
              "      <td>I</td>\n",
              "      <td>14.0</td>\n",
              "      <td>9.96</td>\n",
              "    </tr>\n",
              "    <tr>\n",
              "      <th>6</th>\n",
              "      <td>I</td>\n",
              "      <td>6.0</td>\n",
              "      <td>7.24</td>\n",
              "    </tr>\n",
              "    <tr>\n",
              "      <th>7</th>\n",
              "      <td>I</td>\n",
              "      <td>4.0</td>\n",
              "      <td>4.26</td>\n",
              "    </tr>\n",
              "    <tr>\n",
              "      <th>8</th>\n",
              "      <td>I</td>\n",
              "      <td>12.0</td>\n",
              "      <td>10.84</td>\n",
              "    </tr>\n",
              "    <tr>\n",
              "      <th>9</th>\n",
              "      <td>I</td>\n",
              "      <td>7.0</td>\n",
              "      <td>4.82</td>\n",
              "    </tr>\n",
              "    <tr>\n",
              "      <th>10</th>\n",
              "      <td>I</td>\n",
              "      <td>5.0</td>\n",
              "      <td>5.68</td>\n",
              "    </tr>\n",
              "  </tbody>\n",
              "</table style=\"display:inline\"><table style=\"display:inline\" border=\"1\" class=\"dataframe\">\n",
              "  <thead>\n",
              "    <tr style=\"text-align: right;\">\n",
              "      <th></th>\n",
              "      <th>dataset</th>\n",
              "      <th>x</th>\n",
              "      <th>y</th>\n",
              "    </tr>\n",
              "  </thead>\n",
              "  <tbody>\n",
              "    <tr>\n",
              "      <th>11</th>\n",
              "      <td>II</td>\n",
              "      <td>10.0</td>\n",
              "      <td>9.14</td>\n",
              "    </tr>\n",
              "    <tr>\n",
              "      <th>12</th>\n",
              "      <td>II</td>\n",
              "      <td>8.0</td>\n",
              "      <td>8.14</td>\n",
              "    </tr>\n",
              "    <tr>\n",
              "      <th>13</th>\n",
              "      <td>II</td>\n",
              "      <td>13.0</td>\n",
              "      <td>8.74</td>\n",
              "    </tr>\n",
              "    <tr>\n",
              "      <th>14</th>\n",
              "      <td>II</td>\n",
              "      <td>9.0</td>\n",
              "      <td>8.77</td>\n",
              "    </tr>\n",
              "    <tr>\n",
              "      <th>15</th>\n",
              "      <td>II</td>\n",
              "      <td>11.0</td>\n",
              "      <td>9.26</td>\n",
              "    </tr>\n",
              "    <tr>\n",
              "      <th>16</th>\n",
              "      <td>II</td>\n",
              "      <td>14.0</td>\n",
              "      <td>8.10</td>\n",
              "    </tr>\n",
              "    <tr>\n",
              "      <th>17</th>\n",
              "      <td>II</td>\n",
              "      <td>6.0</td>\n",
              "      <td>6.13</td>\n",
              "    </tr>\n",
              "    <tr>\n",
              "      <th>18</th>\n",
              "      <td>II</td>\n",
              "      <td>4.0</td>\n",
              "      <td>3.10</td>\n",
              "    </tr>\n",
              "    <tr>\n",
              "      <th>19</th>\n",
              "      <td>II</td>\n",
              "      <td>12.0</td>\n",
              "      <td>9.13</td>\n",
              "    </tr>\n",
              "    <tr>\n",
              "      <th>20</th>\n",
              "      <td>II</td>\n",
              "      <td>7.0</td>\n",
              "      <td>7.26</td>\n",
              "    </tr>\n",
              "    <tr>\n",
              "      <th>21</th>\n",
              "      <td>II</td>\n",
              "      <td>5.0</td>\n",
              "      <td>4.74</td>\n",
              "    </tr>\n",
              "  </tbody>\n",
              "</table style=\"display:inline\"><table style=\"display:inline\" border=\"1\" class=\"dataframe\">\n",
              "  <thead>\n",
              "    <tr style=\"text-align: right;\">\n",
              "      <th></th>\n",
              "      <th>dataset</th>\n",
              "      <th>x</th>\n",
              "      <th>y</th>\n",
              "    </tr>\n",
              "  </thead>\n",
              "  <tbody>\n",
              "    <tr>\n",
              "      <th>22</th>\n",
              "      <td>III</td>\n",
              "      <td>10.0</td>\n",
              "      <td>7.46</td>\n",
              "    </tr>\n",
              "    <tr>\n",
              "      <th>23</th>\n",
              "      <td>III</td>\n",
              "      <td>8.0</td>\n",
              "      <td>6.77</td>\n",
              "    </tr>\n",
              "    <tr>\n",
              "      <th>24</th>\n",
              "      <td>III</td>\n",
              "      <td>13.0</td>\n",
              "      <td>12.74</td>\n",
              "    </tr>\n",
              "    <tr>\n",
              "      <th>25</th>\n",
              "      <td>III</td>\n",
              "      <td>9.0</td>\n",
              "      <td>7.11</td>\n",
              "    </tr>\n",
              "    <tr>\n",
              "      <th>26</th>\n",
              "      <td>III</td>\n",
              "      <td>11.0</td>\n",
              "      <td>7.81</td>\n",
              "    </tr>\n",
              "    <tr>\n",
              "      <th>27</th>\n",
              "      <td>III</td>\n",
              "      <td>14.0</td>\n",
              "      <td>8.84</td>\n",
              "    </tr>\n",
              "    <tr>\n",
              "      <th>28</th>\n",
              "      <td>III</td>\n",
              "      <td>6.0</td>\n",
              "      <td>6.08</td>\n",
              "    </tr>\n",
              "    <tr>\n",
              "      <th>29</th>\n",
              "      <td>III</td>\n",
              "      <td>4.0</td>\n",
              "      <td>5.39</td>\n",
              "    </tr>\n",
              "    <tr>\n",
              "      <th>30</th>\n",
              "      <td>III</td>\n",
              "      <td>12.0</td>\n",
              "      <td>8.15</td>\n",
              "    </tr>\n",
              "    <tr>\n",
              "      <th>31</th>\n",
              "      <td>III</td>\n",
              "      <td>7.0</td>\n",
              "      <td>6.42</td>\n",
              "    </tr>\n",
              "    <tr>\n",
              "      <th>32</th>\n",
              "      <td>III</td>\n",
              "      <td>5.0</td>\n",
              "      <td>5.73</td>\n",
              "    </tr>\n",
              "  </tbody>\n",
              "</table style=\"display:inline\"><table style=\"display:inline\" border=\"1\" class=\"dataframe\">\n",
              "  <thead>\n",
              "    <tr style=\"text-align: right;\">\n",
              "      <th></th>\n",
              "      <th>dataset</th>\n",
              "      <th>x</th>\n",
              "      <th>y</th>\n",
              "    </tr>\n",
              "  </thead>\n",
              "  <tbody>\n",
              "    <tr>\n",
              "      <th>33</th>\n",
              "      <td>IV</td>\n",
              "      <td>8.0</td>\n",
              "      <td>6.58</td>\n",
              "    </tr>\n",
              "    <tr>\n",
              "      <th>34</th>\n",
              "      <td>IV</td>\n",
              "      <td>8.0</td>\n",
              "      <td>5.76</td>\n",
              "    </tr>\n",
              "    <tr>\n",
              "      <th>35</th>\n",
              "      <td>IV</td>\n",
              "      <td>8.0</td>\n",
              "      <td>7.71</td>\n",
              "    </tr>\n",
              "    <tr>\n",
              "      <th>36</th>\n",
              "      <td>IV</td>\n",
              "      <td>8.0</td>\n",
              "      <td>8.84</td>\n",
              "    </tr>\n",
              "    <tr>\n",
              "      <th>37</th>\n",
              "      <td>IV</td>\n",
              "      <td>8.0</td>\n",
              "      <td>8.47</td>\n",
              "    </tr>\n",
              "    <tr>\n",
              "      <th>38</th>\n",
              "      <td>IV</td>\n",
              "      <td>8.0</td>\n",
              "      <td>7.04</td>\n",
              "    </tr>\n",
              "    <tr>\n",
              "      <th>39</th>\n",
              "      <td>IV</td>\n",
              "      <td>8.0</td>\n",
              "      <td>5.25</td>\n",
              "    </tr>\n",
              "    <tr>\n",
              "      <th>40</th>\n",
              "      <td>IV</td>\n",
              "      <td>19.0</td>\n",
              "      <td>12.50</td>\n",
              "    </tr>\n",
              "    <tr>\n",
              "      <th>41</th>\n",
              "      <td>IV</td>\n",
              "      <td>8.0</td>\n",
              "      <td>5.56</td>\n",
              "    </tr>\n",
              "    <tr>\n",
              "      <th>42</th>\n",
              "      <td>IV</td>\n",
              "      <td>8.0</td>\n",
              "      <td>7.91</td>\n",
              "    </tr>\n",
              "    <tr>\n",
              "      <th>43</th>\n",
              "      <td>IV</td>\n",
              "      <td>8.0</td>\n",
              "      <td>6.89</td>\n",
              "    </tr>\n",
              "  </tbody>\n",
              "</table style=\"display:inline\">"
            ]
          },
          "metadata": {
            "tags": []
          }
        }
      ]
    },
    {
      "cell_type": "markdown",
      "source": [
        "# Para saber más: \n",
        "\n",
        "* Joshi, J. (2021). Chapter 9 - Python, a reliable programming language for chemoinformatics and bioinformatics. In N. Sharma, H. Ojha, P. K. Raghav, & R. k. Goyal (Eds.), *Chemoinformatics and Bioinformatics in the Pharmaceutical Sciences* (pp. 279–304). Academic Press. DOI: https://doi.org/10.1016/B978-0-12-821748-1.00013-0.\n",
        "\n",
        "\n",
        "* Python Cheat Sheet. InterviewBit. Recuperado el 5 de agosto de 2022, de https://www.interviewbit.com/python-cheat-sheet/"
      ],
      "metadata": {
        "id": "jycieF8orBA5"
      }
    }
  ]
}