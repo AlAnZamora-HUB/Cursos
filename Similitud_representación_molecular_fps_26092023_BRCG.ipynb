{
  "nbformat": 4,
  "nbformat_minor": 0,
  "metadata": {
    "colab": {
      "provenance": [],
      "toc_visible": true
    },
    "kernelspec": {
      "name": "python3",
      "display_name": "Python 3"
    },
    "language_info": {
      "name": "python"
    },
    "widgets": {
      "application/vnd.jupyter.widget-state+json": {
        "2b03f4e935ff480f8701f4721ab64bfe": {
          "model_module": "@jupyter-widgets/controls",
          "model_name": "HBoxModel",
          "model_module_version": "1.5.0",
          "state": {
            "_dom_classes": [],
            "_model_module": "@jupyter-widgets/controls",
            "_model_module_version": "1.5.0",
            "_model_name": "HBoxModel",
            "_view_count": null,
            "_view_module": "@jupyter-widgets/controls",
            "_view_module_version": "1.5.0",
            "_view_name": "HBoxView",
            "box_style": "",
            "children": [
              "IPY_MODEL_cd431a44506246da8e791caa123b9303",
              "IPY_MODEL_d6ff18b7b7944959a45f052c4b7f9223",
              "IPY_MODEL_f5735a87fc304a2fb82f1ffb1215dac2"
            ],
            "layout": "IPY_MODEL_6e4b6e0a392c4f4d9ca95b2c2cd84a97"
          }
        },
        "cd431a44506246da8e791caa123b9303": {
          "model_module": "@jupyter-widgets/controls",
          "model_name": "HTMLModel",
          "model_module_version": "1.5.0",
          "state": {
            "_dom_classes": [],
            "_model_module": "@jupyter-widgets/controls",
            "_model_module_version": "1.5.0",
            "_model_name": "HTMLModel",
            "_view_count": null,
            "_view_module": "@jupyter-widgets/controls",
            "_view_module_version": "1.5.0",
            "_view_name": "HTMLView",
            "description": "",
            "description_tooltip": null,
            "layout": "IPY_MODEL_9c0ee208fbc84cb3a515de72fd2ec136",
            "placeholder": "​",
            "style": "IPY_MODEL_8ec95ced399145eb8da45d616d3af56d",
            "value": "100%"
          }
        },
        "d6ff18b7b7944959a45f052c4b7f9223": {
          "model_module": "@jupyter-widgets/controls",
          "model_name": "FloatProgressModel",
          "model_module_version": "1.5.0",
          "state": {
            "_dom_classes": [],
            "_model_module": "@jupyter-widgets/controls",
            "_model_module_version": "1.5.0",
            "_model_name": "FloatProgressModel",
            "_view_count": null,
            "_view_module": "@jupyter-widgets/controls",
            "_view_module_version": "1.5.0",
            "_view_name": "ProgressView",
            "bar_style": "success",
            "description": "",
            "description_tooltip": null,
            "layout": "IPY_MODEL_c649b9e4dae94f0f95f3537096407367",
            "max": 100,
            "min": 0,
            "orientation": "horizontal",
            "style": "IPY_MODEL_22a1f3360c92417eb857b6e67c6e58f5",
            "value": 100
          }
        },
        "f5735a87fc304a2fb82f1ffb1215dac2": {
          "model_module": "@jupyter-widgets/controls",
          "model_name": "HTMLModel",
          "model_module_version": "1.5.0",
          "state": {
            "_dom_classes": [],
            "_model_module": "@jupyter-widgets/controls",
            "_model_module_version": "1.5.0",
            "_model_name": "HTMLModel",
            "_view_count": null,
            "_view_module": "@jupyter-widgets/controls",
            "_view_module_version": "1.5.0",
            "_view_name": "HTMLView",
            "description": "",
            "description_tooltip": null,
            "layout": "IPY_MODEL_d9451a44377e48e9b8995d5fd88fbff0",
            "placeholder": "​",
            "style": "IPY_MODEL_94ffb885458f4c69b5b795ca479814b5",
            "value": " 100/100 [00:13&lt;00:00,  4.32it/s]"
          }
        },
        "6e4b6e0a392c4f4d9ca95b2c2cd84a97": {
          "model_module": "@jupyter-widgets/base",
          "model_name": "LayoutModel",
          "model_module_version": "1.2.0",
          "state": {
            "_model_module": "@jupyter-widgets/base",
            "_model_module_version": "1.2.0",
            "_model_name": "LayoutModel",
            "_view_count": null,
            "_view_module": "@jupyter-widgets/base",
            "_view_module_version": "1.2.0",
            "_view_name": "LayoutView",
            "align_content": null,
            "align_items": null,
            "align_self": null,
            "border": null,
            "bottom": null,
            "display": null,
            "flex": null,
            "flex_flow": null,
            "grid_area": null,
            "grid_auto_columns": null,
            "grid_auto_flow": null,
            "grid_auto_rows": null,
            "grid_column": null,
            "grid_gap": null,
            "grid_row": null,
            "grid_template_areas": null,
            "grid_template_columns": null,
            "grid_template_rows": null,
            "height": null,
            "justify_content": null,
            "justify_items": null,
            "left": null,
            "margin": null,
            "max_height": null,
            "max_width": null,
            "min_height": null,
            "min_width": null,
            "object_fit": null,
            "object_position": null,
            "order": null,
            "overflow": null,
            "overflow_x": null,
            "overflow_y": null,
            "padding": null,
            "right": null,
            "top": null,
            "visibility": null,
            "width": null
          }
        },
        "9c0ee208fbc84cb3a515de72fd2ec136": {
          "model_module": "@jupyter-widgets/base",
          "model_name": "LayoutModel",
          "model_module_version": "1.2.0",
          "state": {
            "_model_module": "@jupyter-widgets/base",
            "_model_module_version": "1.2.0",
            "_model_name": "LayoutModel",
            "_view_count": null,
            "_view_module": "@jupyter-widgets/base",
            "_view_module_version": "1.2.0",
            "_view_name": "LayoutView",
            "align_content": null,
            "align_items": null,
            "align_self": null,
            "border": null,
            "bottom": null,
            "display": null,
            "flex": null,
            "flex_flow": null,
            "grid_area": null,
            "grid_auto_columns": null,
            "grid_auto_flow": null,
            "grid_auto_rows": null,
            "grid_column": null,
            "grid_gap": null,
            "grid_row": null,
            "grid_template_areas": null,
            "grid_template_columns": null,
            "grid_template_rows": null,
            "height": null,
            "justify_content": null,
            "justify_items": null,
            "left": null,
            "margin": null,
            "max_height": null,
            "max_width": null,
            "min_height": null,
            "min_width": null,
            "object_fit": null,
            "object_position": null,
            "order": null,
            "overflow": null,
            "overflow_x": null,
            "overflow_y": null,
            "padding": null,
            "right": null,
            "top": null,
            "visibility": null,
            "width": null
          }
        },
        "8ec95ced399145eb8da45d616d3af56d": {
          "model_module": "@jupyter-widgets/controls",
          "model_name": "DescriptionStyleModel",
          "model_module_version": "1.5.0",
          "state": {
            "_model_module": "@jupyter-widgets/controls",
            "_model_module_version": "1.5.0",
            "_model_name": "DescriptionStyleModel",
            "_view_count": null,
            "_view_module": "@jupyter-widgets/base",
            "_view_module_version": "1.2.0",
            "_view_name": "StyleView",
            "description_width": ""
          }
        },
        "c649b9e4dae94f0f95f3537096407367": {
          "model_module": "@jupyter-widgets/base",
          "model_name": "LayoutModel",
          "model_module_version": "1.2.0",
          "state": {
            "_model_module": "@jupyter-widgets/base",
            "_model_module_version": "1.2.0",
            "_model_name": "LayoutModel",
            "_view_count": null,
            "_view_module": "@jupyter-widgets/base",
            "_view_module_version": "1.2.0",
            "_view_name": "LayoutView",
            "align_content": null,
            "align_items": null,
            "align_self": null,
            "border": null,
            "bottom": null,
            "display": null,
            "flex": null,
            "flex_flow": null,
            "grid_area": null,
            "grid_auto_columns": null,
            "grid_auto_flow": null,
            "grid_auto_rows": null,
            "grid_column": null,
            "grid_gap": null,
            "grid_row": null,
            "grid_template_areas": null,
            "grid_template_columns": null,
            "grid_template_rows": null,
            "height": null,
            "justify_content": null,
            "justify_items": null,
            "left": null,
            "margin": null,
            "max_height": null,
            "max_width": null,
            "min_height": null,
            "min_width": null,
            "object_fit": null,
            "object_position": null,
            "order": null,
            "overflow": null,
            "overflow_x": null,
            "overflow_y": null,
            "padding": null,
            "right": null,
            "top": null,
            "visibility": null,
            "width": null
          }
        },
        "22a1f3360c92417eb857b6e67c6e58f5": {
          "model_module": "@jupyter-widgets/controls",
          "model_name": "ProgressStyleModel",
          "model_module_version": "1.5.0",
          "state": {
            "_model_module": "@jupyter-widgets/controls",
            "_model_module_version": "1.5.0",
            "_model_name": "ProgressStyleModel",
            "_view_count": null,
            "_view_module": "@jupyter-widgets/base",
            "_view_module_version": "1.2.0",
            "_view_name": "StyleView",
            "bar_color": null,
            "description_width": ""
          }
        },
        "d9451a44377e48e9b8995d5fd88fbff0": {
          "model_module": "@jupyter-widgets/base",
          "model_name": "LayoutModel",
          "model_module_version": "1.2.0",
          "state": {
            "_model_module": "@jupyter-widgets/base",
            "_model_module_version": "1.2.0",
            "_model_name": "LayoutModel",
            "_view_count": null,
            "_view_module": "@jupyter-widgets/base",
            "_view_module_version": "1.2.0",
            "_view_name": "LayoutView",
            "align_content": null,
            "align_items": null,
            "align_self": null,
            "border": null,
            "bottom": null,
            "display": null,
            "flex": null,
            "flex_flow": null,
            "grid_area": null,
            "grid_auto_columns": null,
            "grid_auto_flow": null,
            "grid_auto_rows": null,
            "grid_column": null,
            "grid_gap": null,
            "grid_row": null,
            "grid_template_areas": null,
            "grid_template_columns": null,
            "grid_template_rows": null,
            "height": null,
            "justify_content": null,
            "justify_items": null,
            "left": null,
            "margin": null,
            "max_height": null,
            "max_width": null,
            "min_height": null,
            "min_width": null,
            "object_fit": null,
            "object_position": null,
            "order": null,
            "overflow": null,
            "overflow_x": null,
            "overflow_y": null,
            "padding": null,
            "right": null,
            "top": null,
            "visibility": null,
            "width": null
          }
        },
        "94ffb885458f4c69b5b795ca479814b5": {
          "model_module": "@jupyter-widgets/controls",
          "model_name": "DescriptionStyleModel",
          "model_module_version": "1.5.0",
          "state": {
            "_model_module": "@jupyter-widgets/controls",
            "_model_module_version": "1.5.0",
            "_model_name": "DescriptionStyleModel",
            "_view_count": null,
            "_view_module": "@jupyter-widgets/base",
            "_view_module_version": "1.2.0",
            "_view_name": "StyleView",
            "description_width": ""
          }
        }
      }
    }
  },
  "cells": [
    {
      "cell_type": "markdown",
      "source": [
        "#**Huellas digitales moleculares (molecular fingerprints)**\n",
        "\n",
        "\n",
        "---\n",
        "\n",
        "\n",
        "\n",
        "---\n",
        "\n"
      ],
      "metadata": {
        "id": "-5Kw6AfvgYEw"
      }
    },
    {
      "cell_type": "markdown",
      "source": [
        "Script realizado por Raziel Cedillo-González.\n",
        "Última actualización: 26-09-2023.\n",
        "Contacto: brayanraziel1997@gmail.com\n",
        "\n",
        "\n",
        "---\n",
        "\n",
        "\n",
        "\n",
        "---\n",
        "\n",
        "\n",
        "\n",
        "\n"
      ],
      "metadata": {
        "id": "hgvtAMurX-B1"
      }
    },
    {
      "cell_type": "markdown",
      "source": [
        "# ***Tabla de Contenido***\n",
        "- [0 - ***Librerias: cargado e instalación***](#0)\n",
        "- [1 - ***Introducción***](#1)\n",
        "- [2 - ***Huellas moleculares basadas en subestructuras***](#2)\n",
        "  - [2.1 - **Key MACCS**](#2.1)\n",
        "    - [2.1.1 - *Visualización gráfica de la huella molecular*](#2.1.1)\n",
        "\n",
        "  - [2.2 - **PubChem**](#2.2)\n",
        "  - [2.3 - **BCI (Bristol Chemoinformatics Library Fingerprint)**](#2.2)\n",
        "\n",
        "- [3 - ***Huellas topológicas o basadas en rutas***](#3)\n",
        "- [4 - ***Huellas circulares***](#4)\n",
        "  - [4.1 - **Conectividad extendida (ECFP4, ECFP6)**](#4.1)\n",
        "  - [4.2 - **De clase funcional (FCFP)**](#4.2)\n",
        "- [5 - ***Referencias y fuentes de consulta***](#5)\n",
        "\n",
        "\n",
        "\n",
        "---\n",
        "\n",
        "\n",
        "\n",
        "---\n",
        "\n",
        "\n"
      ],
      "metadata": {
        "id": "g53srq99rB8D"
      }
    },
    {
      "cell_type": "markdown",
      "source": [
        "<a name='0'></a>\n",
        "\n",
        "# **Librerias: cargado e instalación**"
      ],
      "metadata": {
        "id": "89t9vQ6rrFsr"
      }
    },
    {
      "cell_type": "code",
      "execution_count": 128,
      "metadata": {
        "colab": {
          "base_uri": "https://localhost:8080/",
          "height": 49,
          "referenced_widgets": [
            "2b03f4e935ff480f8701f4721ab64bfe",
            "cd431a44506246da8e791caa123b9303",
            "d6ff18b7b7944959a45f052c4b7f9223",
            "f5735a87fc304a2fb82f1ffb1215dac2",
            "6e4b6e0a392c4f4d9ca95b2c2cd84a97",
            "9c0ee208fbc84cb3a515de72fd2ec136",
            "8ec95ced399145eb8da45d616d3af56d",
            "c649b9e4dae94f0f95f3537096407367",
            "22a1f3360c92417eb857b6e67c6e58f5",
            "d9451a44377e48e9b8995d5fd88fbff0",
            "94ffb885458f4c69b5b795ca479814b5"
          ]
        },
        "id": "rByellb8aRDV",
        "outputId": "73517fba-1f32-45b4-ff47-243156c397a2"
      },
      "outputs": [
        {
          "output_type": "display_data",
          "data": {
            "text/plain": [
              "  0%|          | 0/100 [00:00<?, ?it/s]"
            ],
            "application/vnd.jupyter.widget-view+json": {
              "version_major": 2,
              "version_minor": 0,
              "model_id": "2b03f4e935ff480f8701f4721ab64bfe"
            }
          },
          "metadata": {}
        }
      ],
      "source": [
        "import time\n",
        "from IPython.utils import io\n",
        "import tqdm.notebook\n",
        "import os, sys, random\n",
        "total = 100\n",
        "with tqdm.notebook.tqdm(total=total) as pbar:\n",
        "    with io.capture_output() as captured:\n",
        "        pbar.update(30)\n",
        "\n",
        "        !pip install rdkit\n",
        "        !pip install PubChemPy\n",
        "        pbar.update(30)\n",
        "\n",
        "        from rdkit import Chem, DataStructs\n",
        "        from rdkit.Chem import MACCSkeys, AllChem, RDKFingerprint\n",
        "        import pubchempy as pcp\n",
        "        import matplotlib.pyplot as plt\n",
        "        import numpy as np\n",
        "        pbar.update(40)"
      ]
    },
    {
      "cell_type": "markdown",
      "source": [
        "<a name='1'></a>\n",
        "\n",
        "# **1 - Introducción**\n",
        "Las huellas digitales moleculares (molecular fingerprints) son un tipo de descriptor molecular que codifica la estructura de una molécula en una secuencia de bits de manera que se pueda comparar y analizar computacionalmente.\n",
        "\n",
        "La mayoría de los métodos usan solamente grafos moleculares en 2D y son llamados huellas digitales 2D; sin embargo, algunos métodos son capaces de almacenar información en 3D, más notablemente las huellas moleculares farmacofóricas.\n",
        "Existen varios tipos de huellas digitales, incluyendo huellas digitales basadas en subestructuras, como las \"claves MACCS\" (key MACCS), y huellas digitales topológicas, que codifican la topología general o la conectividad de la molécula sin codificar explícitamente subestructuras específicas.\n",
        "\n",
        "En aspectos generales, las huellas digitales basadas en subestructuras se crean codificando la presencia o ausencia de subestructuras específicas en la molécula, mientras que las huellas digitales topológicas codifican la conectividad o forma general de la molécula. Las huellas digitales topológicas se pueden subdividir en huellas digitales basadas en rutas, que codifican la presencia o ausencia de rutas particulares en la representación gráfica de la molécula, y huellas digitales circulares, que codifican la presencia o ausencia de subestructuras circulares o patrones particulares.\n",
        "\n",
        "Las huellas digitales se utilizan típicamente para calcular la similitud entre dos moléculas, lo que se puede utilizar para identificar moléculas que son estructuralmente similares y que pueden tener una actividad biológica similar, lo que las convierte en posibles candidatos a fármacos. Las puntuaciones de similitud se calculan típicamente comparando las huellas digitales de dos moléculas y calculando una puntuación de similitud.\n",
        "\n",
        "El uso de huellas digitales moleculares en quimioinformática tiene muchas ventajas, incluyendo la capacidad de representar estructuras moleculares complejas de manera eficiente computacionalmente y la capacidad de comparar grandes bases de datos de moléculas de manera rápida y precisa. Sin embargo, también hay limitaciones en el uso de huellas digitales, como la incapacidad de capturar todos los aspectos de la similitud molecular y el potencial de falsos positivos o falsos negativos en los cálculos de similitud.\n",
        "\n",
        "En general, las huellas digitales moleculares son una herramienta poderosa en quimioinformática que se utilizan ampliamente en el descubrimiento de fármacos, ciencias de materiales y otras áreas de investigación. La elección del tipo de huella digital dependerá de la aplicación específica y las propiedades de las moléculas que se estén analizando.\n",
        "\n",
        "Nota: La generación de los diversos fingerprints de este script consideran el SMILES de la aspirina como input para fines prácticos."
      ],
      "metadata": {
        "id": "leNdMCitgGMf"
      }
    },
    {
      "cell_type": "code",
      "source": [
        "aspirin_smiles='CC(C)(C)NCC(C1=CC(=C(C=C1)O)CO)O'"
      ],
      "metadata": {
        "id": "FPQ5h7Wxc8v1"
      },
      "execution_count": 146,
      "outputs": []
    },
    {
      "cell_type": "markdown",
      "source": [
        "<a name='2'></a>\n",
        "\n",
        "# **2 - Huellas moleculares basadas en subestructuras**\n",
        "\n",
        "\n",
        "Las firmas basadas en subestructuras se generan mediante la codificación de la presencia o ausencia de una carácteristica o subestructuras específicas en una molécula de una lista dada de claves estructurales. Esto implica definir un conjunto de subestructuras o fragmentos moleculares que se consideran importantes o relevantes para una aplicación específica y, luego, generar una firma binaria que codifique si cada una de estas subestructuras está presente o ausente en la molécula. Algunas de las huellas basadas en subestructuras más comunes son:"
      ],
      "metadata": {
        "id": "qBlvSVxPr8q6"
      }
    },
    {
      "cell_type": "markdown",
      "source": [
        "<a name='2.1'></a>\n",
        "\n",
        "## **2.1 - MACCS Keys**\n",
        " Viene en dos variantes de fierente longitud de bits, una con 960 y otra con 166 claves estructurales basadas en patrones SMARTS. La más corta es la más comúnmente usada debido a su longitud relativamente corta pero cubre la mayor parte de las características químicas de interés para el descubrimiento de fármacos y cribado virtual. Además, diversos softwares son capaces de calcularlos, lo cual no es cierto para la versión larga.\n",
        "A continuación, un ejemplo de código en el cual se establece el uso de MACCS keys"
      ],
      "metadata": {
        "id": "ug--zlJ9sme2"
      }
    },
    {
      "cell_type": "code",
      "source": [
        "# Definir las moléculas\n",
        "ms = [Chem.MolFromSmiles(aspirin_smiles),\n",
        "      Chem.MolFromSmiles('CCO'),\n",
        "      Chem.MolFromSmiles('COC')]\n",
        "# Generar las MACCS Keys para cada molécula\n",
        "fps = [MACCSkeys.GenMACCSKeys(x) for x in ms]\n",
        "\n",
        "# Convertir las MACCS Keys en una representación legible\n",
        "for i, fp in enumerate(fps):\n",
        "    fps_bits=list(fp.GetOnBits())\n",
        "    print(f\"Molécula {i+1}:\")\n",
        "    print(f\"Key MACCS: {fp.ToBitString()}\")\n",
        "    print(f\"Lista de bits activos: {fps_bits}\")"
      ],
      "metadata": {
        "colab": {
          "base_uri": "https://localhost:8080/"
        },
        "id": "tsM3Z16BdUbH",
        "outputId": "f8dd66c9-bea0-4dee-fe71-1d4023db5da3"
      },
      "execution_count": 147,
      "outputs": [
        {
          "output_type": "stream",
          "name": "stdout",
          "text": [
            "Molécula 1:\n",
            "Key MACCS: 00000000000000000000000000000000000000000000000000000110000000000010000000100000001000000110000100001000100001001100100000000001000110000011010110100111110111111111110\n",
            "Lista de bits activos: [53, 54, 66, 74, 82, 89, 90, 95, 100, 104, 109, 112, 113, 116, 127, 131, 132, 138, 139, 141, 143, 144, 146, 149, 150, 151, 152, 153, 155, 156, 157, 158, 159, 160, 161, 162, 163, 164, 165]\n",
            "Molécula 2:\n",
            "Key MACCS: 00000000000000000000000000000000000000000000000000000000000000000000000000000000001000000000000000000000000001000010000000000000000000000001000000000000010101001000100\n",
            "Lista de bits activos: [82, 109, 114, 139, 153, 155, 157, 160, 164]\n",
            "Molécula 3:\n",
            "Key MACCS: 00000000000000000000000000000000000000000000000000000000000000000000000000100000000000100000010000000000000000000000000000000010000000000000000000000100000001001000100\n",
            "Lista de bits activos: [74, 86, 93, 126, 149, 157, 160, 164]\n"
          ]
        }
      ]
    },
    {
      "cell_type": "markdown",
      "source": [
        "<a name='2.1.1'></a>\n",
        "\n",
        "### 2.1.1 - Visualización gráfica de la huella mecular\n",
        "#### Gráfico de barras o histograma"
      ],
      "metadata": {
        "id": "4XwWh6d-t-qT"
      }
    },
    {
      "cell_type": "code",
      "source": [
        "def visualización_fps_completa(fps):\n",
        "  bit_counts = [fps.GetBit(id) for id in range(fps.GetNumBits())]   # Contar la frecuencia de cada bit activo\n",
        "  # Crear un histograma\n",
        "  plt.figure(figsize=(9,4))\n",
        "  plt.bar(range(len(bit_counts)), bit_counts)\n",
        "  plt.xlabel(\"Índice del bit\")\n",
        "  plt.ylabel(\"Frecuencia\")\n",
        "  plt.title(\"Histograma de la Huella molecular\")\n",
        "  plt.tight_layout()\n",
        "  plt.show()"
      ],
      "metadata": {
        "id": "yC95DJIstFaa"
      },
      "execution_count": 140,
      "outputs": []
    },
    {
      "cell_type": "code",
      "source": [
        "def visualización_fps_activos(fps):\n",
        "  for fp, i in enumerate(fps):\n",
        "    bit_counts = [i.GetBit(id) for id in range(i.GetNumBits())]     # Contar la frecuencia de cada bit activo\n",
        "    # Obtener los índices de los bits activos (distintos de cero)\n",
        "    active_indices = [i for i, bit in enumerate(bit_counts) if bit != 0]\n",
        "    # Crear una lista de etiquetas para el eje x con los índices activos\n",
        "    x_labels = [str(i) for i in active_indices]\n",
        "\n",
        "    # Crear un histograma\n",
        "    plt.figure(figsize=(15, 4))\n",
        "    plt.bar(active_indices, [bit_counts[i] for i in active_indices])\n",
        "    plt.xlabel(\"Índice del bit\")\n",
        "    plt.ylabel(\"Frecuencia\")\n",
        "    plt.title(\"Histograma de la Huella molecular de la \"+f\"Molécula {fp+1}:\")\n",
        "    plt.yticks(np.arange(0, 1.1, step=1.0))\n",
        "    plt.xticks(active_indices, x_labels, rotation=90)  # Establecer las etiquetas del eje x\n",
        "    plt.tight_layout()\n",
        "    plt.show()"
      ],
      "metadata": {
        "id": "ZFk8JTLLziOC"
      },
      "execution_count": 143,
      "outputs": []
    },
    {
      "cell_type": "code",
      "source": [
        "visualización_fps_activos(fps=fps)"
      ],
      "metadata": {
        "colab": {
          "base_uri": "https://localhost:8080/",
          "height": 1000
        },
        "id": "1z_m0G16uUyy",
        "outputId": "f585747b-36bb-41f9-afe1-eb000972916b"
      },
      "execution_count": 144,
      "outputs": [
        {
          "output_type": "display_data",
          "data": {
            "text/plain": [
              "<Figure size 1500x400 with 1 Axes>"
            ],
            "image/png": "[encoded data removed]"
          },
          "metadata": {}
        },
        {
          "output_type": "display_data",
          "data": {
            "text/plain": [
              "<Figure size 1500x400 with 1 Axes>"
            ],
            "image/png": "[encoded data removed]"
          },
          "metadata": {}
        },
        {
          "output_type": "display_data",
          "data": {
            "text/plain": [
              "<Figure size 1500x400 with 1 Axes>"
            ],
            "image/png": "[encoded data removed]"
          },
          "metadata": {}
        }
      ]
    },
    {
      "cell_type": "markdown",
      "source": [
        "<a name='2.2'></a>\n",
        "\n",
        "## **2.2 - PubChem**\n",
        "Cuenta con 881 claves estructurales. Son empleados por PubChem para la búsqueda por similitud y por vecinos. Está implementado en ChemFP y en CDK.\n",
        "A continuación, un ejemplo de código en el cual se establece el uso de las huellas moleculares de PubChem."
      ],
      "metadata": {
        "id": "3AvoWE7Vwry8"
      }
    },
    {
      "cell_type": "code",
      "source": [
        "# Nombre o identificador del compuesto que deseas buscar\n",
        "compound_name = \"aspirin\"\n",
        "\n",
        "# Realiza la búsqueda en PubChem\n",
        "compounds = pcp.get_compounds(compound_name, 'name')\n",
        "if compounds:\n",
        "    # Obtiene el primer resultado (puede haber múltiples resultados)\n",
        "    compound = compounds[0]\n",
        "    # Obtiene la huella molecular de PubChem\n",
        "    fingerprint = compound.fingerprint\n",
        "    posiciones_no_cero = {}\n",
        "    # Enumerar el string y agregar las posiciones con valores no cero a un diccionario\n",
        "    for i, valor in enumerate(fingerprint):\n",
        "        if valor != '0':\n",
        "            posiciones_no_cero[i] = valor\n",
        "\n",
        "    print(f\"Nombre del compuesto: {compound.synonyms[0]}\")\n",
        "    print(f\"Lista de bits activos (posición:valor)= {posiciones_no_cero}\")\n",
        "    print(f\"Huella molecular PubChem: {fingerprint}\")\n",
        "\n",
        "else:\n",
        "    print(f\"No se encontraron resultados para '{compound_name}'.\")"
      ],
      "metadata": {
        "colab": {
          "base_uri": "https://localhost:8080/"
        },
        "id": "vdkK9NmyfZ9W",
        "outputId": "3e56db03-2812-41a1-d2bf-d401cbbdf046"
      },
      "execution_count": 145,
      "outputs": [
        {
          "output_type": "stream",
          "name": "stdout",
          "text": [
            "Nombre del compuesto: aspirin\n",
            "Lista de bits activos (posición:valor)= {5: '3', 6: '7', 7: '1', 8: 'C', 10: '7', 12: '3', 13: '8', 52: '3', 71: '1', 78: '1', 79: 'A', 85: '8', 91: 'C', 93: '4', 94: '8', 96: '9', 97: '8', 100: '3', 101: '2', 103: 'E', 104: '8', 109: '6', 112: '8', 113: '8', 115: '2', 116: '2', 118: 'D', 119: '2', 121: '8', 125: '2', 127: '8', 130: '2', 131: '4', 132: '2', 137: '8', 138: '8', 139: '8', 141: '1', 143: '6', 145: '8', 146: 'C', 147: '8', 149: 'C', 150: '2', 151: '7', 152: '3', 153: '6', 154: '8', 155: '4', 156: '3', 157: '5', 158: '1', 159: 'A', 160: '8', 161: '2', 162: '7', 163: 'B', 164: '6', 166: 'A', 167: '5', 168: 'E', 170: '1', 171: '1', 173: '8', 174: 'B', 175: '9', 176: '8', 177: '7', 178: '8', 179: '8', 180: 'C', 181: '8', 182: '2', 184: '8', 185: 'E', 197: '8', 212: '1'}\n",
            "Huella molecular PubChem: 00000371C0703800000000000000000000000000000000000000300000000000000000010000001A00000800000C04809800320E80000600880220D208000208002420000888010608C80C273684351A827B60A5E01108B98788C8208E00000000000800000000000000100000000000000000\n"
          ]
        }
      ]
    },
    {
      "cell_type": "markdown",
      "source": [
        "<a name='2.3'></a>\n",
        "\n",
        "## **2.3 - BCI (Bristol Chemoinformatics Library Fingerprint)**\n",
        "Pueden ser generados usando diferentes números de bits y puede ser modificado por el usuario de diversas maneras pero el diccionario estándar de subestructuras incluye 1052 claves. Solo está disponible en el kit de herramientas de BCI.\n",
        "A continuación, un ejemplo de código en el cual se establece el uso de las huellas moleculares de BCI."
      ],
      "metadata": {
        "id": "dNKl6_Mdwwwg"
      }
    },
    {
      "cell_type": "code",
      "source": [
        "# Crear una molécula a partir de un SMILES\n",
        "smiles = aspirin_smiles\n",
        "mol = Chem.MolFromSmiles(smiles)\n",
        "\n",
        "if mol is not None:\n",
        "    # Generar la huella molecular BCI\n",
        "    bci_fingerprint = MACCSkeys.GenMACCSKeys(mol)\n",
        "\n",
        "    # Convertir la huella molecular BCI en una representación legible\n",
        "    bci_fingerprint_bits = list(bci_fingerprint.GetOnBits()) #unicamnete se imprimen los bits activos\n",
        "    print(f\"Lista de bits activos: {bci_fingerprint_bits}\")\n",
        "    print(f\"BCI: {bci_fingerprint.ToBitString()}\")\n",
        "\n",
        "else:\n",
        "    print(\"No se pudo crear una molécula a partir del SMILES proporcionado.\")"
      ],
      "metadata": {
        "colab": {
          "base_uri": "https://localhost:8080/"
        },
        "id": "iM0yes3BfknC",
        "outputId": "a49bc2e2-cc3a-4ce9-dd8b-c85a8d248852"
      },
      "execution_count": 148,
      "outputs": [
        {
          "output_type": "stream",
          "name": "stdout",
          "text": [
            "Lista de bits activos: [53, 54, 66, 74, 82, 89, 90, 95, 100, 104, 109, 112, 113, 116, 127, 131, 132, 138, 139, 141, 143, 144, 146, 149, 150, 151, 152, 153, 155, 156, 157, 158, 159, 160, 161, 162, 163, 164, 165]\n",
            "BCI: 00000000000000000000000000000000000000000000000000000110000000000010000000100000001000000110000100001000100001001100100000000001000110000011010110100111110111111111110\n"
          ]
        }
      ]
    },
    {
      "cell_type": "markdown",
      "source": [
        "<a name='3'></a>\n",
        "\n",
        "# **3 - Huellas moleculares topológicas o basadas en rutas**\n",
        "Las firmas topológicas se generan mediante la codificación de la conectividad o forma general de una molécula, sin codificar explícitamente subestructuras específicas. Trabajan al analizar todos los fragmentos de la molécula siguiendo un camino (usualmente lineal) hasta un cierto número de enlaces, y después combinar cada una de estas rutas (secuencias de átomos o enlaces) para crear la huella molecular. Lo anterior significa que cualquier molécula puede producir una huella molecular significativa y su longitud puede ser ajustada. Son usados comúnmente para una veloz búsqueda y filtrado por subestructuras. Se debe tomar en cuenta que un solo bit no se puede rastrear hasta una característica determinada y un bit determinado puede estar configurado por más de una característica diferente (colisión de bits). La mayoría de los softwares implementan estas huellas moleculares o basadas en ellas. Daylight es el ejemplo más común de este tipo de huellas moleculares.\n",
        "A continuación, un ejemplo de código en el cual se establece el uso de las huellas moleculares topológicas."
      ],
      "metadata": {
        "id": "a1xkab7fw7_W"
      }
    },
    {
      "cell_type": "code",
      "source": [
        "# Crear una molécula a partir de un SMILES\n",
        "smiles = aspirin_smiles\n",
        "mol = Chem.MolFromSmiles(smiles)\n",
        "\n",
        "if mol is not None:\n",
        "    # Generar la huella molecular topológica (Morgan fingerprint)\n",
        "    radius = 2  # Radio de búsqueda ajustable\n",
        "    morgan_fingerprint = AllChem.GetMorganFingerprintAsBitVect(mol, radius, nBits=2048)\n",
        "    # Convertir la huella molecular en una lista de bits activos\n",
        "    morgan_fingerprint_bits = list(morgan_fingerprint.GetOnBits())\n",
        "\n",
        "    print(f\"Lista de bits activos: {morgan_fingerprint_bits}\")\n",
        "    print(f\"Huella topológica (Morgan):{morgan_fingerprint.ToBitString()}\")\n",
        "else:\n",
        "    print(\"No se pudo crear una molécula a partir del SMILES proporcionado.\")"
      ],
      "metadata": {
        "colab": {
          "base_uri": "https://localhost:8080/"
        },
        "id": "t4_eMy5Hicj-",
        "outputId": "91eb8cfd-0c56-465f-edfd-2b6e58f691a5"
      },
      "execution_count": 127,
      "outputs": [
        {
          "output_type": "stream",
          "name": "stdout",
          "text": [
            "Lista de bits activos: [80, 222, 294, 807, 1057, 1410]\n",
            "Huella topológica (Morgan):00000000000000000000000000000000000000000000000000000000000000000000000000000000100000000000000000000000000000000000000000000000000000000000000000000000000000000000000000000000000000000000000000000000000000000000000000000010000000000000000000000000000000000000000000000000000000000000000000000010000000000000000000000000000000000000000000000000000000000000000000000000000000000000000000000000000000000000000000000000000000000000000000000000000000000000000000000000000000000000000000000000000000000000000000000000000000000000000000000000000000000000000000000000000000000000000000000000000000000000000000000000000000000000000000000000000000000000000000000000000000000000000000000000000000000000000000000000000000000000000000000000000000000000000000000000000000000000000000000000000000000000000000000000000000010000000000000000000000000000000000000000000000000000000000000000000000000000000000000000000000000000000000000000000000000000000000000000000000000000000000000000000000000000000000000000000000000000000000000000000000000000000000000000000000000000000001000000000000000000000000000000000000000000000000000000000000000000000000000000000000000000000000000000000000000000000000000000000000000000000000000000000000000000000000000000000000000000000000000000000000000000000000000000000000000000000000000000000000000000000000000000000000000000000000000000000000000000000000000000000000000000000000000000000000000010000000000000000000000000000000000000000000000000000000000000000000000000000000000000000000000000000000000000000000000000000000000000000000000000000000000000000000000000000000000000000000000000000000000000000000000000000000000000000000000000000000000000000000000000000000000000000000000000000000000000000000000000000000000000000000000000000000000000000000000000000000000000000000000000000000000000000000000000000000000000000000000000000000000000000000000000000000000000000000000000000000000000000000000000000000000000000000000000000000000000000000000000000000000000000000000000000000000000000000000000000000000000000000000000000000000000\n"
          ]
        }
      ]
    },
    {
      "cell_type": "markdown",
      "source": [
        "<a name='4'></a>\n",
        "\n",
        "# **4 - Huellas moleculares circulares**\n",
        "Las firmas circulares también pertenecen al tipo topológico, sin embargo son un tanto diferentes ya que estas no se centran en la búsqueda de rutas, sino en el ambiente de cada átomo hasta un determinado radio. No son adecuados para búsquedas por subestructura pero si para búsquedas de similitud estructural completa."
      ],
      "metadata": {
        "id": "uX_YM0w4x0P_"
      }
    },
    {
      "cell_type": "markdown",
      "source": [
        "<a name='4.1'></a>\n",
        "\n",
        "## **4.1 - Conectividad extendida (ECFP, Extended-Connectivity Fingerprints)**\n",
        "La huella molecular circular basada en el algoritmo de Morgan es la estándar, la cual fue diseñada específicamente para su uso en modelado estructura-actividad. Representan el vecindario atómico circular y produce una huella molecular de longitud variable. Son usadas comúnmente considerando un diámetro de 4 Å (ECFP4) y 6 Å (ECFP6). Notables softwares proporcionan estas huellas moleculares, tales como: Pipeline Pilot, Chemaxon’s JChem, CDK y RDKit.\n",
        "A continuación, un ejemplo de código en el cual se establece el uso de las huellas moleculares circulares."
      ],
      "metadata": {
        "id": "v90O8YvverIR"
      }
    },
    {
      "cell_type": "code",
      "source": [
        "# Crear una molécula a partir de un SMILES\n",
        "smiles = aspirin_smiles\n",
        "mol = Chem.MolFromSmiles(smiles)\n",
        "\n",
        "if mol is not None:\n",
        "    # Generar la huella molecular ECFP4 (con radio 2)\n",
        "    ecfp4_fingerprint = AllChem.GetMorganFingerprintAsBitVect(mol, radius=2, nBits=2048)\n",
        "    # Generar la huella molecular ECFP6 (con radio 3)\n",
        "    ecfp6_fingerprint = AllChem.GetMorganFingerprintAsBitVect(mol, radius=3, nBits=2048)\n",
        "\n",
        "    # Convertir las huellas digitales en representaciones legibles\n",
        "    ecfp4_fingerprint_bits = list(ecfp4_fingerprint.GetOnBits())\n",
        "    ecfp6_fingerprint_bits = list(ecfp6_fingerprint.GetOnBits())\n",
        "\n",
        "\n",
        "    print(f\"Lista de bits activos en ECFP4: {ecfp4_fingerprint_bits}\")\n",
        "    print(f\"Huella molecular ECFP4: {ecfp4_fingerprint.ToBitString()}\")\n",
        "    print(f\"Lista de bits activos en ECFP6: {ecfp6_fingerprint_bits}\")\n",
        "    print(f\"Huella molecular ECFP6: {ecfp6_fingerprint.ToBitString()}\")\n",
        "else:\n",
        "    print(\"No se pudo crear una molécula a partir del SMILES proporcionado.\")\n"
      ],
      "metadata": {
        "colab": {
          "base_uri": "https://localhost:8080/"
        },
        "id": "mNHNMnfzYVNz",
        "outputId": "0d52ad57-992b-40cf-fbd1-bbf06bd0f95c"
      },
      "execution_count": 151,
      "outputs": [
        {
          "output_type": "stream",
          "name": "stdout",
          "text": [
            "Lista de bits activos en ECFP4: [1, 80, 89, 114, 222, 227, 269, 392, 548, 603, 606, 632, 705, 807, 837, 843, 875, 1057, 1152, 1349, 1362, 1365, 1380, 1434, 1475, 1537, 1573, 1578, 1602, 1607, 1750, 1853, 1873]\n",
            "Huella molecular ECFP4: 01000000000000000000000000000000000000000000000000000000000000000000000000000000100000000100000000000000000000000010000000000000000000000000000000000000000000000000000000000000000000000000000000000000000000000000000000000010000100000000000000000000000000000000000000000100000000000000000000000000000000000000000000000000000000000000000000000000000000000000000000000000000000000000000000000000100000000000000000000000000000000000000000000000000000000000000000000000000000000000000000000000000000000000000000000000000000000000000000000000000000000000100000000000000000000000000000000000000000000000000000010010000000000000000000000000100000000000000000000000000000000000000000000000000000000000000000000000010000000000000000000000000000000000000000000000000000000000000000000000000000000000000000000000000000010000000000000000000000000000010000010000000000000000000000000000000100000000000000000000000000000000000000000000000000000000000000000000000000000000000000000000000000000000000000000000000000000000000000000000000000000000000000000000000000000000000001000000000000000000000000000000000000000000000000000000000000000000000000000000000000000000000010000000000000000000000000000000000000000000000000000000000000000000000000000000000000000000000000000000000000000000000000000000000000000000000000000000000000000000000000000000000000000000000000000100000000000010010000000000000010000000000000000000000000000000000000000000000000000010000000000000000000000000000000000000000100000000000000000000000000000000000000000000000000000000000001000000000000000000000000000000000001000010000000000000000000000010000100000000000000000000000000000000000000000000000000000000000000000000000000000000000000000000000000000000000000000000000000000000000000000000001000000000000000000000000000000000000000000000000000000000000000000000000000000000000000000000000000000100000000000000000001000000000000000000000000000000000000000000000000000000000000000000000000000000000000000000000000000000000000000000000000000000000000000000000000000000000000000000000000000000\n",
            "Lista de bits activos en ECFP6: [1, 80, 89, 114, 222, 227, 269, 279, 392, 548, 603, 606, 624, 632, 655, 705, 807, 837, 843, 875, 996, 1057, 1152, 1223, 1349, 1362, 1365, 1380, 1434, 1444, 1450, 1475, 1537, 1573, 1578, 1602, 1607, 1750, 1853, 1873, 2010]\n",
            "Huella molecular ECFP6: 01000000000000000000000000000000000000000000000000000000000000000000000000000000100000000100000000000000000000000010000000000000000000000000000000000000000000000000000000000000000000000000000000000000000000000000000000000010000100000000000000000000000000000000000000000100000000010000000000000000000000000000000000000000000000000000000000000000000000000000000000000000000000000000000000000000100000000000000000000000000000000000000000000000000000000000000000000000000000000000000000000000000000000000000000000000000000000000000000000000000000000000100000000000000000000000000000000000000000000000000000010010000000000000000010000000100000000000000000000001000000000000000000000000000000000000000000000000010000000000000000000000000000000000000000000000000000000000000000000000000000000000000000000000000000010000000000000000000000000000010000010000000000000000000000000000000100000000000000000000000000000000000000000000000000000000000000000000000000000000000000000000000000000000000000000000000010000000000000000000000000000000000000000000000000000000000001000000000000000000000000000000000000000000000000000000000000000000000000000000000000000000000010000000000000000000000000000000000000000000000000000000000000000000000100000000000000000000000000000000000000000000000000000000000000000000000000000000000000000000000000000000000000000000000000000100000000000010010000000000000010000000000000000000000000000000000000000000000000000010000000001000001000000000000000000000000100000000000000000000000000000000000000000000000000000000000001000000000000000000000000000000000001000010000000000000000000000010000100000000000000000000000000000000000000000000000000000000000000000000000000000000000000000000000000000000000000000000000000000000000000000000001000000000000000000000000000000000000000000000000000000000000000000000000000000000000000000000000000000100000000000000000001000000000000000000000000000000000000000000000000000000000000000000000000000000000000000000000000000000000000000000000000000000000000000010000000000000000000000000000000000000\n"
          ]
        }
      ]
    },
    {
      "cell_type": "markdown",
      "source": [
        "<a name='4.2'></a>\n",
        "\n",
        "## **4.2 - De clase funcional (FCFP, Functional-Class Fingerprints)**\n",
        "\n",
        "Son una variante de los ECFP, solo que más abstractos y que en lugar de indexar un átomo particular en el ambiente, indexan el rol del átomo. Así que diferentes átomos o grupos con la misma o similar función no son distinguibles por la huella molecular. Lo anterior les permite ser usado como huellas moleculares farmacofóricas. La mayoría de los softwares que soportan ECFP también soportan esta variante."
      ],
      "metadata": {
        "id": "XnKQO92ae2Qk"
      }
    },
    {
      "cell_type": "code",
      "source": [
        "# Crear una molécula a partir de un SMILES\n",
        "smiles = aspirin_smiles\n",
        "mol = Chem.MolFromSmiles(smiles)\n",
        "\n",
        "if mol is not None:\n",
        "    # Configurar parámetros para la huella digital FCFP\n",
        "    radius = 2  # Radio ajustable\n",
        "    use_features = True  # Indexación del rol del átomo\n",
        "    # Generar la huella digital FCFP\n",
        "    fcfp_fingerprint = AllChem.GetMorganFingerprintAsBitVect(mol, radius=radius, useFeatures=use_features, nBits=2048)\n",
        "    # Convertir la huella digital en una representación legible\n",
        "    fcfp_fingerprint_bits = list(fcfp_fingerprint.GetOnBits())\n",
        "\n",
        "    print(f\"Lista de bits activos en FCFP: {fcfp_fingerprint_bits}\")\n",
        "    print(f\"Huella molecular FCFP: {fcfp_fingerprint.ToBitString()}\")\n",
        "else:\n",
        "    print(\"No se pudo crear una molécula a partir del SMILES proporcionado.\")\n"
      ],
      "metadata": {
        "colab": {
          "base_uri": "https://localhost:8080/"
        },
        "id": "cZ3LfUoLdpvp",
        "outputId": "f33c5343-8ec1-4611-e39b-0d11de8f351a"
      },
      "execution_count": 157,
      "outputs": [
        {
          "output_type": "stream",
          "name": "stdout",
          "text": [
            "Lista de bits activos en FCFP: [0, 3, 4, 19, 149, 199, 428, 478, 585, 772, 808, 821, 869, 875, 1011, 1014, 1085, 1099, 1161, 1394, 1434, 1556, 1925, 1971, 2017, 2041]\n",
            "Huella molecular FCFP: 10011000000000000001000000000000000000000000000000000000000000000000000000000000000000000000000000000000000000000000000000000000000000000000000000000100000000000000000000000000000000000000000000000001000000000000000000000000000000000000000000000000000000000000000000000000000000000000000000000000000000000000000000000000000000000000000000000000000000000000000000000000000000000000000000000000000000000000000000000000000000000000100000000000000000000000000000000000000000000000001000000000000000000000000000000000000000000000000000000000000000000000000000000000000000000000000000000000010000000000000000000000000000000000000000000000000000000000000000000000000000000000000000000000000000000000000000000000000000000000000000000000000000000000000000000000000000000000000000001000000000000000000000000000000000001000000000000100000000000000000000000000000000000000000000000100000100000000000000000000000000000000000000000000000000000000000000000000000000000000000000000000000000000000000000000000000000000000000000010010000000000000000000000000000000000000000000000000000000000000000000000100000000000001000000000000000000000000000000000000000000000000000000000000010000000000000000000000000000000000000000000000000000000000000000000000000000000000000000000000000000000000000000000000000000000000000000000000000000000000000000000000000000000000000000000000000000000000000000000000000000000000000000100000000000000000000000000000000000000010000000000000000000000000000000000000000000000000000000000000000000000000000000000000000000000000000000000000000000000000100000000000000000000000000000000000000000000000000000000000000000000000000000000000000000000000000000000000000000000000000000000000000000000000000000000000000000000000000000000000000000000000000000000000000000000000000000000000000000000000000000000000000000000000000000000000000000000000000000000000000000000000000000000000000000000000000000000000000000000000000000000100000000000000000000000000000000000000000000010000000000000000000000000000000000000000000001000000000000000000000001000000\n"
          ]
        }
      ]
    },
    {
      "cell_type": "markdown",
      "source": [
        "<a name='5'></a>\n",
        "\n",
        "# **5 - Referencias y fuentes de consulta**\n",
        "\n",
        "* Gallegos Saliner A. 2006. “Mini-Review on Chemical Similarity and Prediction of Toxicity.” Current Computer-Aided Drug Design 2 (2): 105–22.\n",
        "* Maggiora, Gerald, Martin Vogt, Dagmar Stumpfe, and Jürgen Bajorath. 2014. “Molecular Similarity in Medicinal Chemistry.” Journal of Medicinal Chemistry 57 (8): 3186–3204.\n",
        "* Naveja, J. Jesús, Fernanda I. Saldívar-González, Norberto Sánchez-Cruz, and José L. Medina-Franco. 2019. “Cheminformatics Approaches to Study Drug Polypharmacology.” In Multi-Target Drug Design Using Chem-Bioinformatic Approaches, edited by Kunal Roy, 3–25. New York, NY: Springer New York.\n",
        "* A.h.-L., and Y.g.s. 1992. “Concepts and Applications of Molecular Similarity.” Journal of Molecular Structure 269 (3-4): 376–77.\n",
        "* Cereto-Massagué, Adrià, María José Ojeda, Cristina Valls, Miquel Mulero, Santiago Garcia-Vallvé, and Gerard Pujadas. 2015. “Molecular Fingerprint Similarity Search in Virtual Screening.” Methods 71 (January): 58–63."
      ],
      "metadata": {
        "id": "bjFq2uYwlZeA"
      }
    }
  ]
}